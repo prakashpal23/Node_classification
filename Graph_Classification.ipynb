{
 "cells": [
  {
   "cell_type": "code",
   "execution_count": null,
   "metadata": {
    "id": "zn5U4EE6K86v"
   },
   "outputs": [],
   "source": [
    "# import matplotlib.pyplot as plt\n",
    "# plt.bar([1,2,3,4,5,6,7,8,9,10],[0.018451246403640677,0.01618125536855392,0.026755434746750142,0.02452559313533195,0.02044580782769432,0.017003597109502003,0.020559589203612224,0.019298891636764515,0.020253734759057913,0.0211521205231758])\n",
    "# plt.title(\"Relative Eigen Error (REE) for 10 different initialization of C\")"
   ]
  },
  {
   "cell_type": "code",
   "execution_count": 8,
   "metadata": {
    "id": "FVV6GHukgK3I"
   },
   "outputs": [],
   "source": [
    "name=\"MUTAG\"\n",
    "num_features=7\n",
    "num_classes=2\n",
    "train_size=int(0.8*188)\n",
    "A_max_size=28\n",
    "graph_size=188"
   ]
  },
  {
   "cell_type": "code",
   "execution_count": 9,
   "metadata": {
    "colab": {
     "base_uri": "https://localhost:8080/"
    },
    "id": "mHSP6-RBOqCE",
    "outputId": "bd85cc5f-3662-481f-9048-bfd6d89c2740"
   },
   "outputs": [
    {
     "name": "stdout",
     "output_type": "stream",
     "text": [
      "2.0.1\n",
      "\n",
      "Dataset: MUTAG(188):\n",
      "====================\n",
      "Number of graphs: 188\n",
      "Number of features: 7\n",
      "Number of classes: 2\n",
      "\n",
      "Data(edge_index=[2, 38], x=[17, 7], edge_attr=[38, 4], y=[1])\n",
      "=============================================================\n",
      "Number of nodes: 17\n",
      "Number of edges: 38\n",
      "Average node degree: 2.24\n",
      "Has isolated nodes: False\n",
      "Has self-loops: False\n",
      "Is undirected: True\n"
     ]
    }
   ],
   "source": [
    "\n",
    "# Install required packages.\n",
    "import os\n",
    "import torch\n",
    "os.environ['TORCH'] = torch.__version__\n",
    "print(torch.__version__)\n",
    "\n",
    "# !pip install -q torch-scatter -f https://data.pyg.org/whl/torch-${TORCH}.html\n",
    "# !pip install -q torch-sparse -f https://data.pyg.org/whl/torch-${TORCH}.html\n",
    "!pip install -q git+https://github.com/pyg-team/pytorch_geometric.git\n",
    "\n",
    "import torch\n",
    "from torch_geometric.datasets import TUDataset\n",
    "\n",
    "dataset = TUDataset(root='data/TUDataset', name=name)\n",
    "print()\n",
    "print(f'Dataset: {dataset}:')\n",
    "print('====================')\n",
    "print(f'Number of graphs: {len(dataset)}')\n",
    "print(f'Number of features: {dataset.num_features}')\n",
    "print(f'Number of classes: {dataset.num_classes}')\n",
    "\n",
    "data = dataset[0]  # Get the first graph object.\n",
    "\n",
    "print()\n",
    "print(data)\n",
    "print('=============================================================')\n",
    "\n",
    "# Gather some statistics about the first graph.\n",
    "print(f'Number of nodes: {data.num_nodes}')\n",
    "print(f'Number of edges: {data.num_edges}')\n",
    "print(f'Average node degree: {data.num_edges / data.num_nodes:.2f}')\n",
    "print(f'Has isolated nodes: {data.has_isolated_nodes()}')\n",
    "print(f'Has self-loops: {data.has_self_loops()}')\n",
    "print(f'Is undirected: {data.is_undirected()}')"
   ]
  },
  {
   "cell_type": "markdown",
   "metadata": {
    "id": "2DgLTbTcrbQO"
   },
   "source": [
    "This dataset provides **188 different graphs**, and the task is to classify each graph into **one out of two classes**.\n",
    "\n",
    "By inspecting the first graph object of the dataset, we can see that it comes with **17 nodes (with 7-dimensional feature vectors)** and **38 edges** (leading to an average node degree of 2.24).\n",
    "It also comes with exactly **one graph label** (`y=[1]`), and, in addition to previous datasets, provides addtional **4-dimensional edge features** (`edge_attr=[38, 4]`).\n",
    "However, for the sake of simplicity, we will not make use of those.\n",
    "\n",
    "PyTorch Geometric provides some useful utilities for working with graph datasets, *e.g.*, we can shuffle the dataset and use the first 150 graphs as training graphs, while using the remaining ones for testing:"
   ]
  },
  {
   "cell_type": "code",
   "execution_count": 11,
   "metadata": {
    "colab": {
     "base_uri": "https://localhost:8080/"
    },
    "id": "j11WiUr-PRH_",
    "outputId": "a4c3d22d-06a1-4a1a-d4f5-6fca0e8413ce"
   },
   "outputs": [
    {
     "name": "stdout",
     "output_type": "stream",
     "text": [
      "Number of training graphs: 150\n",
      "Number of test graphs: 38\n"
     ]
    }
   ],
   "source": [
    "torch.manual_seed(12345)\n",
    "dataset = dataset.shuffle()\n",
    "\n",
    "train_dataset = dataset[:train_size]\n",
    "test_dataset = dataset[train_size:]\n",
    "\n",
    "print(f'Number of training graphs: {len(train_dataset)}')\n",
    "print(f'Number of test graphs: {len(test_dataset)}')"
   ]
  },
  {
   "cell_type": "markdown",
   "metadata": {
    "id": "zHMsz2HtbHC9"
   },
   "source": [
    "MUTAG"
   ]
  },
  {
   "cell_type": "code",
   "execution_count": 12,
   "metadata": {
    "colab": {
     "base_uri": "https://localhost:8080/"
    },
    "id": "6zaBOgbUbYC2",
    "outputId": "514c1046-75d8-4138-e48a-70cd58e35521"
   },
   "outputs": [
    {
     "name": "stdout",
     "output_type": "stream",
     "text": [
      "Requirement already satisfied: networkx in /Users/prakashpal/anaconda3/lib/python3.11/site-packages (2.8.4)\n",
      "Requirement already satisfied: dgl in /Users/prakashpal/anaconda3/lib/python3.11/site-packages (1.1.1)\n",
      "Requirement already satisfied: numpy>=1.14.0 in /Users/prakashpal/anaconda3/lib/python3.11/site-packages (from dgl) (1.24.3)\n",
      "Requirement already satisfied: scipy>=1.1.0 in /Users/prakashpal/anaconda3/lib/python3.11/site-packages (from dgl) (1.10.1)\n",
      "Requirement already satisfied: networkx>=2.1 in /Users/prakashpal/anaconda3/lib/python3.11/site-packages (from dgl) (2.8.4)\n",
      "Requirement already satisfied: requests>=2.19.0 in /Users/prakashpal/anaconda3/lib/python3.11/site-packages (from dgl) (2.29.0)\n",
      "Requirement already satisfied: tqdm in /Users/prakashpal/anaconda3/lib/python3.11/site-packages (from dgl) (4.65.0)\n",
      "Requirement already satisfied: psutil>=5.8.0 in /Users/prakashpal/anaconda3/lib/python3.11/site-packages (from dgl) (5.9.0)\n",
      "Requirement already satisfied: charset-normalizer<4,>=2 in /Users/prakashpal/anaconda3/lib/python3.11/site-packages (from requests>=2.19.0->dgl) (2.0.4)\n",
      "Requirement already satisfied: idna<4,>=2.5 in /Users/prakashpal/anaconda3/lib/python3.11/site-packages (from requests>=2.19.0->dgl) (3.4)\n",
      "Requirement already satisfied: urllib3<1.27,>=1.21.1 in /Users/prakashpal/anaconda3/lib/python3.11/site-packages (from requests>=2.19.0->dgl) (1.26.16)\n",
      "Requirement already satisfied: certifi>=2017.4.17 in /Users/prakashpal/anaconda3/lib/python3.11/site-packages (from requests>=2.19.0->dgl) (2023.5.7)\n",
      "Requirement already satisfied: torch in /Users/prakashpal/anaconda3/lib/python3.11/site-packages (2.0.1)\n",
      "Requirement already satisfied: filelock in /Users/prakashpal/anaconda3/lib/python3.11/site-packages (from torch) (3.9.0)\n",
      "Requirement already satisfied: typing-extensions in /Users/prakashpal/anaconda3/lib/python3.11/site-packages (from torch) (4.5.0)\n",
      "Requirement already satisfied: sympy in /Users/prakashpal/anaconda3/lib/python3.11/site-packages (from torch) (1.11.1)\n",
      "Requirement already satisfied: networkx in /Users/prakashpal/anaconda3/lib/python3.11/site-packages (from torch) (2.8.4)\n",
      "Requirement already satisfied: jinja2 in /Users/prakashpal/anaconda3/lib/python3.11/site-packages (from torch) (3.1.2)\n",
      "Requirement already satisfied: MarkupSafe>=2.0 in /Users/prakashpal/anaconda3/lib/python3.11/site-packages (from jinja2->torch) (2.1.1)\n",
      "Requirement already satisfied: mpmath>=0.19 in /Users/prakashpal/anaconda3/lib/python3.11/site-packages (from sympy->torch) (1.2.1)\n"
     ]
    }
   ],
   "source": [
    "\n",
    "!pip install networkx\n",
    "!pip install dgl\n",
    "!pip install torch\n"
   ]
  },
  {
   "cell_type": "code",
   "execution_count": 13,
   "metadata": {
    "id": "sxr79wIqgv3g"
   },
   "outputs": [],
   "source": [
    "\n",
    "import torch\n",
    "\n",
    "\n",
    "from sklearn.model_selection import train_test_split\n",
    "import pandas as pd\n",
    "import csv"
   ]
  },
  {
   "cell_type": "code",
   "execution_count": 14,
   "metadata": {
    "id": "WNfldq49g4eO"
   },
   "outputs": [
    {
     "ename": "ImportError",
     "evalue": "cannot import name 'get_dataset' from 'datasets' (/Users/prakashpal/anaconda3/lib/python3.11/site-packages/datasets/__init__.py)",
     "output_type": "error",
     "traceback": [
      "\u001b[0;31m---------------------------------------------------------------------------\u001b[0m",
      "\u001b[0;31mImportError\u001b[0m                               Traceback (most recent call last)",
      "Cell \u001b[0;32mIn[14], line 4\u001b[0m\n\u001b[1;32m      2\u001b[0m \u001b[38;5;28;01mimport\u001b[39;00m \u001b[38;5;21;01mtime\u001b[39;00m\n\u001b[1;32m      3\u001b[0m \u001b[38;5;28;01mimport\u001b[39;00m \u001b[38;5;21;01margparse\u001b[39;00m\n\u001b[0;32m----> 4\u001b[0m \u001b[38;5;28;01mfrom\u001b[39;00m \u001b[38;5;21;01mdatasets\u001b[39;00m \u001b[38;5;28;01mimport\u001b[39;00m get_dataset\n\u001b[1;32m      5\u001b[0m \u001b[38;5;28;01mimport\u001b[39;00m \u001b[38;5;21;01mtorch\u001b[39;00m\u001b[38;5;21;01m.\u001b[39;00m\u001b[38;5;21;01mnn\u001b[39;00m\u001b[38;5;21;01m.\u001b[39;00m\u001b[38;5;21;01mfunctional\u001b[39;00m \u001b[38;5;28;01mas\u001b[39;00m \u001b[38;5;21;01mF\u001b[39;00m\n\u001b[1;32m      6\u001b[0m \u001b[38;5;28;01mimport\u001b[39;00m \u001b[38;5;21;01mnumpy\u001b[39;00m \u001b[38;5;28;01mas\u001b[39;00m \u001b[38;5;21;01mnp\u001b[39;00m\n",
      "\u001b[0;31mImportError\u001b[0m: cannot import name 'get_dataset' from 'datasets' (/Users/prakashpal/anaconda3/lib/python3.11/site-packages/datasets/__init__.py)"
     ]
    }
   ],
   "source": [
    "from itertools import product\n",
    "import time\n",
    "import argparse\n",
    "from datasets import get_dataset\n",
    "import torch.nn.functional as F\n",
    "import numpy as np\n",
    "from sklearn.model_selection import cross_val_score, StratifiedKFold\n",
    "from sklearn import linear_model\n",
    "from sklearn.neural_network import MLPClassifier\n",
    "import warnings\n",
    "warnings.filterwarnings(\"ignore\")\n",
    "\n",
    "# from coarsening_opt2 import MultiLayerCoarsening\n",
    "import torch\n",
    "import os\n",
    "from torch_geometric.data import DataLoader, DenseDataLoader as DenseLoader\n",
    "from torch.optim import Adam\n",
    "# from train_eval_opt import cross_validation_with_val_set_opt, getMiddleRes"
   ]
  },
  {
   "cell_type": "code",
   "execution_count": 15,
   "metadata": {
    "id": "L5S1Bnr3g6FH"
   },
   "outputs": [],
   "source": [
    "# from datasets import get_dataset"
   ]
  },
  {
   "cell_type": "code",
   "execution_count": 16,
   "metadata": {
    "id": "MRC69YHsUXSO"
   },
   "outputs": [],
   "source": [
    "\n",
    "from tqdm import tqdm"
   ]
  },
  {
   "cell_type": "markdown",
   "metadata": {
    "id": "2nttNTxkQF7v"
   },
   "source": [
    "Building the dataset"
   ]
  },
  {
   "cell_type": "code",
   "execution_count": 17,
   "metadata": {
    "colab": {
     "base_uri": "https://localhost:8080/"
    },
    "id": "YVC1u7qKh0rx",
    "outputId": "196be8ac-6338-4a55-8a07-1b76355d5408"
   },
   "outputs": [
    {
     "ename": "NameError",
     "evalue": "name 'get_dataset' is not defined",
     "output_type": "error",
     "traceback": [
      "\u001b[0;31m---------------------------------------------------------------------------\u001b[0m",
      "\u001b[0;31mNameError\u001b[0m                                 Traceback (most recent call last)",
      "Cell \u001b[0;32mIn[17], line 1\u001b[0m\n\u001b[0;32m----> 1\u001b[0m dataset \u001b[38;5;241m=\u001b[39m get_dataset(name,sparse\u001b[38;5;241m=\u001b[39m\u001b[38;5;28;01mFalse\u001b[39;00m, dirname\u001b[38;5;241m=\u001b[39m\u001b[38;5;28;01mNone\u001b[39;00m)\n",
      "\u001b[0;31mNameError\u001b[0m: name 'get_dataset' is not defined"
     ]
    }
   ],
   "source": [
    "dataset = get_dataset(name,sparse=False, dirname=None)"
   ]
  },
  {
   "cell_type": "code",
   "execution_count": null,
   "metadata": {
    "colab": {
     "base_uri": "https://localhost:8080/"
    },
    "id": "t-kRRrtuh50V",
    "outputId": "95561ff4-b2d1-4f48-eeb4-b40b42c5d457"
   },
   "outputs": [
    {
     "name": "stdout",
     "output_type": "stream",
     "text": [
      "MUTAG(188)\n"
     ]
    }
   ],
   "source": [
    "\n",
    "print(dataset)\n"
   ]
  },
  {
   "cell_type": "code",
   "execution_count": null,
   "metadata": {
    "colab": {
     "base_uri": "https://localhost:8080/"
    },
    "id": "buExW6RRi8mM",
    "outputId": "4cce870f-ef38-4f04-f6e7-40e32f787fd5"
   },
   "outputs": [
    {
     "data": {
      "text/plain": [
       "Data(x=[28, 7], y=[1], adj=[28, 28], mask=[28])"
      ]
     },
     "execution_count": 11,
     "metadata": {},
     "output_type": "execute_result"
    }
   ],
   "source": [
    "dataset[1]"
   ]
  },
  {
   "cell_type": "code",
   "execution_count": null,
   "metadata": {
    "colab": {
     "base_uri": "https://localhost:8080/"
    },
    "id": "xxO3jKRXSXQ7",
    "outputId": "a8efc9f2-5f5e-4b87-e03f-d8b603237d92"
   },
   "outputs": [
    {
     "data": {
      "text/plain": [
       "Data(x=[28, 7], y=[1], adj=[28, 28], mask=[28])"
      ]
     },
     "execution_count": 12,
     "metadata": {},
     "output_type": "execute_result"
    }
   ],
   "source": [
    "dataset[2]"
   ]
  },
  {
   "cell_type": "code",
   "execution_count": null,
   "metadata": {
    "colab": {
     "base_uri": "https://localhost:8080/"
    },
    "id": "mfxL6paFSfBv",
    "outputId": "048bdc2c-77b8-43ae-d82d-c57bb3fe198b"
   },
   "outputs": [
    {
     "data": {
      "text/plain": [
       "tensor([[0., 1., 0., 0., 0., 0., 0., 0., 0., 1., 0., 0., 0., 0., 0., 0., 0., 0.,\n",
       "         0., 0., 0., 0., 0., 0., 0., 0., 0., 0.],\n",
       "        [1., 0., 1., 0., 0., 0., 0., 0., 0., 0., 0., 0., 0., 0., 0., 0., 0., 0.,\n",
       "         0., 0., 0., 0., 0., 0., 0., 0., 0., 0.],\n",
       "        [0., 1., 0., 1., 0., 0., 0., 1., 0., 0., 0., 0., 0., 0., 0., 0., 0., 0.,\n",
       "         0., 0., 0., 0., 0., 0., 0., 0., 0., 0.],\n",
       "        [0., 0., 1., 0., 1., 0., 0., 0., 0., 0., 0., 0., 0., 0., 0., 0., 0., 0.,\n",
       "         0., 0., 0., 0., 0., 0., 0., 0., 0., 0.],\n",
       "        [0., 0., 0., 1., 0., 1., 0., 0., 0., 0., 0., 0., 0., 0., 0., 0., 0., 0.,\n",
       "         0., 0., 0., 0., 0., 0., 0., 0., 0., 0.],\n",
       "        [0., 0., 0., 0., 1., 0., 1., 0., 0., 0., 0., 0., 0., 0., 0., 0., 0., 0.,\n",
       "         0., 0., 0., 0., 0., 0., 0., 0., 0., 0.],\n",
       "        [0., 0., 0., 0., 0., 1., 0., 1., 0., 0., 0., 0., 0., 0., 0., 0., 0., 0.,\n",
       "         0., 0., 0., 0., 0., 0., 0., 0., 0., 0.],\n",
       "        [0., 0., 1., 0., 0., 0., 1., 0., 1., 0., 0., 0., 0., 0., 0., 0., 0., 0.,\n",
       "         0., 0., 0., 0., 0., 0., 0., 0., 0., 0.],\n",
       "        [0., 0., 0., 0., 0., 0., 0., 1., 0., 1., 1., 0., 0., 0., 0., 0., 0., 0.,\n",
       "         0., 0., 0., 0., 0., 0., 0., 0., 0., 0.],\n",
       "        [1., 0., 0., 0., 0., 0., 0., 0., 1., 0., 0., 0., 0., 0., 0., 0., 0., 0.,\n",
       "         0., 0., 0., 0., 0., 0., 0., 0., 0., 0.],\n",
       "        [0., 0., 0., 0., 0., 0., 0., 0., 1., 0., 0., 1., 1., 0., 0., 0., 0., 0.,\n",
       "         0., 0., 0., 0., 0., 0., 0., 0., 0., 0.],\n",
       "        [0., 0., 0., 0., 0., 0., 0., 0., 0., 0., 1., 0., 0., 0., 0., 0., 0., 0.,\n",
       "         0., 0., 0., 0., 0., 0., 0., 0., 0., 0.],\n",
       "        [0., 0., 0., 0., 0., 0., 0., 0., 0., 0., 1., 0., 0., 0., 0., 0., 0., 0.,\n",
       "         0., 0., 0., 0., 0., 0., 0., 0., 0., 0.],\n",
       "        [0., 0., 0., 0., 0., 0., 0., 0., 0., 0., 0., 0., 0., 0., 0., 0., 0., 0.,\n",
       "         0., 0., 0., 0., 0., 0., 0., 0., 0., 0.],\n",
       "        [0., 0., 0., 0., 0., 0., 0., 0., 0., 0., 0., 0., 0., 0., 0., 0., 0., 0.,\n",
       "         0., 0., 0., 0., 0., 0., 0., 0., 0., 0.],\n",
       "        [0., 0., 0., 0., 0., 0., 0., 0., 0., 0., 0., 0., 0., 0., 0., 0., 0., 0.,\n",
       "         0., 0., 0., 0., 0., 0., 0., 0., 0., 0.],\n",
       "        [0., 0., 0., 0., 0., 0., 0., 0., 0., 0., 0., 0., 0., 0., 0., 0., 0., 0.,\n",
       "         0., 0., 0., 0., 0., 0., 0., 0., 0., 0.],\n",
       "        [0., 0., 0., 0., 0., 0., 0., 0., 0., 0., 0., 0., 0., 0., 0., 0., 0., 0.,\n",
       "         0., 0., 0., 0., 0., 0., 0., 0., 0., 0.],\n",
       "        [0., 0., 0., 0., 0., 0., 0., 0., 0., 0., 0., 0., 0., 0., 0., 0., 0., 0.,\n",
       "         0., 0., 0., 0., 0., 0., 0., 0., 0., 0.],\n",
       "        [0., 0., 0., 0., 0., 0., 0., 0., 0., 0., 0., 0., 0., 0., 0., 0., 0., 0.,\n",
       "         0., 0., 0., 0., 0., 0., 0., 0., 0., 0.],\n",
       "        [0., 0., 0., 0., 0., 0., 0., 0., 0., 0., 0., 0., 0., 0., 0., 0., 0., 0.,\n",
       "         0., 0., 0., 0., 0., 0., 0., 0., 0., 0.],\n",
       "        [0., 0., 0., 0., 0., 0., 0., 0., 0., 0., 0., 0., 0., 0., 0., 0., 0., 0.,\n",
       "         0., 0., 0., 0., 0., 0., 0., 0., 0., 0.],\n",
       "        [0., 0., 0., 0., 0., 0., 0., 0., 0., 0., 0., 0., 0., 0., 0., 0., 0., 0.,\n",
       "         0., 0., 0., 0., 0., 0., 0., 0., 0., 0.],\n",
       "        [0., 0., 0., 0., 0., 0., 0., 0., 0., 0., 0., 0., 0., 0., 0., 0., 0., 0.,\n",
       "         0., 0., 0., 0., 0., 0., 0., 0., 0., 0.],\n",
       "        [0., 0., 0., 0., 0., 0., 0., 0., 0., 0., 0., 0., 0., 0., 0., 0., 0., 0.,\n",
       "         0., 0., 0., 0., 0., 0., 0., 0., 0., 0.],\n",
       "        [0., 0., 0., 0., 0., 0., 0., 0., 0., 0., 0., 0., 0., 0., 0., 0., 0., 0.,\n",
       "         0., 0., 0., 0., 0., 0., 0., 0., 0., 0.],\n",
       "        [0., 0., 0., 0., 0., 0., 0., 0., 0., 0., 0., 0., 0., 0., 0., 0., 0., 0.,\n",
       "         0., 0., 0., 0., 0., 0., 0., 0., 0., 0.],\n",
       "        [0., 0., 0., 0., 0., 0., 0., 0., 0., 0., 0., 0., 0., 0., 0., 0., 0., 0.,\n",
       "         0., 0., 0., 0., 0., 0., 0., 0., 0., 0.]])"
      ]
     },
     "execution_count": 13,
     "metadata": {},
     "output_type": "execute_result"
    }
   ],
   "source": [
    "dataset[1].adj"
   ]
  },
  {
   "cell_type": "code",
   "execution_count": null,
   "metadata": {
    "id": "WmRdKsN5N36l"
   },
   "outputs": [],
   "source": [
    "class Graph:\n",
    "  def __init__(self,x,adj,y):\n",
    "      self.x = x\n",
    "      self.adj = adj\n",
    "      self.y = y\n"
   ]
  },
  {
   "cell_type": "code",
   "execution_count": null,
   "metadata": {
    "id": "Wo7dF1-vOWDM"
   },
   "outputs": [],
   "source": [
    "\n",
    "data = []"
   ]
  },
  {
   "cell_type": "code",
   "execution_count": null,
   "metadata": {
    "colab": {
     "base_uri": "https://localhost:8080/"
    },
    "id": "DY8GZExrlBOP",
    "outputId": "3c26cbdb-5e4c-47b4-bbd3-09b63f8d7f20"
   },
   "outputs": [
    {
     "name": "stdout",
     "output_type": "stream",
     "text": [
      "torch.Size([28, 28])\n",
      "torch.Size([16, 16])\n"
     ]
    }
   ],
   "source": [
    "for matrix in range(graph_size):\n",
    "  last_row =  A_max_size\n",
    "  for i in range(A_max_size-1,-1,-1):\n",
    "    if(torch.sum(dataset[matrix].adj[i,:])==0 and torch.sum(dataset[matrix].adj[:,i])==0):\n",
    "      last_row = i\n",
    "    else:\n",
    "      break\n",
    "  # print(last_row)\n",
    "  temp_adj = dataset[matrix].adj[:last_row,:last_row]\n",
    "  temp_x = dataset[matrix].x[:last_row,:]\n",
    "  temp_y = dataset[matrix].y\n",
    "  temp_graph = Graph(temp_x,temp_adj,temp_y)\n",
    "  data.append(temp_graph)\n",
    "\n",
    "print(dataset[0].adj.shape)\n",
    "temp = dataset[-1].adj[:last_row,:last_row]\n",
    "print(temp.shape)"
   ]
  },
  {
   "cell_type": "code",
   "execution_count": null,
   "metadata": {
    "colab": {
     "base_uri": "https://localhost:8080/"
    },
    "id": "f9vhHlT5O60l",
    "outputId": "a524148c-af55-477e-bcd6-8e9193e874f8"
   },
   "outputs": [
    {
     "data": {
      "text/plain": [
       "torch.Size([17, 17])"
      ]
     },
     "execution_count": 17,
     "metadata": {},
     "output_type": "execute_result"
    }
   ],
   "source": [
    "data[0].adj.shape"
   ]
  },
  {
   "cell_type": "code",
   "execution_count": null,
   "metadata": {
    "colab": {
     "base_uri": "https://localhost:8080/"
    },
    "id": "-xQQdhiKJBr2",
    "outputId": "fea857dd-84e9-4e5c-9ac6-5bb7e18d4f16"
   },
   "outputs": [
    {
     "data": {
      "text/plain": [
       "torch.Size([13, 13])"
      ]
     },
     "execution_count": 18,
     "metadata": {},
     "output_type": "execute_result"
    }
   ],
   "source": [
    "data[1].adj.shape"
   ]
  },
  {
   "cell_type": "markdown",
   "metadata": {
    "id": "RuuB5aZ4QKU3"
   },
   "source": [
    "Applying FGC to coarsen the data"
   ]
  },
  {
   "cell_type": "code",
   "execution_count": null,
   "metadata": {
    "id": "HRQlB8PjRxAn"
   },
   "outputs": [],
   "source": [
    "adj = data[1].adj\n",
    "X = data[1].x"
   ]
  },
  {
   "cell_type": "code",
   "execution_count": null,
   "metadata": {
    "id": "kCi4-dSoP-IK"
   },
   "outputs": [],
   "source": [
    "def get_laplacian(adj):\n",
    "  adj=np.array(adj)\n",
    "  b=np.ones(adj.shape[0])\n",
    "  z=adj@b\n",
    "  D=np.diag(z)\n",
    "  L=D-adj\n",
    "  return torch.Tensor(L)\n",
    "# def get_laplacian(adj):\n",
    "#   theta = torch.eye(adj.shape[0])\n",
    "#   row_sum = torch.sum(adj,axis=1)\n",
    "#   theta = theta@row_sum - adj\n",
    "#   return theta"
   ]
  },
  {
   "cell_type": "code",
   "execution_count": null,
   "metadata": {
    "id": "8vxjafagP-F4"
   },
   "outputs": [],
   "source": [
    "theta = get_laplacian(adj)"
   ]
  },
  {
   "cell_type": "code",
   "execution_count": null,
   "metadata": {
    "colab": {
     "base_uri": "https://localhost:8080/"
    },
    "id": "w5KFgd8qVYjB",
    "outputId": "efa373dc-d660-4102-d864-4da6e4c97d82"
   },
   "outputs": [
    {
     "data": {
      "text/plain": [
       "(torch.Size([13, 7]), torch.Size([13, 13]))"
      ]
     },
     "execution_count": 22,
     "metadata": {},
     "output_type": "execute_result"
    }
   ],
   "source": [
    "X.shape,theta.shape"
   ]
  },
  {
   "cell_type": "code",
   "execution_count": null,
   "metadata": {
    "id": "LP08jixTP-DP"
   },
   "outputs": [],
   "source": [
    "def convertScipyToTensor(coo):\n",
    "  try:\n",
    "    coo = coo.tocoo()\n",
    "  except:\n",
    "    coo = coo\n",
    "  values = coo.data\n",
    "  indices = np.vstack((coo.row, coo.col))\n",
    "\n",
    "  i = torch.LongTensor(indices)\n",
    "  v = torch.FloatTensor(values)\n",
    "  shape = coo.shape\n",
    "\n",
    "  return torch.sparse.FloatTensor(i, v, torch.Size(shape))"
   ]
  },
  {
   "cell_type": "code",
   "execution_count": null,
   "metadata": {
    "id": "tktDciJHP-Au"
   },
   "outputs": [],
   "source": [
    "from scipy.sparse import random\n",
    "from scipy.sparse.linalg import norm\n",
    "from scipy.sparse import csr_matrix\n",
    "\n",
    "p = X.shape[0]\n",
    "k = p//2\n",
    "n = X.shape[1]\n",
    "lambda_param = 20\n",
    "beta_param = 1\n",
    "alpha_param = 10\n",
    "gamma_param = 25\n",
    "lr = 1e-5\n",
    "thresh = 1e-10\n",
    "\n",
    "from scipy.sparse import random\n",
    "from scipy.stats import rv_continuous\n",
    "class CustomDistribution(rv_continuous):\n",
    "    def _rvs(self,  size=None, random_state=None):\n",
    "        return random_state.standard_normal(size)\n",
    "temp = CustomDistribution(seed=1)\n",
    "temp2 = temp()  # get a frozen version of the distribution\n",
    "X_tilde = random(k, n, density=0.25, random_state=1, data_rvs=temp2.rvs)\n",
    "C = random(p, k, density=0.25, random_state=1, data_rvs=temp2.rvs)"
   ]
  },
  {
   "cell_type": "code",
   "execution_count": null,
   "metadata": {
    "id": "BEzsclU7P9-E"
   },
   "outputs": [],
   "source": [
    "def experiment(lambda_param,beta_param,alpha_param,gamma_param,C,X_tilde,theta,X):\n",
    "      p = X.shape[0]\n",
    "      k = p//2\n",
    "      n = X.shape[1]\n",
    "      ones = csr_matrix(np.ones((k,k)))\n",
    "      ones = convertScipyToTensor(ones)\n",
    "      ones = ones.to_dense()\n",
    "      J = np.outer(np.ones(k), np.ones(k))/k\n",
    "      J = csr_matrix(J)\n",
    "      J = convertScipyToTensor(J)\n",
    "      J = J.to_dense()\n",
    "      zeros = csr_matrix(np.zeros((p,k)))\n",
    "      zeros = convertScipyToTensor(zeros)\n",
    "      zeros = zeros.to_dense()\n",
    "      X_tilde = convertScipyToTensor(X_tilde)\n",
    "      X_tilde = X_tilde.to_dense()\n",
    "      C = convertScipyToTensor(C)\n",
    "      C = C.to_dense()\n",
    "      try:\n",
    "        theta = convertScipyToTensor(theta)\n",
    "      except:\n",
    "        theta = theta\n",
    "      try:\n",
    "        X = convertScipyToTensor(X)\n",
    "        X = X.to_dense()\n",
    "      except:\n",
    "        X = X\n",
    "\n",
    "      if(torch.cuda.is_available()):\n",
    "        print(\"yes\")\n",
    "        X_tilde = X_tilde.cuda()\n",
    "        C = C.cuda()\n",
    "        theta = theta.cuda()\n",
    "        X = X.cuda()\n",
    "        J = J.cuda()\n",
    "        zeros = zeros.cuda()\n",
    "        ones = ones.cuda()\n",
    "\n",
    "      def update(X_tilde,C,i):\n",
    "          global L\n",
    "          thetaC = theta@C\n",
    "          CT = torch.transpose(C,0,1)\n",
    "          X_tildeT = torch.transpose(X_tilde,0,1)\n",
    "          CX_tilde = C@X_tilde\n",
    "          t1 = CT@thetaC + J\n",
    "          term_bracket = torch.linalg.pinv(t1)\n",
    "          thetacX_tilde = thetaC@(X_tilde)\n",
    "\n",
    "          L = 1/k\n",
    "\n",
    "          t1 = -2*gamma_param*(thetaC@term_bracket)\n",
    "          t2 = alpha_param*(CX_tilde-X)@(X_tildeT)\n",
    "          t3 = 2*thetacX_tilde@(X_tildeT)\n",
    "          t4 = lambda_param*(C@ones)\n",
    "          t5 = 2*beta_param*(thetaC@CT@thetaC)\n",
    "          T2 = (t1+t2+t3+t4+t5)/L\n",
    "          Cnew = (C-T2).maximum(zeros)\n",
    "          t1 = CT@thetaC*(2/alpha_param)\n",
    "          t2 = CT@C\n",
    "          t1 = torch.linalg.pinv(t1+t2)\n",
    "          t1 = t1@CT\n",
    "          t1 = t1@X\n",
    "          X_tilde_new = t1\n",
    "          Cnew[Cnew<thresh] = thresh\n",
    "          for i in range(len(Cnew)):\n",
    "              Cnew[i] = Cnew[i]/torch.linalg.norm(Cnew[i],1)\n",
    "          for i in range(len(X_tilde_new)):\n",
    "            X_tilde_new[i] = X_tilde_new[i]/torch.linalg.norm(X_tilde_new[i],1)\n",
    "          return X_tilde_new,Cnew\n",
    "\n",
    "\n",
    "      for i in tqdm(range(100)):\n",
    "          X_tilde,C = update(X_tilde,C,i)\n",
    "\n",
    "      return X_tilde,C"
   ]
  },
  {
   "cell_type": "code",
   "execution_count": null,
   "metadata": {
    "id": "WeKI8ONqA9Aj"
   },
   "outputs": [],
   "source": [
    "import matplotlib.pyplot as plt\n"
   ]
  },
  {
   "cell_type": "code",
   "execution_count": null,
   "metadata": {
    "colab": {
     "base_uri": "https://localhost:8080/",
     "height": 386
    },
    "id": "4gbRVZXUP96o",
    "outputId": "905e5fdf-8df0-4954-fa37-8718c1e6ab11"
   },
   "outputs": [
    {
     "name": "stderr",
     "output_type": "stream",
     "text": [
      "100%|██████████| 100/100 [00:00<00:00, 627.57it/s]\n"
     ]
    },
    {
     "name": "stdout",
     "output_type": "stream",
     "text": [
      "50 1 50 100\n",
      " eigen_error \n",
      "(0.10772111980865398+0j)\n"
     ]
    },
    {
     "data": {
      "image/png": "[encoded data removed]",
      "text/plain": [
       "<Figure size 432x288 with 1 Axes>"
      ]
     },
     "metadata": {
      "needs_background": "light"
     },
     "output_type": "display_data"
    },
    {
     "name": "stdout",
     "output_type": "stream",
     "text": [
      "tensor(2.7112)\n",
      "tensor(10.)\n",
      "tensor(2.7021)\n"
     ]
    }
   ],
   "source": [
    "for lambda_param in [50]:\n",
    "  for beta_param in [1]:\n",
    "    for alpha_param in [50]:\n",
    "      for gamma_param in [100]:\n",
    "\n",
    "          X_t_0,C_0 = experiment(lambda_param,beta_param,alpha_param,gamma_param,C,X_tilde,theta,X)\n",
    "          print(str(lambda_param)+\" \" + str(beta_param)+\" \"+str(alpha_param)+\" \"+str(gamma_param))\n",
    "\n",
    "          L = theta\n",
    "          eigen_values,eigenvectors=torch.linalg.eig(L)\n",
    "          eigen_values = eigen_values.cpu().detach().numpy()\n",
    "          s=np.sort(eigen_values)\n",
    "\n",
    "          eigen_value,eigenvector=torch.linalg.eig(C_0.T@L@C_0)\n",
    "          eigen_value = eigen_value.cpu().detach().numpy()\n",
    "          z=np.sort(eigen_value)\n",
    "\n",
    "\n",
    "          s_new=s[-3:]\n",
    "          z_new=z[-3:]\n",
    "\n",
    "          temp=0\n",
    "          for j in range(len(s_new)):\n",
    "            temp=temp+(abs(z_new[j]-s_new[j])/s_new[j])\n",
    "          eigenerror=temp/len(s_new)\n",
    "          print(\" eigen_error \")\n",
    "          print(eigenerror)\n",
    "\n",
    "          plt.plot(s_new, label=\"original\")\n",
    "          plt.plot(z_new, label=\"coarsened\")\n",
    "          plt.legend()\n",
    "          plt.show()\n",
    "\n",
    "          print(torch.trace(X_t_0.T@C_0.T@L@C_0@X_t_0))\n",
    "          print(torch.trace(X.T@L@X))\n",
    "          error=torch.linalg.norm(X-(C_0@X_t_0))\n",
    "          print(error)"
   ]
  },
  {
   "cell_type": "code",
   "execution_count": null,
   "metadata": {
    "colab": {
     "base_uri": "https://localhost:8080/"
    },
    "id": "RTcBE5MdQj_D",
    "outputId": "363d3ec2-b286-459e-b5f9-827d50f34357"
   },
   "outputs": [
    {
     "name": "stdout",
     "output_type": "stream",
     "text": [
      "Lc tensor([[ 0.1389,  0.0786, -0.2127, -0.1306,  0.1389, -0.0131],\n",
      "        [ 0.0786,  2.6415, -1.5243, -0.3568,  0.0786, -0.9176],\n",
      "        [-0.2127, -1.5243,  3.6672, -0.7975, -0.2127, -0.9200],\n",
      "        [-0.1306, -0.3568, -0.7975,  3.0490, -0.1306, -1.6335],\n",
      "        [ 0.1389,  0.0786, -0.2127, -0.1306,  0.1389, -0.0131],\n",
      "        [-0.0131, -0.9176, -0.9200, -1.6335, -0.0131,  3.4973]])\n",
      "Wc tensor([[0.0000, 0.0000, 0.2127, 0.1306, 0.0000, 0.0131],\n",
      "        [0.0000, 0.0000, 1.5243, 0.3568, 0.0000, 0.9176],\n",
      "        [0.2127, 1.5243, 0.0000, 0.7975, 0.2127, 0.9200],\n",
      "        [0.1306, 0.3568, 0.7975, 0.0000, 0.1306, 1.6335],\n",
      "        [0.0000, 0.0000, 0.2127, 0.1306, 0.0000, 0.0131],\n",
      "        [0.0131, 0.9176, 0.9200, 1.6335, 0.0131, 0.0000]], dtype=torch.float64)\n",
      "tensor(12.)\n",
      "tensor(14.)\n"
     ]
    }
   ],
   "source": [
    "Lc=C_0.T@L@C_0\n",
    "print(\"Lc\",Lc)\n",
    "Wc=(-1*Lc)*(1-np.eye(Lc.shape[0]))\n",
    "Wc[Wc<0.001]=0\n",
    "print(\"Wc\",Wc)\n",
    "print((Wc!=0).sum()/2)\n",
    "print((adj!=0).sum()/2)"
   ]
  },
  {
   "cell_type": "code",
   "execution_count": null,
   "metadata": {
    "colab": {
     "base_uri": "https://localhost:8080/"
    },
    "id": "nVsfEzF3hZ5_",
    "outputId": "9b548128-5973-41a9-a7eb-12cbbb71c155"
   },
   "outputs": [
    {
     "name": "stdout",
     "output_type": "stream",
     "text": [
      "torch.Size([13, 7])\n"
     ]
    }
   ],
   "source": [
    "print(X.shape)"
   ]
  },
  {
   "cell_type": "code",
   "execution_count": null,
   "metadata": {
    "colab": {
     "base_uri": "https://localhost:8080/",
     "height": 265
    },
    "id": "4f1XoCTuTiB4",
    "outputId": "5091cc3e-d7f2-465c-9b69-2c1843c8f892"
   },
   "outputs": [
    {
     "data": {
      "image/png": "[encoded data removed]",
      "text/plain": [
       "<Figure size 432x288 with 2 Axes>"
      ]
     },
     "metadata": {
      "needs_background": "light"
     },
     "output_type": "display_data"
    }
   ],
   "source": [
    "import seaborn as sns\n",
    "import matplotlib.pylab as plt\n",
    "# sns.heatmap(C_0.T@C_0)\n",
    "temp = C_0.T.cpu().detach().numpy()\n",
    "temp1 = C_0.cpu().detach().numpy()\n",
    "a = sns.heatmap(temp@temp1,cmap='CMRmap_r')"
   ]
  },
  {
   "cell_type": "code",
   "execution_count": null,
   "metadata": {
    "id": "Zmuvu_djTiqi"
   },
   "outputs": [],
   "source": [
    "train_data_coarsened = []"
   ]
  },
  {
   "cell_type": "code",
   "execution_count": null,
   "metadata": {
    "id": "9Oi164p9TioQ"
   },
   "outputs": [],
   "source": [
    "def get_coarsened_features(X,adj):\n",
    "\n",
    "    theta = get_laplacian(adj)\n",
    "\n",
    "    p = X.shape[0]\n",
    "    k = p//2\n",
    "    n = X.shape[1]\n",
    "    lambda_param = 50\n",
    "    beta_param = 10\n",
    "    alpha_param = 50\n",
    "    gamma_param = 100\n",
    "    lr = 1e-5\n",
    "    thresh = 1e-10\n",
    "\n",
    "    from scipy.sparse import random\n",
    "    from scipy.stats import rv_continuous\n",
    "    class CustomDistribution(rv_continuous):\n",
    "        def _rvs(self,  size=None, random_state=None):\n",
    "            return random_state.standard_normal(size)\n",
    "    temp = CustomDistribution(seed=1)\n",
    "    temp2 = temp()  # get a frozen version of the distribution\n",
    "    X_tilde = random(k, n, density=0.25, random_state=1, data_rvs=temp2.rvs)\n",
    "    C = random(p, k, density=0.25, random_state=1, data_rvs=temp2.rvs)\n",
    "\n",
    "    try:\n",
    "      X_t_0,C_0 = experiment(100,1,100,1000,C,X_tilde,theta,X)\n",
    "    except:\n",
    "      try:\n",
    "        X_t_0,C_0 = experiment(100,1,100,1000,C,X_tilde,theta,X)\n",
    "      except:\n",
    "        try:\n",
    "          X_t_0,C_0 = experiment(100,1,100,1000,C,X_tilde,theta,X)\n",
    "        except:\n",
    "          X_t_0,C_0 = convertScipyToTensor(X_tilde).to_dense(),convertScipyToTensor(C).to_dense()\n",
    "\n",
    "\n",
    "    print(\"X_t_0 shape :\",X_t_0.shape)\n",
    "    print(\"C_0 shape :\", C_0.shape)\n",
    "    thetaC = (C_0.T)@theta@C_0\n",
    "    print(\"thetaC shape :\", thetaC.shape)\n",
    "\n",
    "    print(thetaC.shape)\n",
    "    print(X_tilde.shape)\n",
    "    # return thetaC, X_tilde\n",
    "    target_theta = torch.zeros(A_max_size,A_max_size)\n",
    "    print(\"target_theta_original shape :\", target_theta.shape)\n",
    "    target_X = torch.zeros(A_max_size,num_features)\n",
    "    print(\"target_X_original shape :\", target_X.shape)\n",
    "\n",
    "\n",
    "\n",
    "    shape1 = thetaC.shape[0]\n",
    "    target_theta[:shape1,:shape1]=thetaC\n",
    "    shape1 = X_t_0.shape[0]\n",
    "    target_X[:shape1,:]=X_t_0\n",
    "\n",
    "    target_theta = target_theta.flatten()\n",
    "    print(\"target_theta_flatten shape:\", target_theta.shape)\n",
    "    target_X = target_X.flatten()\n",
    "    print(\"target_X_flatten shape:\", target_X.shape)\n",
    "\n",
    "    feature_vec = torch.concat((target_X,target_theta),0)\n",
    "    print(\"final_feature_vec shape:\", feature_vec.shape)\n",
    "\n",
    "    return feature_vec\n",
    "\n",
    "\n"
   ]
  },
  {
   "cell_type": "code",
   "execution_count": null,
   "metadata": {
    "id": "fD8MVgGK8D1g"
   },
   "outputs": [],
   "source": [
    "from datetime import datetime"
   ]
  },
  {
   "cell_type": "code",
   "execution_count": null,
   "metadata": {
    "id": "gE1_H_AcScIA"
   },
   "outputs": [],
   "source": [
    "# time1=datetime.now()\n",
    "# X_List=[]\n",
    "# W_List=[]\n",
    "# D_INV_List=[]\n",
    "# Node_Size=[]\n",
    "# Y=[]\n",
    "# EE=[]\n",
    "# for i in range(graph_size):\n",
    "#   Lc,Xc=get_coarsened_features(data[i].x,data[i].adj)\n",
    "#   Wc=(-1*Lc)*(1-np.eye(Lc.shape[0]))\n",
    "#   Wc[Wc<0.01]=0\n",
    "#   import numpy as np\n",
    "#   bb=np.ones(Wc.shape[0])\n",
    "#   zz=Wc@bb\n",
    "#   Dc=np.linalg.pinv(np.diag(zz))\n",
    "#   Node_Size+=[Xc.shape[0]]\n",
    "#   Y+=[int(data[i].y)]\n",
    "#   D_INV_List+=[Dc]\n",
    "#   W_List+=[Wc]\n",
    "#   X_List+=[Xc.toarray()]\n",
    "#   L=get_laplacian(data[i].adj)\n",
    "#   eigen_values,eigenvectors=torch.linalg.eig(L)\n",
    "#   eigen_values = eigen_values.cpu().detach().numpy()\n",
    "#   s=np.sort(eigen_values)\n",
    "\n",
    "#   eigen_value,eigenvector=torch.linalg.eig(Lc)\n",
    "#   eigen_value = eigen_value.cpu().detach().numpy()\n",
    "#   z=np.sort(eigen_value)\n",
    "#   if(Lc.shape[0]<3):\n",
    "#     s_new=s[-2:]\n",
    "#     z_new=z[-2:]\n",
    "#     temp=0\n",
    "#     for j in range(len(s_new)):\n",
    "#       temp=temp+(abs(z_new[j]-s_new[j])/s_new[j])\n",
    "#     eigenerror=temp/len(s_new)\n",
    "#     EE+=[eigenerror]\n",
    "#   else:\n",
    "#     s_new=s[-3:]\n",
    "#     z_new=z[-3:]\n",
    "\n",
    "#     temp=0\n",
    "#     for j in range(len(s_new)):\n",
    "#       temp=temp+(abs(z_new[j]-s_new[j])/s_new[j])\n",
    "#     eigenerror=temp/len(s_new)\n",
    "#     EE+=[eigenerror]\n",
    "# time2=datetime.now()\n",
    "# print((time2-time1).total_seconds())\n"
   ]
  },
  {
   "cell_type": "code",
   "execution_count": null,
   "metadata": {
    "id": "A2n_swrVxuWx"
   },
   "outputs": [],
   "source": [
    "# sum(EE)/graph_size"
   ]
  },
  {
   "cell_type": "code",
   "execution_count": null,
   "metadata": {
    "id": "SUSekK1kwKkT"
   },
   "outputs": [],
   "source": [
    "# EE\n",
    "\n"
   ]
  },
  {
   "cell_type": "code",
   "execution_count": null,
   "metadata": {
    "id": "3Y5gNcHLP0Ei"
   },
   "outputs": [],
   "source": [
    "# sum(np.sort(EE)[0:4000])/4000"
   ]
  },
  {
   "cell_type": "code",
   "execution_count": null,
   "metadata": {
    "id": "swCLY9IpWfm-"
   },
   "outputs": [],
   "source": [
    "# from gnn import split_train_test, train"
   ]
  },
  {
   "cell_type": "code",
   "execution_count": null,
   "metadata": {
    "id": "ew2SWFWD4E4Q"
   },
   "outputs": [],
   "source": [
    "#  D_inverse_train, D_inverse_test, A_tilde_train, A_tilde_test, X_train, X_test, Y_train, Y_test, nodes_size_list_train, nodes_size_list_test = split_train_test(np.array(D_INV_List), np.array(W_List), np.array(X_List), np.array(Y).reshape((graph_size,1)), np.array(Node_Size))\n"
   ]
  },
  {
   "cell_type": "code",
   "execution_count": null,
   "metadata": {
    "id": "Gxb8Wrv2bcV5"
   },
   "outputs": [],
   "source": [
    "# np.array(X_List)[0]"
   ]
  },
  {
   "cell_type": "code",
   "execution_count": null,
   "metadata": {
    "id": "Gnfmw1-_wxpy"
   },
   "outputs": [],
   "source": [
    "# np.array(Y).reshape((188,1))"
   ]
  },
  {
   "cell_type": "code",
   "execution_count": null,
   "metadata": {
    "id": "NEkFwh89Tls1"
   },
   "outputs": [],
   "source": [
    "# time1=datetime.now()\n",
    "# test_acc, prediction, pos_scores = train(X_train, D_inverse_train, A_tilde_train, Y_train, nodes_size_list_train,X_test, D_inverse_test, A_tilde_test, Y_test, nodes_size_list_test,60, num_features,0.00001,100, name)\n",
    "# print(\"test acc is \", test_acc)\n",
    "# time2=datetime.now()\n",
    "# print('time ',(time2-time1).total_seconds())"
   ]
  },
  {
   "cell_type": "markdown",
   "metadata": {
    "id": "uxmdRcvl-oGy"
   },
   "source": []
  },
  {
   "cell_type": "code",
   "execution_count": null,
   "metadata": {
    "id": "2m2qEm86-ou9"
   },
   "outputs": [],
   "source": [
    "from datetime import datetime"
   ]
  },
  {
   "cell_type": "code",
   "execution_count": null,
   "metadata": {
    "id": "AXmPAwkC1SLj"
   },
   "outputs": [],
   "source": [
    "# name=\"IMDB-BINARY\"\n",
    "# num_features=136\n",
    "# num_classes=2\n",
    "# train_size=int(0.8*999)\n",
    "# A_max_size=98\n",
    "# graph_size=999"
   ]
  },
  {
   "cell_type": "code",
   "execution_count": null,
   "metadata": {
    "id": "nRFcruL1_MCW"
   },
   "outputs": [],
   "source": [
    "# print((time2-time1).total_seconds())"
   ]
  },
  {
   "cell_type": "code",
   "execution_count": null,
   "metadata": {
    "colab": {
     "base_uri": "https://localhost:8080/"
    },
    "id": "nq60XIET6zPc",
    "outputId": "707d3162-09bc-42b6-9a67-7e92c699c916"
   },
   "outputs": [
    {
     "data": {
      "text/plain": [
       "MUTAG(188)"
      ]
     },
     "execution_count": 46,
     "metadata": {},
     "output_type": "execute_result"
    }
   ],
   "source": [
    "dataset\n",
    "#"
   ]
  },
  {
   "cell_type": "code",
   "execution_count": null,
   "metadata": {
    "colab": {
     "base_uri": "https://localhost:8080/"
    },
    "id": "qdRzpT2eUfRm",
    "outputId": "a711ade3-e191-4d98-8394-45e63036ffcd"
   },
   "outputs": [
    {
     "name": "stderr",
     "output_type": "stream",
     "text": [
      "100%|██████████| 100/100 [00:00<00:00, 1065.15it/s]"
     ]
    },
    {
     "name": "stdout",
     "output_type": "stream",
     "text": [
      "X_t_0 shape : torch.Size([8, 7])\n",
      "C_0 shape : torch.Size([17, 8])\n",
      "thetaC shape : torch.Size([8, 8])\n",
      "torch.Size([8, 8])\n",
      "(8, 7)\n",
      "target_theta_original shape : torch.Size([28, 28])\n",
      "target_X_original shape : torch.Size([28, 7])\n",
      "target_theta_flatten shape: torch.Size([784])\n",
      "target_X_flatten shape: torch.Size([196])\n",
      "final_feature_vec shape: torch.Size([980])\n"
     ]
    },
    {
     "name": "stderr",
     "output_type": "stream",
     "text": [
      "\n"
     ]
    }
   ],
   "source": [
    "t = get_coarsened_features(data[0].x,data[0].adj)"
   ]
  },
  {
   "cell_type": "code",
   "execution_count": null,
   "metadata": {
    "colab": {
     "base_uri": "https://localhost:8080/"
    },
    "id": "yGp95Bpm1eiD",
    "outputId": "245050c4-cfb5-47a1-c2df-064dd54d8441"
   },
   "outputs": [
    {
     "name": "stderr",
     "output_type": "stream",
     "text": [
      "100%|██████████| 100/100 [00:00<00:00, 1212.41it/s]\n"
     ]
    },
    {
     "name": "stdout",
     "output_type": "stream",
     "text": [
      "X_t_0 shape : torch.Size([8, 7])\n",
      "C_0 shape : torch.Size([17, 8])\n",
      "thetaC shape : torch.Size([8, 8])\n",
      "torch.Size([8, 8])\n",
      "(8, 7)\n",
      "target_theta_original shape : torch.Size([28, 28])\n",
      "target_X_original shape : torch.Size([28, 7])\n",
      "target_theta_flatten shape: torch.Size([784])\n",
      "target_X_flatten shape: torch.Size([196])\n",
      "final_feature_vec shape: torch.Size([980])\n"
     ]
    },
    {
     "name": "stderr",
     "output_type": "stream",
     "text": [
      "100%|██████████| 100/100 [00:00<00:00, 1162.30it/s]\n"
     ]
    },
    {
     "name": "stdout",
     "output_type": "stream",
     "text": [
      "X_t_0 shape : torch.Size([6, 7])\n",
      "C_0 shape : torch.Size([13, 6])\n",
      "thetaC shape : torch.Size([6, 6])\n",
      "torch.Size([6, 6])\n",
      "(6, 7)\n",
      "target_theta_original shape : torch.Size([28, 28])\n",
      "target_X_original shape : torch.Size([28, 7])\n",
      "target_theta_flatten shape: torch.Size([784])\n",
      "target_X_flatten shape: torch.Size([196])\n",
      "final_feature_vec shape: torch.Size([980])\n"
     ]
    },
    {
     "name": "stderr",
     "output_type": "stream",
     "text": [
      "100%|██████████| 100/100 [00:00<00:00, 1444.99it/s]\n"
     ]
    },
    {
     "name": "stdout",
     "output_type": "stream",
     "text": [
      "X_t_0 shape : torch.Size([6, 7])\n",
      "C_0 shape : torch.Size([13, 6])\n",
      "thetaC shape : torch.Size([6, 6])\n",
      "torch.Size([6, 6])\n",
      "(6, 7)\n",
      "target_theta_original shape : torch.Size([28, 28])\n",
      "target_X_original shape : torch.Size([28, 7])\n",
      "target_theta_flatten shape: torch.Size([784])\n",
      "target_X_flatten shape: torch.Size([196])\n",
      "final_feature_vec shape: torch.Size([980])\n"
     ]
    },
    {
     "name": "stderr",
     "output_type": "stream",
     "text": [
      "100%|██████████| 100/100 [00:00<00:00, 1149.00it/s]\n"
     ]
    },
    {
     "name": "stdout",
     "output_type": "stream",
     "text": [
      "X_t_0 shape : torch.Size([9, 7])\n",
      "C_0 shape : torch.Size([19, 9])\n",
      "thetaC shape : torch.Size([9, 9])\n",
      "torch.Size([9, 9])\n",
      "(9, 7)\n",
      "target_theta_original shape : torch.Size([28, 28])\n",
      "target_X_original shape : torch.Size([28, 7])\n",
      "target_theta_flatten shape: torch.Size([784])\n",
      "target_X_flatten shape: torch.Size([196])\n",
      "final_feature_vec shape: torch.Size([980])\n"
     ]
    },
    {
     "name": "stderr",
     "output_type": "stream",
     "text": [
      "100%|██████████| 100/100 [00:00<00:00, 1366.50it/s]\n"
     ]
    },
    {
     "name": "stdout",
     "output_type": "stream",
     "text": [
      "X_t_0 shape : torch.Size([5, 7])\n",
      "C_0 shape : torch.Size([11, 5])\n",
      "thetaC shape : torch.Size([5, 5])\n",
      "torch.Size([5, 5])\n",
      "(5, 7)\n",
      "target_theta_original shape : torch.Size([28, 28])\n",
      "target_X_original shape : torch.Size([28, 7])\n",
      "target_theta_flatten shape: torch.Size([784])\n",
      "target_X_flatten shape: torch.Size([196])\n",
      "final_feature_vec shape: torch.Size([980])\n"
     ]
    },
    {
     "name": "stderr",
     "output_type": "stream",
     "text": [
      "100%|██████████| 100/100 [00:00<00:00, 760.99it/s]\n"
     ]
    },
    {
     "name": "stdout",
     "output_type": "stream",
     "text": [
      "X_t_0 shape : torch.Size([14, 7])\n",
      "C_0 shape : torch.Size([28, 14])\n",
      "thetaC shape : torch.Size([14, 14])\n",
      "torch.Size([14, 14])\n",
      "(14, 7)\n",
      "target_theta_original shape : torch.Size([28, 28])\n",
      "target_X_original shape : torch.Size([28, 7])\n",
      "target_theta_flatten shape: torch.Size([784])\n",
      "target_X_flatten shape: torch.Size([196])\n",
      "final_feature_vec shape: torch.Size([980])\n"
     ]
    },
    {
     "name": "stderr",
     "output_type": "stream",
     "text": [
      "100%|██████████| 100/100 [00:00<00:00, 1270.63it/s]\n"
     ]
    },
    {
     "name": "stdout",
     "output_type": "stream",
     "text": [
      "X_t_0 shape : torch.Size([8, 7])\n",
      "C_0 shape : torch.Size([16, 8])\n",
      "thetaC shape : torch.Size([8, 8])\n",
      "torch.Size([8, 8])\n",
      "(8, 7)\n",
      "target_theta_original shape : torch.Size([28, 28])\n",
      "target_X_original shape : torch.Size([28, 7])\n",
      "target_theta_flatten shape: torch.Size([784])\n",
      "target_X_flatten shape: torch.Size([196])\n",
      "final_feature_vec shape: torch.Size([980])\n"
     ]
    },
    {
     "name": "stderr",
     "output_type": "stream",
     "text": [
      "100%|██████████| 100/100 [00:00<00:00, 873.43it/s]\n"
     ]
    },
    {
     "name": "stdout",
     "output_type": "stream",
     "text": [
      "X_t_0 shape : torch.Size([10, 7])\n",
      "C_0 shape : torch.Size([20, 10])\n",
      "thetaC shape : torch.Size([10, 10])\n",
      "torch.Size([10, 10])\n",
      "(10, 7)\n",
      "target_theta_original shape : torch.Size([28, 28])\n",
      "target_X_original shape : torch.Size([28, 7])\n",
      "target_theta_flatten shape: torch.Size([784])\n",
      "target_X_flatten shape: torch.Size([196])\n",
      "final_feature_vec shape: torch.Size([980])\n"
     ]
    },
    {
     "name": "stderr",
     "output_type": "stream",
     "text": [
      "100%|██████████| 100/100 [00:00<00:00, 1392.21it/s]\n"
     ]
    },
    {
     "name": "stdout",
     "output_type": "stream",
     "text": [
      "X_t_0 shape : torch.Size([6, 7])\n",
      "C_0 shape : torch.Size([12, 6])\n",
      "thetaC shape : torch.Size([6, 6])\n",
      "torch.Size([6, 6])\n",
      "(6, 7)\n",
      "target_theta_original shape : torch.Size([28, 28])\n",
      "target_X_original shape : torch.Size([28, 7])\n",
      "target_theta_flatten shape: torch.Size([784])\n",
      "target_X_flatten shape: torch.Size([196])\n",
      "final_feature_vec shape: torch.Size([980])\n"
     ]
    },
    {
     "name": "stderr",
     "output_type": "stream",
     "text": [
      "100%|██████████| 100/100 [00:00<00:00, 1214.34it/s]\n"
     ]
    },
    {
     "name": "stdout",
     "output_type": "stream",
     "text": [
      "X_t_0 shape : torch.Size([8, 7])\n",
      "C_0 shape : torch.Size([17, 8])\n",
      "thetaC shape : torch.Size([8, 8])\n",
      "torch.Size([8, 8])\n",
      "(8, 7)\n",
      "target_theta_original shape : torch.Size([28, 28])\n",
      "target_X_original shape : torch.Size([28, 7])\n",
      "target_theta_flatten shape: torch.Size([784])\n",
      "target_X_flatten shape: torch.Size([196])\n",
      "final_feature_vec shape: torch.Size([980])\n"
     ]
    },
    {
     "name": "stderr",
     "output_type": "stream",
     "text": [
      "100%|██████████| 100/100 [00:00<00:00, 1134.82it/s]\n"
     ]
    },
    {
     "name": "stdout",
     "output_type": "stream",
     "text": [
      "X_t_0 shape : torch.Size([8, 7])\n",
      "C_0 shape : torch.Size([17, 8])\n",
      "thetaC shape : torch.Size([8, 8])\n",
      "torch.Size([8, 8])\n",
      "(8, 7)\n",
      "target_theta_original shape : torch.Size([28, 28])\n",
      "target_X_original shape : torch.Size([28, 7])\n",
      "target_theta_flatten shape: torch.Size([784])\n",
      "target_X_flatten shape: torch.Size([196])\n",
      "final_feature_vec shape: torch.Size([980])\n"
     ]
    },
    {
     "name": "stderr",
     "output_type": "stream",
     "text": [
      "100%|██████████| 100/100 [00:00<00:00, 1093.25it/s]\n"
     ]
    },
    {
     "name": "stdout",
     "output_type": "stream",
     "text": [
      "X_t_0 shape : torch.Size([10, 7])\n",
      "C_0 shape : torch.Size([20, 10])\n",
      "thetaC shape : torch.Size([10, 10])\n",
      "torch.Size([10, 10])\n",
      "(10, 7)\n",
      "target_theta_original shape : torch.Size([28, 28])\n",
      "target_X_original shape : torch.Size([28, 7])\n",
      "target_theta_flatten shape: torch.Size([784])\n",
      "target_X_flatten shape: torch.Size([196])\n",
      "final_feature_vec shape: torch.Size([980])\n"
     ]
    },
    {
     "name": "stderr",
     "output_type": "stream",
     "text": [
      "100%|██████████| 100/100 [00:00<00:00, 940.17it/s]\n"
     ]
    },
    {
     "name": "stdout",
     "output_type": "stream",
     "text": [
      "X_t_0 shape : torch.Size([11, 7])\n",
      "C_0 shape : torch.Size([22, 11])\n",
      "thetaC shape : torch.Size([11, 11])\n",
      "torch.Size([11, 11])\n",
      "(11, 7)\n",
      "target_theta_original shape : torch.Size([28, 28])\n",
      "target_X_original shape : torch.Size([28, 7])\n",
      "target_theta_flatten shape: torch.Size([784])\n",
      "target_X_flatten shape: torch.Size([196])\n",
      "final_feature_vec shape: torch.Size([980])\n"
     ]
    },
    {
     "name": "stderr",
     "output_type": "stream",
     "text": [
      "100%|██████████| 100/100 [00:00<00:00, 1360.96it/s]\n"
     ]
    },
    {
     "name": "stdout",
     "output_type": "stream",
     "text": [
      "X_t_0 shape : torch.Size([6, 7])\n",
      "C_0 shape : torch.Size([13, 6])\n",
      "thetaC shape : torch.Size([6, 6])\n",
      "torch.Size([6, 6])\n",
      "(6, 7)\n",
      "target_theta_original shape : torch.Size([28, 28])\n",
      "target_X_original shape : torch.Size([28, 7])\n",
      "target_theta_flatten shape: torch.Size([784])\n",
      "target_X_flatten shape: torch.Size([196])\n",
      "final_feature_vec shape: torch.Size([980])\n"
     ]
    },
    {
     "name": "stderr",
     "output_type": "stream",
     "text": [
      "100%|██████████| 100/100 [00:00<00:00, 1078.07it/s]\n"
     ]
    },
    {
     "name": "stdout",
     "output_type": "stream",
     "text": [
      "X_t_0 shape : torch.Size([9, 7])\n",
      "C_0 shape : torch.Size([19, 9])\n",
      "thetaC shape : torch.Size([9, 9])\n",
      "torch.Size([9, 9])\n",
      "(9, 7)\n",
      "target_theta_original shape : torch.Size([28, 28])\n",
      "target_X_original shape : torch.Size([28, 7])\n",
      "target_theta_flatten shape: torch.Size([784])\n",
      "target_X_flatten shape: torch.Size([196])\n",
      "final_feature_vec shape: torch.Size([980])\n"
     ]
    },
    {
     "name": "stderr",
     "output_type": "stream",
     "text": [
      "100%|██████████| 100/100 [00:00<00:00, 957.88it/s]\n"
     ]
    },
    {
     "name": "stdout",
     "output_type": "stream",
     "text": [
      "X_t_0 shape : torch.Size([11, 7])\n",
      "C_0 shape : torch.Size([22, 11])\n",
      "thetaC shape : torch.Size([11, 11])\n",
      "torch.Size([11, 11])\n",
      "(11, 7)\n",
      "target_theta_original shape : torch.Size([28, 28])\n",
      "target_X_original shape : torch.Size([28, 7])\n",
      "target_theta_flatten shape: torch.Size([784])\n",
      "target_X_flatten shape: torch.Size([196])\n",
      "final_feature_vec shape: torch.Size([980])\n"
     ]
    },
    {
     "name": "stderr",
     "output_type": "stream",
     "text": [
      "100%|██████████| 100/100 [00:00<00:00, 1313.83it/s]\n"
     ]
    },
    {
     "name": "stdout",
     "output_type": "stream",
     "text": [
      "X_t_0 shape : torch.Size([5, 7])\n",
      "C_0 shape : torch.Size([11, 5])\n",
      "thetaC shape : torch.Size([5, 5])\n",
      "torch.Size([5, 5])\n",
      "(5, 7)\n",
      "target_theta_original shape : torch.Size([28, 28])\n",
      "target_X_original shape : torch.Size([28, 7])\n",
      "target_theta_flatten shape: torch.Size([784])\n",
      "target_X_flatten shape: torch.Size([196])\n",
      "final_feature_vec shape: torch.Size([980])\n"
     ]
    },
    {
     "name": "stderr",
     "output_type": "stream",
     "text": [
      "100%|██████████| 100/100 [00:00<00:00, 1218.22it/s]\n"
     ]
    },
    {
     "name": "stdout",
     "output_type": "stream",
     "text": [
      "X_t_0 shape : torch.Size([8, 7])\n",
      "C_0 shape : torch.Size([17, 8])\n",
      "thetaC shape : torch.Size([8, 8])\n",
      "torch.Size([8, 8])\n",
      "(8, 7)\n",
      "target_theta_original shape : torch.Size([28, 28])\n",
      "target_X_original shape : torch.Size([28, 7])\n",
      "target_theta_flatten shape: torch.Size([784])\n",
      "target_X_flatten shape: torch.Size([196])\n",
      "final_feature_vec shape: torch.Size([980])\n"
     ]
    },
    {
     "name": "stderr",
     "output_type": "stream",
     "text": [
      "100%|██████████| 100/100 [00:00<00:00, 1385.99it/s]\n"
     ]
    },
    {
     "name": "stdout",
     "output_type": "stream",
     "text": [
      "X_t_0 shape : torch.Size([6, 7])\n",
      "C_0 shape : torch.Size([13, 6])\n",
      "thetaC shape : torch.Size([6, 6])\n",
      "torch.Size([6, 6])\n",
      "(6, 7)\n",
      "target_theta_original shape : torch.Size([28, 28])\n",
      "target_X_original shape : torch.Size([28, 7])\n",
      "target_theta_flatten shape: torch.Size([784])\n",
      "target_X_flatten shape: torch.Size([196])\n",
      "final_feature_vec shape: torch.Size([980])\n"
     ]
    },
    {
     "name": "stderr",
     "output_type": "stream",
     "text": [
      "100%|██████████| 100/100 [00:00<00:00, 1170.29it/s]\n"
     ]
    },
    {
     "name": "stdout",
     "output_type": "stream",
     "text": [
      "X_t_0 shape : torch.Size([9, 7])\n",
      "C_0 shape : torch.Size([18, 9])\n",
      "thetaC shape : torch.Size([9, 9])\n",
      "torch.Size([9, 9])\n",
      "(9, 7)\n",
      "target_theta_original shape : torch.Size([28, 28])\n",
      "target_X_original shape : torch.Size([28, 7])\n",
      "target_theta_flatten shape: torch.Size([784])\n",
      "target_X_flatten shape: torch.Size([196])\n",
      "final_feature_vec shape: torch.Size([980])\n"
     ]
    },
    {
     "name": "stderr",
     "output_type": "stream",
     "text": [
      "100%|██████████| 100/100 [00:00<00:00, 754.48it/s]\n"
     ]
    },
    {
     "name": "stdout",
     "output_type": "stream",
     "text": [
      "X_t_0 shape : torch.Size([9, 7])\n",
      "C_0 shape : torch.Size([18, 9])\n",
      "thetaC shape : torch.Size([9, 9])\n",
      "torch.Size([9, 9])\n",
      "(9, 7)\n",
      "target_theta_original shape : torch.Size([28, 28])\n",
      "target_X_original shape : torch.Size([28, 7])\n",
      "target_theta_flatten shape: torch.Size([784])\n",
      "target_X_flatten shape: torch.Size([196])\n",
      "final_feature_vec shape: torch.Size([980])\n"
     ]
    },
    {
     "name": "stderr",
     "output_type": "stream",
     "text": [
      "100%|██████████| 100/100 [00:00<00:00, 725.02it/s]\n"
     ]
    },
    {
     "name": "stdout",
     "output_type": "stream",
     "text": [
      "X_t_0 shape : torch.Size([8, 7])\n",
      "C_0 shape : torch.Size([17, 8])\n",
      "thetaC shape : torch.Size([8, 8])\n",
      "torch.Size([8, 8])\n",
      "(8, 7)\n",
      "target_theta_original shape : torch.Size([28, 28])\n",
      "target_X_original shape : torch.Size([28, 7])\n",
      "target_theta_flatten shape: torch.Size([784])\n",
      "target_X_flatten shape: torch.Size([196])\n",
      "final_feature_vec shape: torch.Size([980])\n"
     ]
    },
    {
     "name": "stderr",
     "output_type": "stream",
     "text": [
      "100%|██████████| 100/100 [00:00<00:00, 606.06it/s]\n"
     ]
    },
    {
     "name": "stdout",
     "output_type": "stream",
     "text": [
      "X_t_0 shape : torch.Size([11, 7])\n",
      "C_0 shape : torch.Size([23, 11])\n",
      "thetaC shape : torch.Size([11, 11])\n",
      "torch.Size([11, 11])\n",
      "(11, 7)\n",
      "target_theta_original shape : torch.Size([28, 28])\n",
      "target_X_original shape : torch.Size([28, 7])\n",
      "target_theta_flatten shape: torch.Size([784])\n",
      "target_X_flatten shape: torch.Size([196])\n",
      "final_feature_vec shape: torch.Size([980])\n"
     ]
    },
    {
     "name": "stderr",
     "output_type": "stream",
     "text": [
      "100%|██████████| 100/100 [00:00<00:00, 735.57it/s]\n"
     ]
    },
    {
     "name": "stdout",
     "output_type": "stream",
     "text": [
      "X_t_0 shape : torch.Size([13, 7])\n",
      "C_0 shape : torch.Size([27, 13])\n",
      "thetaC shape : torch.Size([13, 13])\n",
      "torch.Size([13, 13])\n",
      "(13, 7)\n",
      "target_theta_original shape : torch.Size([28, 28])\n",
      "target_X_original shape : torch.Size([28, 7])\n",
      "target_theta_flatten shape: torch.Size([784])\n",
      "target_X_flatten shape: torch.Size([196])\n",
      "final_feature_vec shape: torch.Size([980])\n"
     ]
    },
    {
     "name": "stderr",
     "output_type": "stream",
     "text": [
      "100%|██████████| 100/100 [00:00<00:00, 1148.20it/s]\n"
     ]
    },
    {
     "name": "stdout",
     "output_type": "stream",
     "text": [
      "X_t_0 shape : torch.Size([8, 7])\n",
      "C_0 shape : torch.Size([17, 8])\n",
      "thetaC shape : torch.Size([8, 8])\n",
      "torch.Size([8, 8])\n",
      "(8, 7)\n",
      "target_theta_original shape : torch.Size([28, 28])\n",
      "target_X_original shape : torch.Size([28, 7])\n",
      "target_theta_flatten shape: torch.Size([784])\n",
      "target_X_flatten shape: torch.Size([196])\n",
      "final_feature_vec shape: torch.Size([980])\n"
     ]
    },
    {
     "name": "stderr",
     "output_type": "stream",
     "text": [
      "100%|██████████| 100/100 [00:00<00:00, 1328.62it/s]\n"
     ]
    },
    {
     "name": "stdout",
     "output_type": "stream",
     "text": [
      "X_t_0 shape : torch.Size([6, 7])\n",
      "C_0 shape : torch.Size([13, 6])\n",
      "thetaC shape : torch.Size([6, 6])\n",
      "torch.Size([6, 6])\n",
      "(6, 7)\n",
      "target_theta_original shape : torch.Size([28, 28])\n",
      "target_X_original shape : torch.Size([28, 7])\n",
      "target_theta_flatten shape: torch.Size([784])\n",
      "target_X_flatten shape: torch.Size([196])\n",
      "final_feature_vec shape: torch.Size([980])\n"
     ]
    },
    {
     "name": "stderr",
     "output_type": "stream",
     "text": [
      "100%|██████████| 100/100 [00:00<00:00, 1000.76it/s]\n"
     ]
    },
    {
     "name": "stdout",
     "output_type": "stream",
     "text": [
      "X_t_0 shape : torch.Size([11, 7])\n",
      "C_0 shape : torch.Size([23, 11])\n",
      "thetaC shape : torch.Size([11, 11])\n",
      "torch.Size([11, 11])\n",
      "(11, 7)\n",
      "target_theta_original shape : torch.Size([28, 28])\n",
      "target_X_original shape : torch.Size([28, 7])\n",
      "target_theta_flatten shape: torch.Size([784])\n",
      "target_X_flatten shape: torch.Size([196])\n",
      "final_feature_vec shape: torch.Size([980])\n"
     ]
    },
    {
     "name": "stderr",
     "output_type": "stream",
     "text": [
      "100%|██████████| 100/100 [00:00<00:00, 1087.35it/s]\n"
     ]
    },
    {
     "name": "stdout",
     "output_type": "stream",
     "text": [
      "X_t_0 shape : torch.Size([8, 7])\n",
      "C_0 shape : torch.Size([17, 8])\n",
      "thetaC shape : torch.Size([8, 8])\n",
      "torch.Size([8, 8])\n",
      "(8, 7)\n",
      "target_theta_original shape : torch.Size([28, 28])\n",
      "target_X_original shape : torch.Size([28, 7])\n",
      "target_theta_flatten shape: torch.Size([784])\n",
      "target_X_flatten shape: torch.Size([196])\n",
      "final_feature_vec shape: torch.Size([980])\n"
     ]
    },
    {
     "name": "stderr",
     "output_type": "stream",
     "text": [
      "100%|██████████| 100/100 [00:00<00:00, 901.11it/s]\n"
     ]
    },
    {
     "name": "stdout",
     "output_type": "stream",
     "text": [
      "X_t_0 shape : torch.Size([11, 7])\n",
      "C_0 shape : torch.Size([23, 11])\n",
      "thetaC shape : torch.Size([11, 11])\n",
      "torch.Size([11, 11])\n",
      "(11, 7)\n",
      "target_theta_original shape : torch.Size([28, 28])\n",
      "target_X_original shape : torch.Size([28, 7])\n",
      "target_theta_flatten shape: torch.Size([784])\n",
      "target_X_flatten shape: torch.Size([196])\n",
      "final_feature_vec shape: torch.Size([980])\n"
     ]
    },
    {
     "name": "stderr",
     "output_type": "stream",
     "text": [
      "100%|██████████| 100/100 [00:00<00:00, 915.44it/s]\n"
     ]
    },
    {
     "name": "stdout",
     "output_type": "stream",
     "text": [
      "X_t_0 shape : torch.Size([11, 7])\n",
      "C_0 shape : torch.Size([23, 11])\n",
      "thetaC shape : torch.Size([11, 11])\n",
      "torch.Size([11, 11])\n",
      "(11, 7)\n",
      "target_theta_original shape : torch.Size([28, 28])\n",
      "target_X_original shape : torch.Size([28, 7])\n",
      "target_theta_flatten shape: torch.Size([784])\n",
      "target_X_flatten shape: torch.Size([196])\n",
      "final_feature_vec shape: torch.Size([980])\n"
     ]
    },
    {
     "name": "stderr",
     "output_type": "stream",
     "text": [
      "100%|██████████| 100/100 [00:00<00:00, 1006.09it/s]\n"
     ]
    },
    {
     "name": "stdout",
     "output_type": "stream",
     "text": [
      "X_t_0 shape : torch.Size([11, 7])\n",
      "C_0 shape : torch.Size([22, 11])\n",
      "thetaC shape : torch.Size([11, 11])\n",
      "torch.Size([11, 11])\n",
      "(11, 7)\n",
      "target_theta_original shape : torch.Size([28, 28])\n",
      "target_X_original shape : torch.Size([28, 7])\n",
      "target_theta_flatten shape: torch.Size([784])\n",
      "target_X_flatten shape: torch.Size([196])\n",
      "final_feature_vec shape: torch.Size([980])\n"
     ]
    },
    {
     "name": "stderr",
     "output_type": "stream",
     "text": [
      "100%|██████████| 100/100 [00:00<00:00, 850.62it/s]\n"
     ]
    },
    {
     "name": "stdout",
     "output_type": "stream",
     "text": [
      "X_t_0 shape : torch.Size([12, 7])\n",
      "C_0 shape : torch.Size([24, 12])\n",
      "thetaC shape : torch.Size([12, 12])\n",
      "torch.Size([12, 12])\n",
      "(12, 7)\n",
      "target_theta_original shape : torch.Size([28, 28])\n",
      "target_X_original shape : torch.Size([28, 7])\n",
      "target_theta_flatten shape: torch.Size([784])\n",
      "target_X_flatten shape: torch.Size([196])\n",
      "final_feature_vec shape: torch.Size([980])\n"
     ]
    },
    {
     "name": "stderr",
     "output_type": "stream",
     "text": [
      "100%|██████████| 100/100 [00:00<00:00, 919.17it/s]\n"
     ]
    },
    {
     "name": "stdout",
     "output_type": "stream",
     "text": [
      "X_t_0 shape : torch.Size([11, 7])\n",
      "C_0 shape : torch.Size([23, 11])\n",
      "thetaC shape : torch.Size([11, 11])\n",
      "torch.Size([11, 11])\n",
      "(11, 7)\n",
      "target_theta_original shape : torch.Size([28, 28])\n",
      "target_X_original shape : torch.Size([28, 7])\n",
      "target_theta_flatten shape: torch.Size([784])\n",
      "target_X_flatten shape: torch.Size([196])\n",
      "final_feature_vec shape: torch.Size([980])\n"
     ]
    },
    {
     "name": "stderr",
     "output_type": "stream",
     "text": [
      "100%|██████████| 100/100 [00:00<00:00, 1283.59it/s]\n"
     ]
    },
    {
     "name": "stdout",
     "output_type": "stream",
     "text": [
      "X_t_0 shape : torch.Size([6, 7])\n",
      "C_0 shape : torch.Size([13, 6])\n",
      "thetaC shape : torch.Size([6, 6])\n",
      "torch.Size([6, 6])\n",
      "(6, 7)\n",
      "target_theta_original shape : torch.Size([28, 28])\n",
      "target_X_original shape : torch.Size([28, 7])\n",
      "target_theta_flatten shape: torch.Size([784])\n",
      "target_X_flatten shape: torch.Size([196])\n",
      "final_feature_vec shape: torch.Size([980])\n"
     ]
    },
    {
     "name": "stderr",
     "output_type": "stream",
     "text": [
      "100%|██████████| 100/100 [00:00<00:00, 1096.86it/s]\n"
     ]
    },
    {
     "name": "stdout",
     "output_type": "stream",
     "text": [
      "X_t_0 shape : torch.Size([8, 7])\n",
      "C_0 shape : torch.Size([17, 8])\n",
      "thetaC shape : torch.Size([8, 8])\n",
      "torch.Size([8, 8])\n",
      "(8, 7)\n",
      "target_theta_original shape : torch.Size([28, 28])\n",
      "target_X_original shape : torch.Size([28, 7])\n",
      "target_theta_flatten shape: torch.Size([784])\n",
      "target_X_flatten shape: torch.Size([196])\n",
      "final_feature_vec shape: torch.Size([980])\n"
     ]
    },
    {
     "name": "stderr",
     "output_type": "stream",
     "text": [
      "100%|██████████| 100/100 [00:00<00:00, 1321.16it/s]\n"
     ]
    },
    {
     "name": "stdout",
     "output_type": "stream",
     "text": [
      "X_t_0 shape : torch.Size([7, 7])\n",
      "C_0 shape : torch.Size([14, 7])\n",
      "thetaC shape : torch.Size([7, 7])\n",
      "torch.Size([7, 7])\n",
      "(7, 7)\n",
      "target_theta_original shape : torch.Size([28, 28])\n",
      "target_X_original shape : torch.Size([28, 7])\n",
      "target_theta_flatten shape: torch.Size([784])\n",
      "target_X_flatten shape: torch.Size([196])\n",
      "final_feature_vec shape: torch.Size([980])\n"
     ]
    },
    {
     "name": "stderr",
     "output_type": "stream",
     "text": [
      "100%|██████████| 100/100 [00:00<00:00, 707.83it/s]\n"
     ]
    },
    {
     "name": "stdout",
     "output_type": "stream",
     "text": [
      "X_t_0 shape : torch.Size([8, 7])\n",
      "C_0 shape : torch.Size([17, 8])\n",
      "thetaC shape : torch.Size([8, 8])\n",
      "torch.Size([8, 8])\n",
      "(8, 7)\n",
      "target_theta_original shape : torch.Size([28, 28])\n",
      "target_X_original shape : torch.Size([28, 7])\n",
      "target_theta_flatten shape: torch.Size([784])\n",
      "target_X_flatten shape: torch.Size([196])\n",
      "final_feature_vec shape: torch.Size([980])\n"
     ]
    },
    {
     "name": "stderr",
     "output_type": "stream",
     "text": [
      "  2%|▏         | 2/100 [00:00<00:03, 28.58it/s]\n",
      "  2%|▏         | 2/100 [00:00<00:00, 102.27it/s]\n",
      "  2%|▏         | 2/100 [00:00<00:01, 94.27it/s]\n"
     ]
    },
    {
     "name": "stdout",
     "output_type": "stream",
     "text": [
      "X_t_0 shape : torch.Size([7, 7])\n",
      "C_0 shape : torch.Size([15, 7])\n",
      "thetaC shape : torch.Size([7, 7])\n",
      "torch.Size([7, 7])\n",
      "(7, 7)\n",
      "target_theta_original shape : torch.Size([28, 28])\n",
      "target_X_original shape : torch.Size([28, 7])\n",
      "target_theta_flatten shape: torch.Size([784])\n",
      "target_X_flatten shape: torch.Size([196])\n",
      "final_feature_vec shape: torch.Size([980])\n"
     ]
    },
    {
     "name": "stderr",
     "output_type": "stream",
     "text": [
      "  2%|▏         | 2/100 [00:00<00:01, 92.20it/s]\n",
      "  2%|▏         | 2/100 [00:00<00:01, 96.26it/s]\n",
      "  2%|▏         | 2/100 [00:00<00:01, 96.95it/s]\n"
     ]
    },
    {
     "name": "stdout",
     "output_type": "stream",
     "text": [
      "X_t_0 shape : torch.Size([7, 7])\n",
      "C_0 shape : torch.Size([15, 7])\n",
      "thetaC shape : torch.Size([7, 7])\n",
      "torch.Size([7, 7])\n",
      "(7, 7)\n",
      "target_theta_original shape : torch.Size([28, 28])\n",
      "target_X_original shape : torch.Size([28, 7])\n",
      "target_theta_flatten shape: torch.Size([784])\n",
      "target_X_flatten shape: torch.Size([196])\n",
      "final_feature_vec shape: torch.Size([980])\n"
     ]
    },
    {
     "name": "stderr",
     "output_type": "stream",
     "text": [
      "100%|██████████| 100/100 [00:00<00:00, 1287.46it/s]\n"
     ]
    },
    {
     "name": "stdout",
     "output_type": "stream",
     "text": [
      "X_t_0 shape : torch.Size([6, 7])\n",
      "C_0 shape : torch.Size([13, 6])\n",
      "thetaC shape : torch.Size([6, 6])\n",
      "torch.Size([6, 6])\n",
      "(6, 7)\n",
      "target_theta_original shape : torch.Size([28, 28])\n",
      "target_X_original shape : torch.Size([28, 7])\n",
      "target_theta_flatten shape: torch.Size([784])\n",
      "target_X_flatten shape: torch.Size([196])\n",
      "final_feature_vec shape: torch.Size([980])\n"
     ]
    },
    {
     "name": "stderr",
     "output_type": "stream",
     "text": [
      "100%|██████████| 100/100 [00:00<00:00, 1159.10it/s]\n"
     ]
    },
    {
     "name": "stdout",
     "output_type": "stream",
     "text": [
      "X_t_0 shape : torch.Size([8, 7])\n",
      "C_0 shape : torch.Size([17, 8])\n",
      "thetaC shape : torch.Size([8, 8])\n",
      "torch.Size([8, 8])\n",
      "(8, 7)\n",
      "target_theta_original shape : torch.Size([28, 28])\n",
      "target_X_original shape : torch.Size([28, 7])\n",
      "target_theta_flatten shape: torch.Size([784])\n",
      "target_X_flatten shape: torch.Size([196])\n",
      "final_feature_vec shape: torch.Size([980])\n"
     ]
    },
    {
     "name": "stderr",
     "output_type": "stream",
     "text": [
      "100%|██████████| 100/100 [00:00<00:00, 1206.64it/s]\n"
     ]
    },
    {
     "name": "stdout",
     "output_type": "stream",
     "text": [
      "X_t_0 shape : torch.Size([6, 7])\n",
      "C_0 shape : torch.Size([13, 6])\n",
      "thetaC shape : torch.Size([6, 6])\n",
      "torch.Size([6, 6])\n",
      "(6, 7)\n",
      "target_theta_original shape : torch.Size([28, 28])\n",
      "target_X_original shape : torch.Size([28, 7])\n",
      "target_theta_flatten shape: torch.Size([784])\n",
      "target_X_flatten shape: torch.Size([196])\n",
      "final_feature_vec shape: torch.Size([980])\n"
     ]
    },
    {
     "name": "stderr",
     "output_type": "stream",
     "text": [
      "100%|██████████| 100/100 [00:00<00:00, 1097.89it/s]\n"
     ]
    },
    {
     "name": "stdout",
     "output_type": "stream",
     "text": [
      "X_t_0 shape : torch.Size([9, 7])\n",
      "C_0 shape : torch.Size([19, 9])\n",
      "thetaC shape : torch.Size([9, 9])\n",
      "torch.Size([9, 9])\n",
      "(9, 7)\n",
      "target_theta_original shape : torch.Size([28, 28])\n",
      "target_X_original shape : torch.Size([28, 7])\n",
      "target_theta_flatten shape: torch.Size([784])\n",
      "target_X_flatten shape: torch.Size([196])\n",
      "final_feature_vec shape: torch.Size([980])\n"
     ]
    },
    {
     "name": "stderr",
     "output_type": "stream",
     "text": [
      "100%|██████████| 100/100 [00:00<00:00, 1135.17it/s]\n"
     ]
    },
    {
     "name": "stdout",
     "output_type": "stream",
     "text": [
      "X_t_0 shape : torch.Size([8, 7])\n",
      "C_0 shape : torch.Size([17, 8])\n",
      "thetaC shape : torch.Size([8, 8])\n",
      "torch.Size([8, 8])\n",
      "(8, 7)\n",
      "target_theta_original shape : torch.Size([28, 28])\n",
      "target_X_original shape : torch.Size([28, 7])\n",
      "target_theta_flatten shape: torch.Size([784])\n",
      "target_X_flatten shape: torch.Size([196])\n",
      "final_feature_vec shape: torch.Size([980])\n"
     ]
    },
    {
     "name": "stderr",
     "output_type": "stream",
     "text": [
      "100%|██████████| 100/100 [00:00<00:00, 1191.69it/s]\n"
     ]
    },
    {
     "name": "stdout",
     "output_type": "stream",
     "text": [
      "X_t_0 shape : torch.Size([6, 7])\n",
      "C_0 shape : torch.Size([12, 6])\n",
      "thetaC shape : torch.Size([6, 6])\n",
      "torch.Size([6, 6])\n",
      "(6, 7)\n",
      "target_theta_original shape : torch.Size([28, 28])\n",
      "target_X_original shape : torch.Size([28, 7])\n",
      "target_theta_flatten shape: torch.Size([784])\n",
      "target_X_flatten shape: torch.Size([196])\n",
      "final_feature_vec shape: torch.Size([980])\n"
     ]
    },
    {
     "name": "stderr",
     "output_type": "stream",
     "text": [
      "100%|██████████| 100/100 [00:00<00:00, 915.09it/s]\n"
     ]
    },
    {
     "name": "stdout",
     "output_type": "stream",
     "text": [
      "X_t_0 shape : torch.Size([11, 7])\n",
      "C_0 shape : torch.Size([23, 11])\n",
      "thetaC shape : torch.Size([11, 11])\n",
      "torch.Size([11, 11])\n",
      "(11, 7)\n",
      "target_theta_original shape : torch.Size([28, 28])\n",
      "target_X_original shape : torch.Size([28, 7])\n",
      "target_theta_flatten shape: torch.Size([784])\n",
      "target_X_flatten shape: torch.Size([196])\n",
      "final_feature_vec shape: torch.Size([980])\n"
     ]
    },
    {
     "name": "stderr",
     "output_type": "stream",
     "text": [
      "100%|██████████| 100/100 [00:00<00:00, 972.29it/s]\n"
     ]
    },
    {
     "name": "stdout",
     "output_type": "stream",
     "text": [
      "X_t_0 shape : torch.Size([11, 7])\n",
      "C_0 shape : torch.Size([22, 11])\n",
      "thetaC shape : torch.Size([11, 11])\n",
      "torch.Size([11, 11])\n",
      "(11, 7)\n",
      "target_theta_original shape : torch.Size([28, 28])\n",
      "target_X_original shape : torch.Size([28, 7])\n",
      "target_theta_flatten shape: torch.Size([784])\n",
      "target_X_flatten shape: torch.Size([196])\n",
      "final_feature_vec shape: torch.Size([980])\n"
     ]
    },
    {
     "name": "stderr",
     "output_type": "stream",
     "text": [
      "100%|██████████| 100/100 [00:00<00:00, 1162.22it/s]\n"
     ]
    },
    {
     "name": "stdout",
     "output_type": "stream",
     "text": [
      "X_t_0 shape : torch.Size([8, 7])\n",
      "C_0 shape : torch.Size([17, 8])\n",
      "thetaC shape : torch.Size([8, 8])\n",
      "torch.Size([8, 8])\n",
      "(8, 7)\n",
      "target_theta_original shape : torch.Size([28, 28])\n",
      "target_X_original shape : torch.Size([28, 7])\n",
      "target_theta_flatten shape: torch.Size([784])\n",
      "target_X_flatten shape: torch.Size([196])\n",
      "final_feature_vec shape: torch.Size([980])\n"
     ]
    },
    {
     "name": "stderr",
     "output_type": "stream",
     "text": [
      "100%|██████████| 100/100 [00:00<00:00, 877.42it/s]\n"
     ]
    },
    {
     "name": "stdout",
     "output_type": "stream",
     "text": [
      "X_t_0 shape : torch.Size([10, 7])\n",
      "C_0 shape : torch.Size([20, 10])\n",
      "thetaC shape : torch.Size([10, 10])\n",
      "torch.Size([10, 10])\n",
      "(10, 7)\n",
      "target_theta_original shape : torch.Size([28, 28])\n",
      "target_X_original shape : torch.Size([28, 7])\n",
      "target_theta_flatten shape: torch.Size([784])\n",
      "target_X_flatten shape: torch.Size([196])\n",
      "final_feature_vec shape: torch.Size([980])\n"
     ]
    },
    {
     "name": "stderr",
     "output_type": "stream",
     "text": [
      "100%|██████████| 100/100 [00:00<00:00, 1162.58it/s]\n"
     ]
    },
    {
     "name": "stdout",
     "output_type": "stream",
     "text": [
      "X_t_0 shape : torch.Size([8, 7])\n",
      "C_0 shape : torch.Size([16, 8])\n",
      "thetaC shape : torch.Size([8, 8])\n",
      "torch.Size([8, 8])\n",
      "(8, 7)\n",
      "target_theta_original shape : torch.Size([28, 28])\n",
      "target_X_original shape : torch.Size([28, 7])\n",
      "target_theta_flatten shape: torch.Size([784])\n",
      "target_X_flatten shape: torch.Size([196])\n",
      "final_feature_vec shape: torch.Size([980])\n"
     ]
    },
    {
     "name": "stderr",
     "output_type": "stream",
     "text": [
      "100%|██████████| 100/100 [00:00<00:00, 844.69it/s]\n"
     ]
    },
    {
     "name": "stdout",
     "output_type": "stream",
     "text": [
      "X_t_0 shape : torch.Size([13, 7])\n",
      "C_0 shape : torch.Size([26, 13])\n",
      "thetaC shape : torch.Size([13, 13])\n",
      "torch.Size([13, 13])\n",
      "(13, 7)\n",
      "target_theta_original shape : torch.Size([28, 28])\n",
      "target_X_original shape : torch.Size([28, 7])\n",
      "target_theta_flatten shape: torch.Size([784])\n",
      "target_X_flatten shape: torch.Size([196])\n",
      "final_feature_vec shape: torch.Size([980])\n"
     ]
    },
    {
     "name": "stderr",
     "output_type": "stream",
     "text": [
      "100%|██████████| 100/100 [00:00<00:00, 858.46it/s]\n"
     ]
    },
    {
     "name": "stdout",
     "output_type": "stream",
     "text": [
      "X_t_0 shape : torch.Size([13, 7])\n",
      "C_0 shape : torch.Size([26, 13])\n",
      "thetaC shape : torch.Size([13, 13])\n",
      "torch.Size([13, 13])\n",
      "(13, 7)\n",
      "target_theta_original shape : torch.Size([28, 28])\n",
      "target_X_original shape : torch.Size([28, 7])\n",
      "target_theta_flatten shape: torch.Size([784])\n",
      "target_X_flatten shape: torch.Size([196])\n",
      "final_feature_vec shape: torch.Size([980])\n"
     ]
    },
    {
     "name": "stderr",
     "output_type": "stream",
     "text": [
      "100%|██████████| 100/100 [00:00<00:00, 1004.55it/s]\n"
     ]
    },
    {
     "name": "stdout",
     "output_type": "stream",
     "text": [
      "X_t_0 shape : torch.Size([9, 7])\n",
      "C_0 shape : torch.Size([19, 9])\n",
      "thetaC shape : torch.Size([9, 9])\n",
      "torch.Size([9, 9])\n",
      "(9, 7)\n",
      "target_theta_original shape : torch.Size([28, 28])\n",
      "target_X_original shape : torch.Size([28, 7])\n",
      "target_theta_flatten shape: torch.Size([784])\n",
      "target_X_flatten shape: torch.Size([196])\n",
      "final_feature_vec shape: torch.Size([980])\n"
     ]
    },
    {
     "name": "stderr",
     "output_type": "stream",
     "text": [
      "100%|██████████| 100/100 [00:00<00:00, 1086.67it/s]\n"
     ]
    },
    {
     "name": "stdout",
     "output_type": "stream",
     "text": [
      "X_t_0 shape : torch.Size([9, 7])\n",
      "C_0 shape : torch.Size([19, 9])\n",
      "thetaC shape : torch.Size([9, 9])\n",
      "torch.Size([9, 9])\n",
      "(9, 7)\n",
      "target_theta_original shape : torch.Size([28, 28])\n",
      "target_X_original shape : torch.Size([28, 7])\n",
      "target_theta_flatten shape: torch.Size([784])\n",
      "target_X_flatten shape: torch.Size([196])\n",
      "final_feature_vec shape: torch.Size([980])\n"
     ]
    },
    {
     "name": "stderr",
     "output_type": "stream",
     "text": [
      "100%|██████████| 100/100 [00:00<00:00, 1254.96it/s]\n"
     ]
    },
    {
     "name": "stdout",
     "output_type": "stream",
     "text": [
      "X_t_0 shape : torch.Size([7, 7])\n",
      "C_0 shape : torch.Size([14, 7])\n",
      "thetaC shape : torch.Size([7, 7])\n",
      "torch.Size([7, 7])\n",
      "(7, 7)\n",
      "target_theta_original shape : torch.Size([28, 28])\n",
      "target_X_original shape : torch.Size([28, 7])\n",
      "target_theta_flatten shape: torch.Size([784])\n",
      "target_X_flatten shape: torch.Size([196])\n",
      "final_feature_vec shape: torch.Size([980])\n"
     ]
    },
    {
     "name": "stderr",
     "output_type": "stream",
     "text": [
      "100%|██████████| 100/100 [00:00<00:00, 1119.89it/s]\n"
     ]
    },
    {
     "name": "stdout",
     "output_type": "stream",
     "text": [
      "X_t_0 shape : torch.Size([8, 7])\n",
      "C_0 shape : torch.Size([17, 8])\n",
      "thetaC shape : torch.Size([8, 8])\n",
      "torch.Size([8, 8])\n",
      "(8, 7)\n",
      "target_theta_original shape : torch.Size([28, 28])\n",
      "target_X_original shape : torch.Size([28, 7])\n",
      "target_theta_flatten shape: torch.Size([784])\n",
      "target_X_flatten shape: torch.Size([196])\n",
      "final_feature_vec shape: torch.Size([980])\n"
     ]
    },
    {
     "name": "stderr",
     "output_type": "stream",
     "text": [
      "100%|██████████| 100/100 [00:00<00:00, 867.77it/s]\n"
     ]
    },
    {
     "name": "stdout",
     "output_type": "stream",
     "text": [
      "X_t_0 shape : torch.Size([10, 7])\n",
      "C_0 shape : torch.Size([21, 10])\n",
      "thetaC shape : torch.Size([10, 10])\n",
      "torch.Size([10, 10])\n",
      "(10, 7)\n",
      "target_theta_original shape : torch.Size([28, 28])\n",
      "target_X_original shape : torch.Size([28, 7])\n",
      "target_theta_flatten shape: torch.Size([784])\n",
      "target_X_flatten shape: torch.Size([196])\n",
      "final_feature_vec shape: torch.Size([980])\n"
     ]
    },
    {
     "name": "stderr",
     "output_type": "stream",
     "text": [
      "100%|██████████| 100/100 [00:00<00:00, 864.56it/s]\n"
     ]
    },
    {
     "name": "stdout",
     "output_type": "stream",
     "text": [
      "X_t_0 shape : torch.Size([12, 7])\n",
      "C_0 shape : torch.Size([25, 12])\n",
      "thetaC shape : torch.Size([12, 12])\n",
      "torch.Size([12, 12])\n",
      "(12, 7)\n",
      "target_theta_original shape : torch.Size([28, 28])\n",
      "target_X_original shape : torch.Size([28, 7])\n",
      "target_theta_flatten shape: torch.Size([784])\n",
      "target_X_flatten shape: torch.Size([196])\n",
      "final_feature_vec shape: torch.Size([980])\n"
     ]
    },
    {
     "name": "stderr",
     "output_type": "stream",
     "text": [
      "100%|██████████| 100/100 [00:00<00:00, 976.01it/s]\n"
     ]
    },
    {
     "name": "stdout",
     "output_type": "stream",
     "text": [
      "X_t_0 shape : torch.Size([11, 7])\n",
      "C_0 shape : torch.Size([23, 11])\n",
      "thetaC shape : torch.Size([11, 11])\n",
      "torch.Size([11, 11])\n",
      "(11, 7)\n",
      "target_theta_original shape : torch.Size([28, 28])\n",
      "target_X_original shape : torch.Size([28, 7])\n",
      "target_theta_flatten shape: torch.Size([784])\n",
      "target_X_flatten shape: torch.Size([196])\n",
      "final_feature_vec shape: torch.Size([980])\n"
     ]
    },
    {
     "name": "stderr",
     "output_type": "stream",
     "text": [
      "100%|██████████| 100/100 [00:00<00:00, 1000.39it/s]\n"
     ]
    },
    {
     "name": "stdout",
     "output_type": "stream",
     "text": [
      "X_t_0 shape : torch.Size([9, 7])\n",
      "C_0 shape : torch.Size([19, 9])\n",
      "thetaC shape : torch.Size([9, 9])\n",
      "torch.Size([9, 9])\n",
      "(9, 7)\n",
      "target_theta_original shape : torch.Size([28, 28])\n",
      "target_X_original shape : torch.Size([28, 7])\n",
      "target_theta_flatten shape: torch.Size([784])\n",
      "target_X_flatten shape: torch.Size([196])\n",
      "final_feature_vec shape: torch.Size([980])\n"
     ]
    },
    {
     "name": "stderr",
     "output_type": "stream",
     "text": [
      "100%|██████████| 100/100 [00:00<00:00, 921.29it/s]\n"
     ]
    },
    {
     "name": "stdout",
     "output_type": "stream",
     "text": [
      "X_t_0 shape : torch.Size([8, 7])\n",
      "C_0 shape : torch.Size([17, 8])\n",
      "thetaC shape : torch.Size([8, 8])\n",
      "torch.Size([8, 8])\n",
      "(8, 7)\n",
      "target_theta_original shape : torch.Size([28, 28])\n",
      "target_X_original shape : torch.Size([28, 7])\n",
      "target_theta_flatten shape: torch.Size([784])\n",
      "target_X_flatten shape: torch.Size([196])\n",
      "final_feature_vec shape: torch.Size([980])\n"
     ]
    },
    {
     "name": "stderr",
     "output_type": "stream",
     "text": [
      "100%|██████████| 100/100 [00:00<00:00, 840.31it/s]\n"
     ]
    },
    {
     "name": "stdout",
     "output_type": "stream",
     "text": [
      "X_t_0 shape : torch.Size([5, 7])\n",
      "C_0 shape : torch.Size([11, 5])\n",
      "thetaC shape : torch.Size([5, 5])\n",
      "torch.Size([5, 5])\n",
      "(5, 7)\n",
      "target_theta_original shape : torch.Size([28, 28])\n",
      "target_X_original shape : torch.Size([28, 7])\n",
      "target_theta_flatten shape: torch.Size([784])\n",
      "target_X_flatten shape: torch.Size([196])\n",
      "final_feature_vec shape: torch.Size([980])\n"
     ]
    },
    {
     "name": "stderr",
     "output_type": "stream",
     "text": [
      "100%|██████████| 100/100 [00:00<00:00, 576.06it/s]\n"
     ]
    },
    {
     "name": "stdout",
     "output_type": "stream",
     "text": [
      "X_t_0 shape : torch.Size([11, 7])\n",
      "C_0 shape : torch.Size([23, 11])\n",
      "thetaC shape : torch.Size([11, 11])\n",
      "torch.Size([11, 11])\n",
      "(11, 7)\n",
      "target_theta_original shape : torch.Size([28, 28])\n",
      "target_X_original shape : torch.Size([28, 7])\n",
      "target_theta_flatten shape: torch.Size([784])\n",
      "target_X_flatten shape: torch.Size([196])\n",
      "final_feature_vec shape: torch.Size([980])\n"
     ]
    },
    {
     "name": "stderr",
     "output_type": "stream",
     "text": [
      "100%|██████████| 100/100 [00:00<00:00, 903.35it/s]\n"
     ]
    },
    {
     "name": "stdout",
     "output_type": "stream",
     "text": [
      "X_t_0 shape : torch.Size([10, 7])\n",
      "C_0 shape : torch.Size([20, 10])\n",
      "thetaC shape : torch.Size([10, 10])\n",
      "torch.Size([10, 10])\n",
      "(10, 7)\n",
      "target_theta_original shape : torch.Size([28, 28])\n",
      "target_X_original shape : torch.Size([28, 7])\n",
      "target_theta_flatten shape: torch.Size([784])\n",
      "target_X_flatten shape: torch.Size([196])\n",
      "final_feature_vec shape: torch.Size([980])\n"
     ]
    },
    {
     "name": "stderr",
     "output_type": "stream",
     "text": [
      "100%|██████████| 100/100 [00:00<00:00, 1106.96it/s]\n"
     ]
    },
    {
     "name": "stdout",
     "output_type": "stream",
     "text": [
      "X_t_0 shape : torch.Size([8, 7])\n",
      "C_0 shape : torch.Size([16, 8])\n",
      "thetaC shape : torch.Size([8, 8])\n",
      "torch.Size([8, 8])\n",
      "(8, 7)\n",
      "target_theta_original shape : torch.Size([28, 28])\n",
      "target_X_original shape : torch.Size([28, 7])\n",
      "target_theta_flatten shape: torch.Size([784])\n",
      "target_X_flatten shape: torch.Size([196])\n",
      "final_feature_vec shape: torch.Size([980])\n"
     ]
    },
    {
     "name": "stderr",
     "output_type": "stream",
     "text": [
      "100%|██████████| 100/100 [00:00<00:00, 1343.75it/s]\n"
     ]
    },
    {
     "name": "stdout",
     "output_type": "stream",
     "text": [
      "X_t_0 shape : torch.Size([8, 7])\n",
      "C_0 shape : torch.Size([16, 8])\n",
      "thetaC shape : torch.Size([8, 8])\n",
      "torch.Size([8, 8])\n",
      "(8, 7)\n",
      "target_theta_original shape : torch.Size([28, 28])\n",
      "target_X_original shape : torch.Size([28, 7])\n",
      "target_theta_flatten shape: torch.Size([784])\n",
      "target_X_flatten shape: torch.Size([196])\n",
      "final_feature_vec shape: torch.Size([980])\n"
     ]
    },
    {
     "name": "stderr",
     "output_type": "stream",
     "text": [
      "100%|██████████| 100/100 [00:00<00:00, 1058.44it/s]\n"
     ]
    },
    {
     "name": "stdout",
     "output_type": "stream",
     "text": [
      "X_t_0 shape : torch.Size([10, 7])\n",
      "C_0 shape : torch.Size([20, 10])\n",
      "thetaC shape : torch.Size([10, 10])\n",
      "torch.Size([10, 10])\n",
      "(10, 7)\n",
      "target_theta_original shape : torch.Size([28, 28])\n",
      "target_X_original shape : torch.Size([28, 7])\n",
      "target_theta_flatten shape: torch.Size([784])\n",
      "target_X_flatten shape: torch.Size([196])\n",
      "final_feature_vec shape: torch.Size([980])\n"
     ]
    },
    {
     "name": "stderr",
     "output_type": "stream",
     "text": [
      "100%|██████████| 100/100 [00:00<00:00, 966.84it/s]\n"
     ]
    },
    {
     "name": "stdout",
     "output_type": "stream",
     "text": [
      "X_t_0 shape : torch.Size([11, 7])\n",
      "C_0 shape : torch.Size([23, 11])\n",
      "thetaC shape : torch.Size([11, 11])\n",
      "torch.Size([11, 11])\n",
      "(11, 7)\n",
      "target_theta_original shape : torch.Size([28, 28])\n",
      "target_X_original shape : torch.Size([28, 7])\n",
      "target_theta_flatten shape: torch.Size([784])\n",
      "target_X_flatten shape: torch.Size([196])\n",
      "final_feature_vec shape: torch.Size([980])\n"
     ]
    },
    {
     "name": "stderr",
     "output_type": "stream",
     "text": [
      "100%|██████████| 100/100 [00:00<00:00, 1094.07it/s]\n"
     ]
    },
    {
     "name": "stdout",
     "output_type": "stream",
     "text": [
      "X_t_0 shape : torch.Size([9, 7])\n",
      "C_0 shape : torch.Size([19, 9])\n",
      "thetaC shape : torch.Size([9, 9])\n",
      "torch.Size([9, 9])\n",
      "(9, 7)\n",
      "target_theta_original shape : torch.Size([28, 28])\n",
      "target_X_original shape : torch.Size([28, 7])\n",
      "target_theta_flatten shape: torch.Size([784])\n",
      "target_X_flatten shape: torch.Size([196])\n",
      "final_feature_vec shape: torch.Size([980])\n"
     ]
    },
    {
     "name": "stderr",
     "output_type": "stream",
     "text": [
      "100%|██████████| 100/100 [00:00<00:00, 1214.55it/s]\n"
     ]
    },
    {
     "name": "stdout",
     "output_type": "stream",
     "text": [
      "X_t_0 shape : torch.Size([7, 7])\n",
      "C_0 shape : torch.Size([14, 7])\n",
      "thetaC shape : torch.Size([7, 7])\n",
      "torch.Size([7, 7])\n",
      "(7, 7)\n",
      "target_theta_original shape : torch.Size([28, 28])\n",
      "target_X_original shape : torch.Size([28, 7])\n",
      "target_theta_flatten shape: torch.Size([784])\n",
      "target_X_flatten shape: torch.Size([196])\n",
      "final_feature_vec shape: torch.Size([980])\n"
     ]
    },
    {
     "name": "stderr",
     "output_type": "stream",
     "text": [
      "100%|██████████| 100/100 [00:00<00:00, 817.89it/s]\n"
     ]
    },
    {
     "name": "stdout",
     "output_type": "stream",
     "text": [
      "X_t_0 shape : torch.Size([13, 7])\n",
      "C_0 shape : torch.Size([26, 13])\n",
      "thetaC shape : torch.Size([13, 13])\n",
      "torch.Size([13, 13])\n",
      "(13, 7)\n",
      "target_theta_original shape : torch.Size([28, 28])\n",
      "target_X_original shape : torch.Size([28, 7])\n",
      "target_theta_flatten shape: torch.Size([784])\n",
      "target_X_flatten shape: torch.Size([196])\n",
      "final_feature_vec shape: torch.Size([980])\n"
     ]
    },
    {
     "name": "stderr",
     "output_type": "stream",
     "text": [
      "100%|██████████| 100/100 [00:00<00:00, 1124.79it/s]\n"
     ]
    },
    {
     "name": "stdout",
     "output_type": "stream",
     "text": [
      "X_t_0 shape : torch.Size([8, 7])\n",
      "C_0 shape : torch.Size([16, 8])\n",
      "thetaC shape : torch.Size([8, 8])\n",
      "torch.Size([8, 8])\n",
      "(8, 7)\n",
      "target_theta_original shape : torch.Size([28, 28])\n",
      "target_X_original shape : torch.Size([28, 7])\n",
      "target_theta_flatten shape: torch.Size([784])\n",
      "target_X_flatten shape: torch.Size([196])\n",
      "final_feature_vec shape: torch.Size([980])\n"
     ]
    },
    {
     "name": "stderr",
     "output_type": "stream",
     "text": [
      "100%|██████████| 100/100 [00:00<00:00, 1063.77it/s]\n"
     ]
    },
    {
     "name": "stdout",
     "output_type": "stream",
     "text": [
      "X_t_0 shape : torch.Size([8, 7])\n",
      "C_0 shape : torch.Size([16, 8])\n",
      "thetaC shape : torch.Size([8, 8])\n",
      "torch.Size([8, 8])\n",
      "(8, 7)\n",
      "target_theta_original shape : torch.Size([28, 28])\n",
      "target_X_original shape : torch.Size([28, 7])\n",
      "target_theta_flatten shape: torch.Size([784])\n",
      "target_X_flatten shape: torch.Size([196])\n",
      "final_feature_vec shape: torch.Size([980])\n"
     ]
    },
    {
     "name": "stderr",
     "output_type": "stream",
     "text": [
      "100%|██████████| 100/100 [00:00<00:00, 869.57it/s]\n"
     ]
    },
    {
     "name": "stdout",
     "output_type": "stream",
     "text": [
      "X_t_0 shape : torch.Size([11, 7])\n",
      "C_0 shape : torch.Size([23, 11])\n",
      "thetaC shape : torch.Size([11, 11])\n",
      "torch.Size([11, 11])\n",
      "(11, 7)\n",
      "target_theta_original shape : torch.Size([28, 28])\n",
      "target_X_original shape : torch.Size([28, 7])\n",
      "target_theta_flatten shape: torch.Size([784])\n",
      "target_X_flatten shape: torch.Size([196])\n",
      "final_feature_vec shape: torch.Size([980])\n"
     ]
    },
    {
     "name": "stderr",
     "output_type": "stream",
     "text": [
      "100%|██████████| 100/100 [00:00<00:00, 755.45it/s]\n"
     ]
    },
    {
     "name": "stdout",
     "output_type": "stream",
     "text": [
      "X_t_0 shape : torch.Size([9, 7])\n",
      "C_0 shape : torch.Size([18, 9])\n",
      "thetaC shape : torch.Size([9, 9])\n",
      "torch.Size([9, 9])\n",
      "(9, 7)\n",
      "target_theta_original shape : torch.Size([28, 28])\n",
      "target_X_original shape : torch.Size([28, 7])\n",
      "target_theta_flatten shape: torch.Size([784])\n",
      "target_X_flatten shape: torch.Size([196])\n",
      "final_feature_vec shape: torch.Size([980])\n"
     ]
    },
    {
     "name": "stderr",
     "output_type": "stream",
     "text": [
      "100%|██████████| 100/100 [00:00<00:00, 1131.20it/s]\n"
     ]
    },
    {
     "name": "stdout",
     "output_type": "stream",
     "text": [
      "X_t_0 shape : torch.Size([5, 7])\n",
      "C_0 shape : torch.Size([10, 5])\n",
      "thetaC shape : torch.Size([5, 5])\n",
      "torch.Size([5, 5])\n",
      "(5, 7)\n",
      "target_theta_original shape : torch.Size([28, 28])\n",
      "target_X_original shape : torch.Size([28, 7])\n",
      "target_theta_flatten shape: torch.Size([784])\n",
      "target_X_flatten shape: torch.Size([196])\n",
      "final_feature_vec shape: torch.Size([980])\n"
     ]
    },
    {
     "name": "stderr",
     "output_type": "stream",
     "text": [
      "100%|██████████| 100/100 [00:00<00:00, 1036.20it/s]\n"
     ]
    },
    {
     "name": "stdout",
     "output_type": "stream",
     "text": [
      "X_t_0 shape : torch.Size([8, 7])\n",
      "C_0 shape : torch.Size([16, 8])\n",
      "thetaC shape : torch.Size([8, 8])\n",
      "torch.Size([8, 8])\n",
      "(8, 7)\n",
      "target_theta_original shape : torch.Size([28, 28])\n",
      "target_X_original shape : torch.Size([28, 7])\n",
      "target_theta_flatten shape: torch.Size([784])\n",
      "target_X_flatten shape: torch.Size([196])\n",
      "final_feature_vec shape: torch.Size([980])\n"
     ]
    },
    {
     "name": "stderr",
     "output_type": "stream",
     "text": [
      "100%|██████████| 100/100 [00:00<00:00, 1166.44it/s]\n"
     ]
    },
    {
     "name": "stdout",
     "output_type": "stream",
     "text": [
      "X_t_0 shape : torch.Size([8, 7])\n",
      "C_0 shape : torch.Size([16, 8])\n",
      "thetaC shape : torch.Size([8, 8])\n",
      "torch.Size([8, 8])\n",
      "(8, 7)\n",
      "target_theta_original shape : torch.Size([28, 28])\n",
      "target_X_original shape : torch.Size([28, 7])\n",
      "target_theta_flatten shape: torch.Size([784])\n",
      "target_X_flatten shape: torch.Size([196])\n",
      "final_feature_vec shape: torch.Size([980])\n"
     ]
    },
    {
     "name": "stderr",
     "output_type": "stream",
     "text": [
      "100%|██████████| 100/100 [00:00<00:00, 1119.78it/s]\n"
     ]
    },
    {
     "name": "stdout",
     "output_type": "stream",
     "text": [
      "X_t_0 shape : torch.Size([8, 7])\n",
      "C_0 shape : torch.Size([17, 8])\n",
      "thetaC shape : torch.Size([8, 8])\n",
      "torch.Size([8, 8])\n",
      "(8, 7)\n",
      "target_theta_original shape : torch.Size([28, 28])\n",
      "target_X_original shape : torch.Size([28, 7])\n",
      "target_theta_flatten shape: torch.Size([784])\n",
      "target_X_flatten shape: torch.Size([196])\n",
      "final_feature_vec shape: torch.Size([980])\n"
     ]
    },
    {
     "name": "stderr",
     "output_type": "stream",
     "text": [
      "100%|██████████| 100/100 [00:00<00:00, 888.50it/s]\n"
     ]
    },
    {
     "name": "stdout",
     "output_type": "stream",
     "text": [
      "X_t_0 shape : torch.Size([9, 7])\n",
      "C_0 shape : torch.Size([19, 9])\n",
      "thetaC shape : torch.Size([9, 9])\n",
      "torch.Size([9, 9])\n",
      "(9, 7)\n",
      "target_theta_original shape : torch.Size([28, 28])\n",
      "target_X_original shape : torch.Size([28, 7])\n",
      "target_theta_flatten shape: torch.Size([784])\n",
      "target_X_flatten shape: torch.Size([196])\n",
      "final_feature_vec shape: torch.Size([980])\n"
     ]
    },
    {
     "name": "stderr",
     "output_type": "stream",
     "text": [
      "100%|██████████| 100/100 [00:00<00:00, 1332.70it/s]\n"
     ]
    },
    {
     "name": "stdout",
     "output_type": "stream",
     "text": [
      "X_t_0 shape : torch.Size([6, 7])\n",
      "C_0 shape : torch.Size([12, 6])\n",
      "thetaC shape : torch.Size([6, 6])\n",
      "torch.Size([6, 6])\n",
      "(6, 7)\n",
      "target_theta_original shape : torch.Size([28, 28])\n",
      "target_X_original shape : torch.Size([28, 7])\n",
      "target_theta_flatten shape: torch.Size([784])\n",
      "target_X_flatten shape: torch.Size([196])\n",
      "final_feature_vec shape: torch.Size([980])\n"
     ]
    },
    {
     "name": "stderr",
     "output_type": "stream",
     "text": [
      "100%|██████████| 100/100 [00:00<00:00, 903.98it/s]\n"
     ]
    },
    {
     "name": "stdout",
     "output_type": "stream",
     "text": [
      "X_t_0 shape : torch.Size([12, 7])\n",
      "C_0 shape : torch.Size([25, 12])\n",
      "thetaC shape : torch.Size([12, 12])\n",
      "torch.Size([12, 12])\n",
      "(12, 7)\n",
      "target_theta_original shape : torch.Size([28, 28])\n",
      "target_X_original shape : torch.Size([28, 7])\n",
      "target_theta_flatten shape: torch.Size([784])\n",
      "target_X_flatten shape: torch.Size([196])\n",
      "final_feature_vec shape: torch.Size([980])\n"
     ]
    },
    {
     "name": "stderr",
     "output_type": "stream",
     "text": [
      "100%|██████████| 100/100 [00:00<00:00, 1280.70it/s]\n"
     ]
    },
    {
     "name": "stdout",
     "output_type": "stream",
     "text": [
      "X_t_0 shape : torch.Size([8, 7])\n",
      "C_0 shape : torch.Size([16, 8])\n",
      "thetaC shape : torch.Size([8, 8])\n",
      "torch.Size([8, 8])\n",
      "(8, 7)\n",
      "target_theta_original shape : torch.Size([28, 28])\n",
      "target_X_original shape : torch.Size([28, 7])\n",
      "target_theta_flatten shape: torch.Size([784])\n",
      "target_X_flatten shape: torch.Size([196])\n",
      "final_feature_vec shape: torch.Size([980])\n"
     ]
    },
    {
     "name": "stderr",
     "output_type": "stream",
     "text": [
      "100%|██████████| 100/100 [00:00<00:00, 1348.80it/s]\n"
     ]
    },
    {
     "name": "stdout",
     "output_type": "stream",
     "text": [
      "X_t_0 shape : torch.Size([5, 7])\n",
      "C_0 shape : torch.Size([11, 5])\n",
      "thetaC shape : torch.Size([5, 5])\n",
      "torch.Size([5, 5])\n",
      "(5, 7)\n",
      "target_theta_original shape : torch.Size([28, 28])\n",
      "target_X_original shape : torch.Size([28, 7])\n",
      "target_theta_flatten shape: torch.Size([784])\n",
      "target_X_flatten shape: torch.Size([196])\n",
      "final_feature_vec shape: torch.Size([980])\n"
     ]
    },
    {
     "name": "stderr",
     "output_type": "stream",
     "text": [
      "100%|██████████| 100/100 [00:00<00:00, 820.84it/s]\n"
     ]
    },
    {
     "name": "stdout",
     "output_type": "stream",
     "text": [
      "X_t_0 shape : torch.Size([11, 7])\n",
      "C_0 shape : torch.Size([23, 11])\n",
      "thetaC shape : torch.Size([11, 11])\n",
      "torch.Size([11, 11])\n",
      "(11, 7)\n",
      "target_theta_original shape : torch.Size([28, 28])\n",
      "target_X_original shape : torch.Size([28, 7])\n",
      "target_theta_flatten shape: torch.Size([784])\n",
      "target_X_flatten shape: torch.Size([196])\n",
      "final_feature_vec shape: torch.Size([980])\n"
     ]
    },
    {
     "name": "stderr",
     "output_type": "stream",
     "text": [
      "100%|██████████| 100/100 [00:00<00:00, 832.19it/s]\n"
     ]
    },
    {
     "name": "stdout",
     "output_type": "stream",
     "text": [
      "X_t_0 shape : torch.Size([11, 7])\n",
      "C_0 shape : torch.Size([23, 11])\n",
      "thetaC shape : torch.Size([11, 11])\n",
      "torch.Size([11, 11])\n",
      "(11, 7)\n",
      "target_theta_original shape : torch.Size([28, 28])\n",
      "target_X_original shape : torch.Size([28, 7])\n",
      "target_theta_flatten shape: torch.Size([784])\n",
      "target_X_flatten shape: torch.Size([196])\n",
      "final_feature_vec shape: torch.Size([980])\n"
     ]
    },
    {
     "name": "stderr",
     "output_type": "stream",
     "text": [
      "100%|██████████| 100/100 [00:00<00:00, 1140.39it/s]\n"
     ]
    },
    {
     "name": "stdout",
     "output_type": "stream",
     "text": [
      "X_t_0 shape : torch.Size([8, 7])\n",
      "C_0 shape : torch.Size([16, 8])\n",
      "thetaC shape : torch.Size([8, 8])\n",
      "torch.Size([8, 8])\n",
      "(8, 7)\n",
      "target_theta_original shape : torch.Size([28, 28])\n",
      "target_X_original shape : torch.Size([28, 7])\n",
      "target_theta_flatten shape: torch.Size([784])\n",
      "target_X_flatten shape: torch.Size([196])\n",
      "final_feature_vec shape: torch.Size([980])\n"
     ]
    },
    {
     "name": "stderr",
     "output_type": "stream",
     "text": [
      "100%|██████████| 100/100 [00:00<00:00, 1218.14it/s]\n"
     ]
    },
    {
     "name": "stdout",
     "output_type": "stream",
     "text": [
      "X_t_0 shape : torch.Size([6, 7])\n",
      "C_0 shape : torch.Size([12, 6])\n",
      "thetaC shape : torch.Size([6, 6])\n",
      "torch.Size([6, 6])\n",
      "(6, 7)\n",
      "target_theta_original shape : torch.Size([28, 28])\n",
      "target_X_original shape : torch.Size([28, 7])\n",
      "target_theta_flatten shape: torch.Size([784])\n",
      "target_X_flatten shape: torch.Size([196])\n",
      "final_feature_vec shape: torch.Size([980])\n"
     ]
    },
    {
     "name": "stderr",
     "output_type": "stream",
     "text": [
      "100%|██████████| 100/100 [00:00<00:00, 1236.46it/s]\n"
     ]
    },
    {
     "name": "stdout",
     "output_type": "stream",
     "text": [
      "X_t_0 shape : torch.Size([6, 7])\n",
      "C_0 shape : torch.Size([13, 6])\n",
      "thetaC shape : torch.Size([6, 6])\n",
      "torch.Size([6, 6])\n",
      "(6, 7)\n",
      "target_theta_original shape : torch.Size([28, 28])\n",
      "target_X_original shape : torch.Size([28, 7])\n",
      "target_theta_flatten shape: torch.Size([784])\n",
      "target_X_flatten shape: torch.Size([196])\n",
      "final_feature_vec shape: torch.Size([980])\n"
     ]
    },
    {
     "name": "stderr",
     "output_type": "stream",
     "text": [
      "100%|██████████| 100/100 [00:00<00:00, 902.73it/s]\n"
     ]
    },
    {
     "name": "stdout",
     "output_type": "stream",
     "text": [
      "X_t_0 shape : torch.Size([11, 7])\n",
      "C_0 shape : torch.Size([23, 11])\n",
      "thetaC shape : torch.Size([11, 11])\n",
      "torch.Size([11, 11])\n",
      "(11, 7)\n",
      "target_theta_original shape : torch.Size([28, 28])\n",
      "target_X_original shape : torch.Size([28, 7])\n",
      "target_theta_flatten shape: torch.Size([784])\n",
      "target_X_flatten shape: torch.Size([196])\n",
      "final_feature_vec shape: torch.Size([980])\n"
     ]
    },
    {
     "name": "stderr",
     "output_type": "stream",
     "text": [
      "100%|██████████| 100/100 [00:00<00:00, 785.60it/s]\n"
     ]
    },
    {
     "name": "stdout",
     "output_type": "stream",
     "text": [
      "X_t_0 shape : torch.Size([12, 7])\n",
      "C_0 shape : torch.Size([25, 12])\n",
      "thetaC shape : torch.Size([12, 12])\n",
      "torch.Size([12, 12])\n",
      "(12, 7)\n",
      "target_theta_original shape : torch.Size([28, 28])\n",
      "target_X_original shape : torch.Size([28, 7])\n",
      "target_theta_flatten shape: torch.Size([784])\n",
      "target_X_flatten shape: torch.Size([196])\n",
      "final_feature_vec shape: torch.Size([980])\n"
     ]
    },
    {
     "name": "stderr",
     "output_type": "stream",
     "text": [
      "100%|██████████| 100/100 [00:00<00:00, 1053.82it/s]\n"
     ]
    },
    {
     "name": "stdout",
     "output_type": "stream",
     "text": [
      "X_t_0 shape : torch.Size([9, 7])\n",
      "C_0 shape : torch.Size([19, 9])\n",
      "thetaC shape : torch.Size([9, 9])\n",
      "torch.Size([9, 9])\n",
      "(9, 7)\n",
      "target_theta_original shape : torch.Size([28, 28])\n",
      "target_X_original shape : torch.Size([28, 7])\n",
      "target_theta_flatten shape: torch.Size([784])\n",
      "target_X_flatten shape: torch.Size([196])\n",
      "final_feature_vec shape: torch.Size([980])\n"
     ]
    },
    {
     "name": "stderr",
     "output_type": "stream",
     "text": [
      "100%|██████████| 100/100 [00:00<00:00, 861.61it/s]\n"
     ]
    },
    {
     "name": "stdout",
     "output_type": "stream",
     "text": [
      "X_t_0 shape : torch.Size([11, 7])\n",
      "C_0 shape : torch.Size([23, 11])\n",
      "thetaC shape : torch.Size([11, 11])\n",
      "torch.Size([11, 11])\n",
      "(11, 7)\n",
      "target_theta_original shape : torch.Size([28, 28])\n",
      "target_X_original shape : torch.Size([28, 7])\n",
      "target_theta_flatten shape: torch.Size([784])\n",
      "target_X_flatten shape: torch.Size([196])\n",
      "final_feature_vec shape: torch.Size([980])\n"
     ]
    },
    {
     "name": "stderr",
     "output_type": "stream",
     "text": [
      "100%|██████████| 100/100 [00:00<00:00, 1065.21it/s]\n"
     ]
    },
    {
     "name": "stdout",
     "output_type": "stream",
     "text": [
      "X_t_0 shape : torch.Size([9, 7])\n",
      "C_0 shape : torch.Size([19, 9])\n",
      "thetaC shape : torch.Size([9, 9])\n",
      "torch.Size([9, 9])\n",
      "(9, 7)\n",
      "target_theta_original shape : torch.Size([28, 28])\n",
      "target_X_original shape : torch.Size([28, 7])\n",
      "target_theta_flatten shape: torch.Size([784])\n",
      "target_X_flatten shape: torch.Size([196])\n",
      "final_feature_vec shape: torch.Size([980])\n"
     ]
    },
    {
     "name": "stderr",
     "output_type": "stream",
     "text": [
      "100%|██████████| 100/100 [00:00<00:00, 1090.36it/s]\n"
     ]
    },
    {
     "name": "stdout",
     "output_type": "stream",
     "text": [
      "X_t_0 shape : torch.Size([9, 7])\n",
      "C_0 shape : torch.Size([19, 9])\n",
      "thetaC shape : torch.Size([9, 9])\n",
      "torch.Size([9, 9])\n",
      "(9, 7)\n",
      "target_theta_original shape : torch.Size([28, 28])\n",
      "target_X_original shape : torch.Size([28, 7])\n",
      "target_theta_flatten shape: torch.Size([784])\n",
      "target_X_flatten shape: torch.Size([196])\n",
      "final_feature_vec shape: torch.Size([980])\n"
     ]
    },
    {
     "name": "stderr",
     "output_type": "stream",
     "text": [
      "100%|██████████| 100/100 [00:00<00:00, 709.02it/s]\n"
     ]
    },
    {
     "name": "stdout",
     "output_type": "stream",
     "text": [
      "X_t_0 shape : torch.Size([12, 7])\n",
      "C_0 shape : torch.Size([25, 12])\n",
      "thetaC shape : torch.Size([12, 12])\n",
      "torch.Size([12, 12])\n",
      "(12, 7)\n",
      "target_theta_original shape : torch.Size([28, 28])\n",
      "target_X_original shape : torch.Size([28, 7])\n",
      "target_theta_flatten shape: torch.Size([784])\n",
      "target_X_flatten shape: torch.Size([196])\n",
      "final_feature_vec shape: torch.Size([980])\n"
     ]
    },
    {
     "name": "stderr",
     "output_type": "stream",
     "text": [
      "100%|██████████| 100/100 [00:00<00:00, 1111.16it/s]\n"
     ]
    },
    {
     "name": "stdout",
     "output_type": "stream",
     "text": [
      "X_t_0 shape : torch.Size([9, 7])\n",
      "C_0 shape : torch.Size([18, 9])\n",
      "thetaC shape : torch.Size([9, 9])\n",
      "torch.Size([9, 9])\n",
      "(9, 7)\n",
      "target_theta_original shape : torch.Size([28, 28])\n",
      "target_X_original shape : torch.Size([28, 7])\n",
      "target_theta_flatten shape: torch.Size([784])\n",
      "target_X_flatten shape: torch.Size([196])\n",
      "final_feature_vec shape: torch.Size([980])\n"
     ]
    },
    {
     "name": "stderr",
     "output_type": "stream",
     "text": [
      "100%|██████████| 100/100 [00:00<00:00, 1296.03it/s]\n"
     ]
    },
    {
     "name": "stdout",
     "output_type": "stream",
     "text": [
      "X_t_0 shape : torch.Size([6, 7])\n",
      "C_0 shape : torch.Size([13, 6])\n",
      "thetaC shape : torch.Size([6, 6])\n",
      "torch.Size([6, 6])\n",
      "(6, 7)\n",
      "target_theta_original shape : torch.Size([28, 28])\n",
      "target_X_original shape : torch.Size([28, 7])\n",
      "target_theta_flatten shape: torch.Size([784])\n",
      "target_X_flatten shape: torch.Size([196])\n",
      "final_feature_vec shape: torch.Size([980])\n"
     ]
    },
    {
     "name": "stderr",
     "output_type": "stream",
     "text": [
      "  2%|▏         | 2/100 [00:00<00:01, 88.98it/s]\n",
      "  2%|▏         | 2/100 [00:00<00:01, 88.43it/s]\n",
      "  2%|▏         | 2/100 [00:00<00:00, 99.07it/s]\n"
     ]
    },
    {
     "name": "stdout",
     "output_type": "stream",
     "text": [
      "X_t_0 shape : torch.Size([7, 7])\n",
      "C_0 shape : torch.Size([15, 7])\n",
      "thetaC shape : torch.Size([7, 7])\n",
      "torch.Size([7, 7])\n",
      "(7, 7)\n",
      "target_theta_original shape : torch.Size([28, 28])\n",
      "target_X_original shape : torch.Size([28, 7])\n",
      "target_theta_flatten shape: torch.Size([784])\n",
      "target_X_flatten shape: torch.Size([196])\n",
      "final_feature_vec shape: torch.Size([980])\n"
     ]
    },
    {
     "name": "stderr",
     "output_type": "stream",
     "text": [
      "100%|██████████| 100/100 [00:00<00:00, 1331.97it/s]\n"
     ]
    },
    {
     "name": "stdout",
     "output_type": "stream",
     "text": [
      "X_t_0 shape : torch.Size([8, 7])\n",
      "C_0 shape : torch.Size([16, 8])\n",
      "thetaC shape : torch.Size([8, 8])\n",
      "torch.Size([8, 8])\n",
      "(8, 7)\n",
      "target_theta_original shape : torch.Size([28, 28])\n",
      "target_X_original shape : torch.Size([28, 7])\n",
      "target_theta_flatten shape: torch.Size([784])\n",
      "target_X_flatten shape: torch.Size([196])\n",
      "final_feature_vec shape: torch.Size([980])\n"
     ]
    },
    {
     "name": "stderr",
     "output_type": "stream",
     "text": [
      "100%|██████████| 100/100 [00:00<00:00, 814.11it/s]\n"
     ]
    },
    {
     "name": "stdout",
     "output_type": "stream",
     "text": [
      "X_t_0 shape : torch.Size([11, 7])\n",
      "C_0 shape : torch.Size([23, 11])\n",
      "thetaC shape : torch.Size([11, 11])\n",
      "torch.Size([11, 11])\n",
      "(11, 7)\n",
      "target_theta_original shape : torch.Size([28, 28])\n",
      "target_X_original shape : torch.Size([28, 7])\n",
      "target_theta_flatten shape: torch.Size([784])\n",
      "target_X_flatten shape: torch.Size([196])\n",
      "final_feature_vec shape: torch.Size([980])\n"
     ]
    },
    {
     "name": "stderr",
     "output_type": "stream",
     "text": [
      "100%|██████████| 100/100 [00:00<00:00, 794.73it/s]\n"
     ]
    },
    {
     "name": "stdout",
     "output_type": "stream",
     "text": [
      "X_t_0 shape : torch.Size([13, 7])\n",
      "C_0 shape : torch.Size([26, 13])\n",
      "thetaC shape : torch.Size([13, 13])\n",
      "torch.Size([13, 13])\n",
      "(13, 7)\n",
      "target_theta_original shape : torch.Size([28, 28])\n",
      "target_X_original shape : torch.Size([28, 7])\n",
      "target_theta_flatten shape: torch.Size([784])\n",
      "target_X_flatten shape: torch.Size([196])\n",
      "final_feature_vec shape: torch.Size([980])\n"
     ]
    },
    {
     "name": "stderr",
     "output_type": "stream",
     "text": [
      "100%|██████████| 100/100 [00:00<00:00, 1055.19it/s]\n"
     ]
    },
    {
     "name": "stdout",
     "output_type": "stream",
     "text": [
      "X_t_0 shape : torch.Size([9, 7])\n",
      "C_0 shape : torch.Size([19, 9])\n",
      "thetaC shape : torch.Size([9, 9])\n",
      "torch.Size([9, 9])\n",
      "(9, 7)\n",
      "target_theta_original shape : torch.Size([28, 28])\n",
      "target_X_original shape : torch.Size([28, 7])\n",
      "target_theta_flatten shape: torch.Size([784])\n",
      "target_X_flatten shape: torch.Size([196])\n",
      "final_feature_vec shape: torch.Size([980])\n"
     ]
    },
    {
     "name": "stderr",
     "output_type": "stream",
     "text": [
      "100%|██████████| 100/100 [00:00<00:00, 806.79it/s]\n"
     ]
    },
    {
     "name": "stdout",
     "output_type": "stream",
     "text": [
      "X_t_0 shape : torch.Size([11, 7])\n",
      "C_0 shape : torch.Size([23, 11])\n",
      "thetaC shape : torch.Size([11, 11])\n",
      "torch.Size([11, 11])\n",
      "(11, 7)\n",
      "target_theta_original shape : torch.Size([28, 28])\n",
      "target_X_original shape : torch.Size([28, 7])\n",
      "target_theta_flatten shape: torch.Size([784])\n",
      "target_X_flatten shape: torch.Size([196])\n",
      "final_feature_vec shape: torch.Size([980])\n"
     ]
    },
    {
     "name": "stderr",
     "output_type": "stream",
     "text": [
      "100%|██████████| 100/100 [00:00<00:00, 1163.31it/s]\n"
     ]
    },
    {
     "name": "stdout",
     "output_type": "stream",
     "text": [
      "X_t_0 shape : torch.Size([8, 7])\n",
      "C_0 shape : torch.Size([17, 8])\n",
      "thetaC shape : torch.Size([8, 8])\n",
      "torch.Size([8, 8])\n",
      "(8, 7)\n",
      "target_theta_original shape : torch.Size([28, 28])\n",
      "target_X_original shape : torch.Size([28, 7])\n",
      "target_theta_flatten shape: torch.Size([784])\n",
      "target_X_flatten shape: torch.Size([196])\n",
      "final_feature_vec shape: torch.Size([980])\n"
     ]
    },
    {
     "name": "stderr",
     "output_type": "stream",
     "text": [
      "100%|██████████| 100/100 [00:00<00:00, 1029.20it/s]\n"
     ]
    },
    {
     "name": "stdout",
     "output_type": "stream",
     "text": [
      "X_t_0 shape : torch.Size([10, 7])\n",
      "C_0 shape : torch.Size([20, 10])\n",
      "thetaC shape : torch.Size([10, 10])\n",
      "torch.Size([10, 10])\n",
      "(10, 7)\n",
      "target_theta_original shape : torch.Size([28, 28])\n",
      "target_X_original shape : torch.Size([28, 7])\n",
      "target_theta_flatten shape: torch.Size([784])\n",
      "target_X_flatten shape: torch.Size([196])\n",
      "final_feature_vec shape: torch.Size([980])\n"
     ]
    },
    {
     "name": "stderr",
     "output_type": "stream",
     "text": [
      "100%|██████████| 100/100 [00:00<00:00, 831.97it/s]\n"
     ]
    },
    {
     "name": "stdout",
     "output_type": "stream",
     "text": [
      "X_t_0 shape : torch.Size([12, 7])\n",
      "C_0 shape : torch.Size([25, 12])\n",
      "thetaC shape : torch.Size([12, 12])\n",
      "torch.Size([12, 12])\n",
      "(12, 7)\n",
      "target_theta_original shape : torch.Size([28, 28])\n",
      "target_X_original shape : torch.Size([28, 7])\n",
      "target_theta_flatten shape: torch.Size([784])\n",
      "target_X_flatten shape: torch.Size([196])\n",
      "final_feature_vec shape: torch.Size([980])\n"
     ]
    },
    {
     "name": "stderr",
     "output_type": "stream",
     "text": [
      "100%|██████████| 100/100 [00:00<00:00, 1037.40it/s]\n"
     ]
    },
    {
     "name": "stdout",
     "output_type": "stream",
     "text": [
      "X_t_0 shape : torch.Size([9, 7])\n",
      "C_0 shape : torch.Size([19, 9])\n",
      "thetaC shape : torch.Size([9, 9])\n",
      "torch.Size([9, 9])\n",
      "(9, 7)\n",
      "target_theta_original shape : torch.Size([28, 28])\n",
      "target_X_original shape : torch.Size([28, 7])\n",
      "target_theta_flatten shape: torch.Size([784])\n",
      "target_X_flatten shape: torch.Size([196])\n",
      "final_feature_vec shape: torch.Size([980])\n"
     ]
    },
    {
     "name": "stderr",
     "output_type": "stream",
     "text": [
      "100%|██████████| 100/100 [00:00<00:00, 750.07it/s]\n"
     ]
    },
    {
     "name": "stdout",
     "output_type": "stream",
     "text": [
      "X_t_0 shape : torch.Size([14, 7])\n",
      "C_0 shape : torch.Size([28, 14])\n",
      "thetaC shape : torch.Size([14, 14])\n",
      "torch.Size([14, 14])\n",
      "(14, 7)\n",
      "target_theta_original shape : torch.Size([28, 28])\n",
      "target_X_original shape : torch.Size([28, 7])\n",
      "target_theta_flatten shape: torch.Size([784])\n",
      "target_X_flatten shape: torch.Size([196])\n",
      "final_feature_vec shape: torch.Size([980])\n"
     ]
    },
    {
     "name": "stderr",
     "output_type": "stream",
     "text": [
      "100%|██████████| 100/100 [00:00<00:00, 904.42it/s]\n"
     ]
    },
    {
     "name": "stdout",
     "output_type": "stream",
     "text": [
      "X_t_0 shape : torch.Size([12, 7])\n",
      "C_0 shape : torch.Size([24, 12])\n",
      "thetaC shape : torch.Size([12, 12])\n",
      "torch.Size([12, 12])\n",
      "(12, 7)\n",
      "target_theta_original shape : torch.Size([28, 28])\n",
      "target_X_original shape : torch.Size([28, 7])\n",
      "target_theta_flatten shape: torch.Size([784])\n",
      "target_X_flatten shape: torch.Size([196])\n",
      "final_feature_vec shape: torch.Size([980])\n"
     ]
    },
    {
     "name": "stderr",
     "output_type": "stream",
     "text": [
      "100%|██████████| 100/100 [00:00<00:00, 1510.22it/s]\n"
     ]
    },
    {
     "name": "stdout",
     "output_type": "stream",
     "text": [
      "X_t_0 shape : torch.Size([5, 7])\n",
      "C_0 shape : torch.Size([11, 5])\n",
      "thetaC shape : torch.Size([5, 5])\n",
      "torch.Size([5, 5])\n",
      "(5, 7)\n",
      "target_theta_original shape : torch.Size([28, 28])\n",
      "target_X_original shape : torch.Size([28, 7])\n",
      "target_theta_flatten shape: torch.Size([784])\n",
      "target_X_flatten shape: torch.Size([196])\n",
      "final_feature_vec shape: torch.Size([980])\n"
     ]
    },
    {
     "name": "stderr",
     "output_type": "stream",
     "text": [
      "  2%|▏         | 2/100 [00:00<00:01, 82.50it/s]\n",
      "  2%|▏         | 2/100 [00:00<00:01, 73.79it/s]\n",
      "  2%|▏         | 2/100 [00:00<00:01, 88.58it/s]\n"
     ]
    },
    {
     "name": "stdout",
     "output_type": "stream",
     "text": [
      "X_t_0 shape : torch.Size([7, 7])\n",
      "C_0 shape : torch.Size([15, 7])\n",
      "thetaC shape : torch.Size([7, 7])\n",
      "torch.Size([7, 7])\n",
      "(7, 7)\n",
      "target_theta_original shape : torch.Size([28, 28])\n",
      "target_X_original shape : torch.Size([28, 7])\n",
      "target_theta_flatten shape: torch.Size([784])\n",
      "target_X_flatten shape: torch.Size([196])\n",
      "final_feature_vec shape: torch.Size([980])\n"
     ]
    },
    {
     "name": "stderr",
     "output_type": "stream",
     "text": [
      "100%|██████████| 100/100 [00:00<00:00, 1342.49it/s]\n"
     ]
    },
    {
     "name": "stdout",
     "output_type": "stream",
     "text": [
      "X_t_0 shape : torch.Size([6, 7])\n",
      "C_0 shape : torch.Size([13, 6])\n",
      "thetaC shape : torch.Size([6, 6])\n",
      "torch.Size([6, 6])\n",
      "(6, 7)\n",
      "target_theta_original shape : torch.Size([28, 28])\n",
      "target_X_original shape : torch.Size([28, 7])\n",
      "target_theta_flatten shape: torch.Size([784])\n",
      "target_X_flatten shape: torch.Size([196])\n",
      "final_feature_vec shape: torch.Size([980])\n"
     ]
    },
    {
     "name": "stderr",
     "output_type": "stream",
     "text": [
      "100%|██████████| 100/100 [00:00<00:00, 1165.64it/s]\n"
     ]
    },
    {
     "name": "stdout",
     "output_type": "stream",
     "text": [
      "X_t_0 shape : torch.Size([8, 7])\n",
      "C_0 shape : torch.Size([16, 8])\n",
      "thetaC shape : torch.Size([8, 8])\n",
      "torch.Size([8, 8])\n",
      "(8, 7)\n",
      "target_theta_original shape : torch.Size([28, 28])\n",
      "target_X_original shape : torch.Size([28, 7])\n",
      "target_theta_flatten shape: torch.Size([784])\n",
      "target_X_flatten shape: torch.Size([196])\n",
      "final_feature_vec shape: torch.Size([980])\n"
     ]
    },
    {
     "name": "stderr",
     "output_type": "stream",
     "text": [
      "100%|██████████| 100/100 [00:00<00:00, 1373.36it/s]\n"
     ]
    },
    {
     "name": "stdout",
     "output_type": "stream",
     "text": [
      "X_t_0 shape : torch.Size([6, 7])\n",
      "C_0 shape : torch.Size([12, 6])\n",
      "thetaC shape : torch.Size([6, 6])\n",
      "torch.Size([6, 6])\n",
      "(6, 7)\n",
      "target_theta_original shape : torch.Size([28, 28])\n",
      "target_X_original shape : torch.Size([28, 7])\n",
      "target_theta_flatten shape: torch.Size([784])\n",
      "target_X_flatten shape: torch.Size([196])\n",
      "final_feature_vec shape: torch.Size([980])\n"
     ]
    },
    {
     "name": "stderr",
     "output_type": "stream",
     "text": [
      "100%|██████████| 100/100 [00:00<00:00, 1427.71it/s]\n"
     ]
    },
    {
     "name": "stdout",
     "output_type": "stream",
     "text": [
      "X_t_0 shape : torch.Size([5, 7])\n",
      "C_0 shape : torch.Size([10, 5])\n",
      "thetaC shape : torch.Size([5, 5])\n",
      "torch.Size([5, 5])\n",
      "(5, 7)\n",
      "target_theta_original shape : torch.Size([28, 28])\n",
      "target_X_original shape : torch.Size([28, 7])\n",
      "target_theta_flatten shape: torch.Size([784])\n",
      "target_X_flatten shape: torch.Size([196])\n",
      "final_feature_vec shape: torch.Size([980])\n"
     ]
    },
    {
     "name": "stderr",
     "output_type": "stream",
     "text": [
      "100%|██████████| 100/100 [00:00<00:00, 1016.92it/s]\n"
     ]
    },
    {
     "name": "stdout",
     "output_type": "stream",
     "text": [
      "X_t_0 shape : torch.Size([10, 7])\n",
      "C_0 shape : torch.Size([21, 10])\n",
      "thetaC shape : torch.Size([10, 10])\n",
      "torch.Size([10, 10])\n",
      "(10, 7)\n",
      "target_theta_original shape : torch.Size([28, 28])\n",
      "target_X_original shape : torch.Size([28, 7])\n",
      "target_theta_flatten shape: torch.Size([784])\n",
      "target_X_flatten shape: torch.Size([196])\n",
      "final_feature_vec shape: torch.Size([980])\n"
     ]
    },
    {
     "name": "stderr",
     "output_type": "stream",
     "text": [
      "100%|██████████| 100/100 [00:00<00:00, 716.11it/s]\n"
     ]
    },
    {
     "name": "stdout",
     "output_type": "stream",
     "text": [
      "X_t_0 shape : torch.Size([11, 7])\n",
      "C_0 shape : torch.Size([23, 11])\n",
      "thetaC shape : torch.Size([11, 11])\n",
      "torch.Size([11, 11])\n",
      "(11, 7)\n",
      "target_theta_original shape : torch.Size([28, 28])\n",
      "target_X_original shape : torch.Size([28, 7])\n",
      "target_theta_flatten shape: torch.Size([784])\n",
      "target_X_flatten shape: torch.Size([196])\n",
      "final_feature_vec shape: torch.Size([980])\n"
     ]
    },
    {
     "name": "stderr",
     "output_type": "stream",
     "text": [
      "100%|██████████| 100/100 [00:00<00:00, 963.66it/s]\n"
     ]
    },
    {
     "name": "stdout",
     "output_type": "stream",
     "text": [
      "X_t_0 shape : torch.Size([10, 7])\n",
      "C_0 shape : torch.Size([21, 10])\n",
      "thetaC shape : torch.Size([10, 10])\n",
      "torch.Size([10, 10])\n",
      "(10, 7)\n",
      "target_theta_original shape : torch.Size([28, 28])\n",
      "target_X_original shape : torch.Size([28, 7])\n",
      "target_theta_flatten shape: torch.Size([784])\n",
      "target_X_flatten shape: torch.Size([196])\n",
      "final_feature_vec shape: torch.Size([980])\n"
     ]
    },
    {
     "name": "stderr",
     "output_type": "stream",
     "text": [
      "100%|██████████| 100/100 [00:00<00:00, 415.62it/s]\n"
     ]
    },
    {
     "name": "stdout",
     "output_type": "stream",
     "text": [
      "X_t_0 shape : torch.Size([6, 7])\n",
      "C_0 shape : torch.Size([13, 6])\n",
      "thetaC shape : torch.Size([6, 6])\n",
      "torch.Size([6, 6])\n",
      "(6, 7)\n",
      "target_theta_original shape : torch.Size([28, 28])\n",
      "target_X_original shape : torch.Size([28, 7])\n",
      "target_theta_flatten shape: torch.Size([784])\n",
      "target_X_flatten shape: torch.Size([196])\n",
      "final_feature_vec shape: torch.Size([980])\n"
     ]
    },
    {
     "name": "stderr",
     "output_type": "stream",
     "text": [
      "100%|██████████| 100/100 [00:00<00:00, 476.47it/s]\n"
     ]
    },
    {
     "name": "stdout",
     "output_type": "stream",
     "text": [
      "X_t_0 shape : torch.Size([12, 7])\n",
      "C_0 shape : torch.Size([25, 12])\n",
      "thetaC shape : torch.Size([12, 12])\n",
      "torch.Size([12, 12])\n",
      "(12, 7)\n",
      "target_theta_original shape : torch.Size([28, 28])\n",
      "target_X_original shape : torch.Size([28, 7])\n",
      "target_theta_flatten shape: torch.Size([784])\n",
      "target_X_flatten shape: torch.Size([196])\n",
      "final_feature_vec shape: torch.Size([980])\n"
     ]
    },
    {
     "name": "stderr",
     "output_type": "stream",
     "text": [
      "100%|██████████| 100/100 [00:00<00:00, 548.27it/s]\n"
     ]
    },
    {
     "name": "stdout",
     "output_type": "stream",
     "text": [
      "X_t_0 shape : torch.Size([10, 7])\n",
      "C_0 shape : torch.Size([21, 10])\n",
      "thetaC shape : torch.Size([10, 10])\n",
      "torch.Size([10, 10])\n",
      "(10, 7)\n",
      "target_theta_original shape : torch.Size([28, 28])\n",
      "target_X_original shape : torch.Size([28, 7])\n",
      "target_theta_flatten shape: torch.Size([784])\n",
      "target_X_flatten shape: torch.Size([196])\n",
      "final_feature_vec shape: torch.Size([980])\n"
     ]
    },
    {
     "name": "stderr",
     "output_type": "stream",
     "text": [
      "100%|██████████| 100/100 [00:00<00:00, 659.61it/s]\n"
     ]
    },
    {
     "name": "stdout",
     "output_type": "stream",
     "text": [
      "X_t_0 shape : torch.Size([8, 7])\n",
      "C_0 shape : torch.Size([17, 8])\n",
      "thetaC shape : torch.Size([8, 8])\n",
      "torch.Size([8, 8])\n",
      "(8, 7)\n",
      "target_theta_original shape : torch.Size([28, 28])\n",
      "target_X_original shape : torch.Size([28, 7])\n",
      "target_theta_flatten shape: torch.Size([784])\n",
      "target_X_flatten shape: torch.Size([196])\n",
      "final_feature_vec shape: torch.Size([980])\n"
     ]
    },
    {
     "name": "stderr",
     "output_type": "stream",
     "text": [
      "100%|██████████| 100/100 [00:00<00:00, 643.77it/s]\n"
     ]
    },
    {
     "name": "stdout",
     "output_type": "stream",
     "text": [
      "X_t_0 shape : torch.Size([5, 7])\n",
      "C_0 shape : torch.Size([11, 5])\n",
      "thetaC shape : torch.Size([5, 5])\n",
      "torch.Size([5, 5])\n",
      "(5, 7)\n",
      "target_theta_original shape : torch.Size([28, 28])\n",
      "target_X_original shape : torch.Size([28, 7])\n",
      "target_theta_flatten shape: torch.Size([784])\n",
      "target_X_flatten shape: torch.Size([196])\n",
      "final_feature_vec shape: torch.Size([980])\n"
     ]
    },
    {
     "name": "stderr",
     "output_type": "stream",
     "text": [
      "100%|██████████| 100/100 [00:00<00:00, 427.11it/s]\n"
     ]
    },
    {
     "name": "stdout",
     "output_type": "stream",
     "text": [
      "X_t_0 shape : torch.Size([9, 7])\n",
      "C_0 shape : torch.Size([19, 9])\n",
      "thetaC shape : torch.Size([9, 9])\n",
      "torch.Size([9, 9])\n",
      "(9, 7)\n",
      "target_theta_original shape : torch.Size([28, 28])\n",
      "target_X_original shape : torch.Size([28, 7])\n",
      "target_theta_flatten shape: torch.Size([784])\n",
      "target_X_flatten shape: torch.Size([196])\n",
      "final_feature_vec shape: torch.Size([980])\n"
     ]
    },
    {
     "name": "stderr",
     "output_type": "stream",
     "text": [
      "100%|██████████| 100/100 [00:00<00:00, 560.35it/s]\n"
     ]
    },
    {
     "name": "stdout",
     "output_type": "stream",
     "text": [
      "X_t_0 shape : torch.Size([10, 7])\n",
      "C_0 shape : torch.Size([20, 10])\n",
      "thetaC shape : torch.Size([10, 10])\n",
      "torch.Size([10, 10])\n",
      "(10, 7)\n",
      "target_theta_original shape : torch.Size([28, 28])\n",
      "target_X_original shape : torch.Size([28, 7])\n",
      "target_theta_flatten shape: torch.Size([784])\n",
      "target_X_flatten shape: torch.Size([196])\n",
      "final_feature_vec shape: torch.Size([980])\n"
     ]
    },
    {
     "name": "stderr",
     "output_type": "stream",
     "text": [
      "100%|██████████| 100/100 [00:00<00:00, 428.66it/s]\n"
     ]
    },
    {
     "name": "stdout",
     "output_type": "stream",
     "text": [
      "X_t_0 shape : torch.Size([10, 7])\n",
      "C_0 shape : torch.Size([21, 10])\n",
      "thetaC shape : torch.Size([10, 10])\n",
      "torch.Size([10, 10])\n",
      "(10, 7)\n",
      "target_theta_original shape : torch.Size([28, 28])\n",
      "target_X_original shape : torch.Size([28, 7])\n",
      "target_theta_flatten shape: torch.Size([784])\n",
      "target_X_flatten shape: torch.Size([196])\n",
      "final_feature_vec shape: torch.Size([980])\n"
     ]
    },
    {
     "name": "stderr",
     "output_type": "stream",
     "text": [
      "  2%|▏         | 2/100 [00:00<00:02, 46.42it/s]\n",
      "  2%|▏         | 2/100 [00:00<00:01, 75.87it/s]\n",
      "  2%|▏         | 2/100 [00:00<00:01, 82.10it/s]\n"
     ]
    },
    {
     "name": "stdout",
     "output_type": "stream",
     "text": [
      "X_t_0 shape : torch.Size([7, 7])\n",
      "C_0 shape : torch.Size([15, 7])\n",
      "thetaC shape : torch.Size([7, 7])\n",
      "torch.Size([7, 7])\n",
      "(7, 7)\n",
      "target_theta_original shape : torch.Size([28, 28])\n",
      "target_X_original shape : torch.Size([28, 7])\n",
      "target_theta_flatten shape: torch.Size([784])\n",
      "target_X_flatten shape: torch.Size([196])\n",
      "final_feature_vec shape: torch.Size([980])\n"
     ]
    },
    {
     "name": "stderr",
     "output_type": "stream",
     "text": [
      "100%|██████████| 100/100 [00:00<00:00, 653.07it/s]\n"
     ]
    },
    {
     "name": "stdout",
     "output_type": "stream",
     "text": [
      "X_t_0 shape : torch.Size([7, 7])\n",
      "C_0 shape : torch.Size([14, 7])\n",
      "thetaC shape : torch.Size([7, 7])\n",
      "torch.Size([7, 7])\n",
      "(7, 7)\n",
      "target_theta_original shape : torch.Size([28, 28])\n",
      "target_X_original shape : torch.Size([28, 7])\n",
      "target_theta_flatten shape: torch.Size([784])\n",
      "target_X_flatten shape: torch.Size([196])\n",
      "final_feature_vec shape: torch.Size([980])\n"
     ]
    },
    {
     "name": "stderr",
     "output_type": "stream",
     "text": [
      "100%|██████████| 100/100 [00:00<00:00, 824.50it/s]\n"
     ]
    },
    {
     "name": "stdout",
     "output_type": "stream",
     "text": [
      "X_t_0 shape : torch.Size([5, 7])\n",
      "C_0 shape : torch.Size([11, 5])\n",
      "thetaC shape : torch.Size([5, 5])\n",
      "torch.Size([5, 5])\n",
      "(5, 7)\n",
      "target_theta_original shape : torch.Size([28, 28])\n",
      "target_X_original shape : torch.Size([28, 7])\n",
      "target_theta_flatten shape: torch.Size([784])\n",
      "target_X_flatten shape: torch.Size([196])\n",
      "final_feature_vec shape: torch.Size([980])\n"
     ]
    },
    {
     "name": "stderr",
     "output_type": "stream",
     "text": [
      "100%|██████████| 100/100 [00:00<00:00, 443.30it/s]\n"
     ]
    },
    {
     "name": "stdout",
     "output_type": "stream",
     "text": [
      "X_t_0 shape : torch.Size([9, 7])\n",
      "C_0 shape : torch.Size([19, 9])\n",
      "thetaC shape : torch.Size([9, 9])\n",
      "torch.Size([9, 9])\n",
      "(9, 7)\n",
      "target_theta_original shape : torch.Size([28, 28])\n",
      "target_X_original shape : torch.Size([28, 7])\n",
      "target_theta_flatten shape: torch.Size([784])\n",
      "target_X_flatten shape: torch.Size([196])\n",
      "final_feature_vec shape: torch.Size([980])\n"
     ]
    },
    {
     "name": "stderr",
     "output_type": "stream",
     "text": [
      "100%|██████████| 100/100 [00:00<00:00, 634.47it/s]\n"
     ]
    },
    {
     "name": "stdout",
     "output_type": "stream",
     "text": [
      "X_t_0 shape : torch.Size([5, 7])\n",
      "C_0 shape : torch.Size([11, 5])\n",
      "thetaC shape : torch.Size([5, 5])\n",
      "torch.Size([5, 5])\n",
      "(5, 7)\n",
      "target_theta_original shape : torch.Size([28, 28])\n",
      "target_X_original shape : torch.Size([28, 7])\n",
      "target_theta_flatten shape: torch.Size([784])\n",
      "target_X_flatten shape: torch.Size([196])\n",
      "final_feature_vec shape: torch.Size([980])\n"
     ]
    },
    {
     "name": "stderr",
     "output_type": "stream",
     "text": [
      "100%|██████████| 100/100 [00:00<00:00, 465.08it/s]\n"
     ]
    },
    {
     "name": "stdout",
     "output_type": "stream",
     "text": [
      "X_t_0 shape : torch.Size([10, 7])\n",
      "C_0 shape : torch.Size([21, 10])\n",
      "thetaC shape : torch.Size([10, 10])\n",
      "torch.Size([10, 10])\n",
      "(10, 7)\n",
      "target_theta_original shape : torch.Size([28, 28])\n",
      "target_X_original shape : torch.Size([28, 7])\n",
      "target_theta_flatten shape: torch.Size([784])\n",
      "target_X_flatten shape: torch.Size([196])\n",
      "final_feature_vec shape: torch.Size([980])\n"
     ]
    },
    {
     "name": "stderr",
     "output_type": "stream",
     "text": [
      "100%|██████████| 100/100 [00:00<00:00, 458.47it/s]\n"
     ]
    },
    {
     "name": "stdout",
     "output_type": "stream",
     "text": [
      "X_t_0 shape : torch.Size([11, 7])\n",
      "C_0 shape : torch.Size([22, 11])\n",
      "thetaC shape : torch.Size([11, 11])\n",
      "torch.Size([11, 11])\n",
      "(11, 7)\n",
      "target_theta_original shape : torch.Size([28, 28])\n",
      "target_X_original shape : torch.Size([28, 7])\n",
      "target_theta_flatten shape: torch.Size([784])\n",
      "target_X_flatten shape: torch.Size([196])\n",
      "final_feature_vec shape: torch.Size([980])\n"
     ]
    },
    {
     "name": "stderr",
     "output_type": "stream",
     "text": [
      "100%|██████████| 100/100 [00:00<00:00, 670.96it/s]\n"
     ]
    },
    {
     "name": "stdout",
     "output_type": "stream",
     "text": [
      "X_t_0 shape : torch.Size([5, 7])\n",
      "C_0 shape : torch.Size([11, 5])\n",
      "thetaC shape : torch.Size([5, 5])\n",
      "torch.Size([5, 5])\n",
      "(5, 7)\n",
      "target_theta_original shape : torch.Size([28, 28])\n",
      "target_X_original shape : torch.Size([28, 7])\n",
      "target_theta_flatten shape: torch.Size([784])\n",
      "target_X_flatten shape: torch.Size([196])\n",
      "final_feature_vec shape: torch.Size([980])\n"
     ]
    },
    {
     "name": "stderr",
     "output_type": "stream",
     "text": [
      "100%|██████████| 100/100 [00:00<00:00, 390.79it/s]\n"
     ]
    },
    {
     "name": "stdout",
     "output_type": "stream",
     "text": [
      "X_t_0 shape : torch.Size([10, 7])\n",
      "C_0 shape : torch.Size([20, 10])\n",
      "thetaC shape : torch.Size([10, 10])\n",
      "torch.Size([10, 10])\n",
      "(10, 7)\n",
      "target_theta_original shape : torch.Size([28, 28])\n",
      "target_X_original shape : torch.Size([28, 7])\n",
      "target_theta_flatten shape: torch.Size([784])\n",
      "target_X_flatten shape: torch.Size([196])\n",
      "final_feature_vec shape: torch.Size([980])\n"
     ]
    },
    {
     "name": "stderr",
     "output_type": "stream",
     "text": [
      "100%|██████████| 100/100 [00:00<00:00, 244.69it/s]\n"
     ]
    },
    {
     "name": "stdout",
     "output_type": "stream",
     "text": [
      "X_t_0 shape : torch.Size([11, 7])\n",
      "C_0 shape : torch.Size([22, 11])\n",
      "thetaC shape : torch.Size([11, 11])\n",
      "torch.Size([11, 11])\n",
      "(11, 7)\n",
      "target_theta_original shape : torch.Size([28, 28])\n",
      "target_X_original shape : torch.Size([28, 7])\n",
      "target_theta_flatten shape: torch.Size([784])\n",
      "target_X_flatten shape: torch.Size([196])\n",
      "final_feature_vec shape: torch.Size([980])\n"
     ]
    },
    {
     "name": "stderr",
     "output_type": "stream",
     "text": [
      "100%|██████████| 100/100 [00:00<00:00, 705.92it/s]\n"
     ]
    },
    {
     "name": "stdout",
     "output_type": "stream",
     "text": [
      "X_t_0 shape : torch.Size([6, 7])\n",
      "C_0 shape : torch.Size([13, 6])\n",
      "thetaC shape : torch.Size([6, 6])\n",
      "torch.Size([6, 6])\n",
      "(6, 7)\n",
      "target_theta_original shape : torch.Size([28, 28])\n",
      "target_X_original shape : torch.Size([28, 7])\n",
      "target_theta_flatten shape: torch.Size([784])\n",
      "target_X_flatten shape: torch.Size([196])\n",
      "final_feature_vec shape: torch.Size([980])\n"
     ]
    },
    {
     "name": "stderr",
     "output_type": "stream",
     "text": [
      "100%|██████████| 100/100 [00:00<00:00, 685.64it/s]\n"
     ]
    },
    {
     "name": "stdout",
     "output_type": "stream",
     "text": [
      "X_t_0 shape : torch.Size([5, 7])\n",
      "C_0 shape : torch.Size([11, 5])\n",
      "thetaC shape : torch.Size([5, 5])\n",
      "torch.Size([5, 5])\n",
      "(5, 7)\n",
      "target_theta_original shape : torch.Size([28, 28])\n",
      "target_X_original shape : torch.Size([28, 7])\n",
      "target_theta_flatten shape: torch.Size([784])\n",
      "target_X_flatten shape: torch.Size([196])\n",
      "final_feature_vec shape: torch.Size([980])\n"
     ]
    },
    {
     "name": "stderr",
     "output_type": "stream",
     "text": [
      "100%|██████████| 100/100 [00:00<00:00, 613.38it/s]\n"
     ]
    },
    {
     "name": "stdout",
     "output_type": "stream",
     "text": [
      "X_t_0 shape : torch.Size([8, 7])\n",
      "C_0 shape : torch.Size([16, 8])\n",
      "thetaC shape : torch.Size([8, 8])\n",
      "torch.Size([8, 8])\n",
      "(8, 7)\n",
      "target_theta_original shape : torch.Size([28, 28])\n",
      "target_X_original shape : torch.Size([28, 7])\n",
      "target_theta_flatten shape: torch.Size([784])\n",
      "target_X_flatten shape: torch.Size([196])\n",
      "final_feature_vec shape: torch.Size([980])\n"
     ]
    },
    {
     "name": "stderr",
     "output_type": "stream",
     "text": [
      "100%|██████████| 100/100 [00:00<00:00, 772.61it/s]\n"
     ]
    },
    {
     "name": "stdout",
     "output_type": "stream",
     "text": [
      "X_t_0 shape : torch.Size([5, 7])\n",
      "C_0 shape : torch.Size([11, 5])\n",
      "thetaC shape : torch.Size([5, 5])\n",
      "torch.Size([5, 5])\n",
      "(5, 7)\n",
      "target_theta_original shape : torch.Size([28, 28])\n",
      "target_X_original shape : torch.Size([28, 7])\n",
      "target_theta_flatten shape: torch.Size([784])\n",
      "target_X_flatten shape: torch.Size([196])\n",
      "final_feature_vec shape: torch.Size([980])\n"
     ]
    },
    {
     "name": "stderr",
     "output_type": "stream",
     "text": [
      "100%|██████████| 100/100 [00:00<00:00, 269.79it/s]\n"
     ]
    },
    {
     "name": "stdout",
     "output_type": "stream",
     "text": [
      "X_t_0 shape : torch.Size([10, 7])\n",
      "C_0 shape : torch.Size([20, 10])\n",
      "thetaC shape : torch.Size([10, 10])\n",
      "torch.Size([10, 10])\n",
      "(10, 7)\n",
      "target_theta_original shape : torch.Size([28, 28])\n",
      "target_X_original shape : torch.Size([28, 7])\n",
      "target_theta_flatten shape: torch.Size([784])\n",
      "target_X_flatten shape: torch.Size([196])\n",
      "final_feature_vec shape: torch.Size([980])\n"
     ]
    },
    {
     "name": "stderr",
     "output_type": "stream",
     "text": [
      "100%|██████████| 100/100 [00:00<00:00, 571.70it/s]\n"
     ]
    },
    {
     "name": "stdout",
     "output_type": "stream",
     "text": [
      "X_t_0 shape : torch.Size([6, 7])\n",
      "C_0 shape : torch.Size([12, 6])\n",
      "thetaC shape : torch.Size([6, 6])\n",
      "torch.Size([6, 6])\n",
      "(6, 7)\n",
      "target_theta_original shape : torch.Size([28, 28])\n",
      "target_X_original shape : torch.Size([28, 7])\n",
      "target_theta_flatten shape: torch.Size([784])\n",
      "target_X_flatten shape: torch.Size([196])\n",
      "final_feature_vec shape: torch.Size([980])\n"
     ]
    },
    {
     "name": "stderr",
     "output_type": "stream",
     "text": [
      "100%|██████████| 100/100 [00:00<00:00, 694.78it/s]\n"
     ]
    },
    {
     "name": "stdout",
     "output_type": "stream",
     "text": [
      "X_t_0 shape : torch.Size([5, 7])\n",
      "C_0 shape : torch.Size([11, 5])\n",
      "thetaC shape : torch.Size([5, 5])\n",
      "torch.Size([5, 5])\n",
      "(5, 7)\n",
      "target_theta_original shape : torch.Size([28, 28])\n",
      "target_X_original shape : torch.Size([28, 7])\n",
      "target_theta_flatten shape: torch.Size([784])\n",
      "target_X_flatten shape: torch.Size([196])\n",
      "final_feature_vec shape: torch.Size([980])\n"
     ]
    },
    {
     "name": "stderr",
     "output_type": "stream",
     "text": [
      "100%|██████████| 100/100 [00:00<00:00, 515.34it/s]\n"
     ]
    },
    {
     "name": "stdout",
     "output_type": "stream",
     "text": [
      "X_t_0 shape : torch.Size([8, 7])\n",
      "C_0 shape : torch.Size([16, 8])\n",
      "thetaC shape : torch.Size([8, 8])\n",
      "torch.Size([8, 8])\n",
      "(8, 7)\n",
      "target_theta_original shape : torch.Size([28, 28])\n",
      "target_X_original shape : torch.Size([28, 7])\n",
      "target_theta_flatten shape: torch.Size([784])\n",
      "target_X_flatten shape: torch.Size([196])\n",
      "final_feature_vec shape: torch.Size([980])\n"
     ]
    },
    {
     "name": "stderr",
     "output_type": "stream",
     "text": [
      "100%|██████████| 100/100 [00:00<00:00, 531.63it/s]\n"
     ]
    },
    {
     "name": "stdout",
     "output_type": "stream",
     "text": [
      "X_t_0 shape : torch.Size([8, 7])\n",
      "C_0 shape : torch.Size([16, 8])\n",
      "thetaC shape : torch.Size([8, 8])\n",
      "torch.Size([8, 8])\n",
      "(8, 7)\n",
      "target_theta_original shape : torch.Size([28, 28])\n",
      "target_X_original shape : torch.Size([28, 7])\n",
      "target_theta_flatten shape: torch.Size([784])\n",
      "target_X_flatten shape: torch.Size([196])\n",
      "final_feature_vec shape: torch.Size([980])\n"
     ]
    },
    {
     "name": "stderr",
     "output_type": "stream",
     "text": [
      "100%|██████████| 100/100 [00:00<00:00, 502.82it/s]\n"
     ]
    },
    {
     "name": "stdout",
     "output_type": "stream",
     "text": [
      "X_t_0 shape : torch.Size([6, 7])\n",
      "C_0 shape : torch.Size([13, 6])\n",
      "thetaC shape : torch.Size([6, 6])\n",
      "torch.Size([6, 6])\n",
      "(6, 7)\n",
      "target_theta_original shape : torch.Size([28, 28])\n",
      "target_X_original shape : torch.Size([28, 7])\n",
      "target_theta_flatten shape: torch.Size([784])\n",
      "target_X_flatten shape: torch.Size([196])\n",
      "final_feature_vec shape: torch.Size([980])\n"
     ]
    },
    {
     "name": "stderr",
     "output_type": "stream",
     "text": [
      "  2%|▏         | 2/100 [00:00<00:01, 57.27it/s]\n",
      "  2%|▏         | 2/100 [00:00<00:01, 53.58it/s]\n",
      "  2%|▏         | 2/100 [00:00<00:01, 67.30it/s]\n"
     ]
    },
    {
     "name": "stdout",
     "output_type": "stream",
     "text": [
      "X_t_0 shape : torch.Size([7, 7])\n",
      "C_0 shape : torch.Size([15, 7])\n",
      "thetaC shape : torch.Size([7, 7])\n",
      "torch.Size([7, 7])\n",
      "(7, 7)\n",
      "target_theta_original shape : torch.Size([28, 28])\n",
      "target_X_original shape : torch.Size([28, 7])\n",
      "target_theta_flatten shape: torch.Size([784])\n",
      "target_X_flatten shape: torch.Size([196])\n",
      "final_feature_vec shape: torch.Size([980])\n"
     ]
    },
    {
     "name": "stderr",
     "output_type": "stream",
     "text": [
      "100%|██████████| 100/100 [00:00<00:00, 544.98it/s]\n"
     ]
    },
    {
     "name": "stdout",
     "output_type": "stream",
     "text": [
      "X_t_0 shape : torch.Size([10, 7])\n",
      "C_0 shape : torch.Size([20, 10])\n",
      "thetaC shape : torch.Size([10, 10])\n",
      "torch.Size([10, 10])\n",
      "(10, 7)\n",
      "target_theta_original shape : torch.Size([28, 28])\n",
      "target_X_original shape : torch.Size([28, 7])\n",
      "target_theta_flatten shape: torch.Size([784])\n",
      "target_X_flatten shape: torch.Size([196])\n",
      "final_feature_vec shape: torch.Size([980])\n"
     ]
    },
    {
     "name": "stderr",
     "output_type": "stream",
     "text": [
      "100%|██████████| 100/100 [00:00<00:00, 641.06it/s]\n"
     ]
    },
    {
     "name": "stdout",
     "output_type": "stream",
     "text": [
      "X_t_0 shape : torch.Size([6, 7])\n",
      "C_0 shape : torch.Size([12, 6])\n",
      "thetaC shape : torch.Size([6, 6])\n",
      "torch.Size([6, 6])\n",
      "(6, 7)\n",
      "target_theta_original shape : torch.Size([28, 28])\n",
      "target_X_original shape : torch.Size([28, 7])\n",
      "target_theta_flatten shape: torch.Size([784])\n",
      "target_X_flatten shape: torch.Size([196])\n",
      "final_feature_vec shape: torch.Size([980])\n"
     ]
    },
    {
     "name": "stderr",
     "output_type": "stream",
     "text": [
      "100%|██████████| 100/100 [00:00<00:00, 539.46it/s]\n"
     ]
    },
    {
     "name": "stdout",
     "output_type": "stream",
     "text": [
      "X_t_0 shape : torch.Size([6, 7])\n",
      "C_0 shape : torch.Size([12, 6])\n",
      "thetaC shape : torch.Size([6, 6])\n",
      "torch.Size([6, 6])\n",
      "(6, 7)\n",
      "target_theta_original shape : torch.Size([28, 28])\n",
      "target_X_original shape : torch.Size([28, 7])\n",
      "target_theta_flatten shape: torch.Size([784])\n",
      "target_X_flatten shape: torch.Size([196])\n",
      "final_feature_vec shape: torch.Size([980])\n"
     ]
    },
    {
     "name": "stderr",
     "output_type": "stream",
     "text": [
      "100%|██████████| 100/100 [00:00<00:00, 361.60it/s]\n"
     ]
    },
    {
     "name": "stdout",
     "output_type": "stream",
     "text": [
      "X_t_0 shape : torch.Size([11, 7])\n",
      "C_0 shape : torch.Size([22, 11])\n",
      "thetaC shape : torch.Size([11, 11])\n",
      "torch.Size([11, 11])\n",
      "(11, 7)\n",
      "target_theta_original shape : torch.Size([28, 28])\n",
      "target_X_original shape : torch.Size([28, 7])\n",
      "target_theta_flatten shape: torch.Size([784])\n",
      "target_X_flatten shape: torch.Size([196])\n",
      "final_feature_vec shape: torch.Size([980])\n"
     ]
    },
    {
     "name": "stderr",
     "output_type": "stream",
     "text": [
      "  2%|▏         | 2/100 [00:00<00:01, 73.36it/s]\n",
      "  2%|▏         | 2/100 [00:00<00:01, 75.46it/s]\n",
      "  2%|▏         | 2/100 [00:00<00:01, 73.32it/s]\n"
     ]
    },
    {
     "name": "stdout",
     "output_type": "stream",
     "text": [
      "X_t_0 shape : torch.Size([7, 7])\n",
      "C_0 shape : torch.Size([15, 7])\n",
      "thetaC shape : torch.Size([7, 7])\n",
      "torch.Size([7, 7])\n",
      "(7, 7)\n",
      "target_theta_original shape : torch.Size([28, 28])\n",
      "target_X_original shape : torch.Size([28, 7])\n",
      "target_theta_flatten shape: torch.Size([784])\n",
      "target_X_flatten shape: torch.Size([196])\n",
      "final_feature_vec shape: torch.Size([980])\n"
     ]
    },
    {
     "name": "stderr",
     "output_type": "stream",
     "text": [
      "100%|██████████| 100/100 [00:00<00:00, 457.69it/s]\n"
     ]
    },
    {
     "name": "stdout",
     "output_type": "stream",
     "text": [
      "X_t_0 shape : torch.Size([6, 7])\n",
      "C_0 shape : torch.Size([12, 6])\n",
      "thetaC shape : torch.Size([6, 6])\n",
      "torch.Size([6, 6])\n",
      "(6, 7)\n",
      "target_theta_original shape : torch.Size([28, 28])\n",
      "target_X_original shape : torch.Size([28, 7])\n",
      "target_theta_flatten shape: torch.Size([784])\n",
      "target_X_flatten shape: torch.Size([196])\n",
      "final_feature_vec shape: torch.Size([980])\n"
     ]
    },
    {
     "name": "stderr",
     "output_type": "stream",
     "text": [
      "100%|██████████| 100/100 [00:00<00:00, 338.09it/s]\n"
     ]
    },
    {
     "name": "stdout",
     "output_type": "stream",
     "text": [
      "X_t_0 shape : torch.Size([7, 7])\n",
      "C_0 shape : torch.Size([14, 7])\n",
      "thetaC shape : torch.Size([7, 7])\n",
      "torch.Size([7, 7])\n",
      "(7, 7)\n",
      "target_theta_original shape : torch.Size([28, 28])\n",
      "target_X_original shape : torch.Size([28, 7])\n",
      "target_theta_flatten shape: torch.Size([784])\n",
      "target_X_flatten shape: torch.Size([196])\n",
      "final_feature_vec shape: torch.Size([980])\n"
     ]
    },
    {
     "name": "stderr",
     "output_type": "stream",
     "text": [
      "100%|██████████| 100/100 [00:00<00:00, 817.76it/s]\n"
     ]
    },
    {
     "name": "stdout",
     "output_type": "stream",
     "text": [
      "X_t_0 shape : torch.Size([6, 7])\n",
      "C_0 shape : torch.Size([12, 6])\n",
      "thetaC shape : torch.Size([6, 6])\n",
      "torch.Size([6, 6])\n",
      "(6, 7)\n",
      "target_theta_original shape : torch.Size([28, 28])\n",
      "target_X_original shape : torch.Size([28, 7])\n",
      "target_theta_flatten shape: torch.Size([784])\n",
      "target_X_flatten shape: torch.Size([196])\n",
      "final_feature_vec shape: torch.Size([980])\n"
     ]
    },
    {
     "name": "stderr",
     "output_type": "stream",
     "text": [
      "100%|██████████| 100/100 [00:00<00:00, 529.04it/s]\n"
     ]
    },
    {
     "name": "stdout",
     "output_type": "stream",
     "text": [
      "X_t_0 shape : torch.Size([10, 7])\n",
      "C_0 shape : torch.Size([20, 10])\n",
      "thetaC shape : torch.Size([10, 10])\n",
      "torch.Size([10, 10])\n",
      "(10, 7)\n",
      "target_theta_original shape : torch.Size([28, 28])\n",
      "target_X_original shape : torch.Size([28, 7])\n",
      "target_theta_flatten shape: torch.Size([784])\n",
      "target_X_flatten shape: torch.Size([196])\n",
      "final_feature_vec shape: torch.Size([980])\n"
     ]
    },
    {
     "name": "stderr",
     "output_type": "stream",
     "text": [
      "100%|██████████| 100/100 [00:00<00:00, 357.00it/s]\n"
     ]
    },
    {
     "name": "stdout",
     "output_type": "stream",
     "text": [
      "X_t_0 shape : torch.Size([10, 7])\n",
      "C_0 shape : torch.Size([20, 10])\n",
      "thetaC shape : torch.Size([10, 10])\n",
      "torch.Size([10, 10])\n",
      "(10, 7)\n",
      "target_theta_original shape : torch.Size([28, 28])\n",
      "target_X_original shape : torch.Size([28, 7])\n",
      "target_theta_flatten shape: torch.Size([784])\n",
      "target_X_flatten shape: torch.Size([196])\n",
      "final_feature_vec shape: torch.Size([980])\n"
     ]
    },
    {
     "name": "stderr",
     "output_type": "stream",
     "text": [
      "100%|██████████| 100/100 [00:00<00:00, 510.45it/s]\n"
     ]
    },
    {
     "name": "stdout",
     "output_type": "stream",
     "text": [
      "X_t_0 shape : torch.Size([10, 7])\n",
      "C_0 shape : torch.Size([20, 10])\n",
      "thetaC shape : torch.Size([10, 10])\n",
      "torch.Size([10, 10])\n",
      "(10, 7)\n",
      "target_theta_original shape : torch.Size([28, 28])\n",
      "target_X_original shape : torch.Size([28, 7])\n",
      "target_theta_flatten shape: torch.Size([784])\n",
      "target_X_flatten shape: torch.Size([196])\n",
      "final_feature_vec shape: torch.Size([980])\n"
     ]
    },
    {
     "name": "stderr",
     "output_type": "stream",
     "text": [
      "100%|██████████| 100/100 [00:00<00:00, 588.96it/s]\n"
     ]
    },
    {
     "name": "stdout",
     "output_type": "stream",
     "text": [
      "X_t_0 shape : torch.Size([7, 7])\n",
      "C_0 shape : torch.Size([14, 7])\n",
      "thetaC shape : torch.Size([7, 7])\n",
      "torch.Size([7, 7])\n",
      "(7, 7)\n",
      "target_theta_original shape : torch.Size([28, 28])\n",
      "target_X_original shape : torch.Size([28, 7])\n",
      "target_theta_flatten shape: torch.Size([784])\n",
      "target_X_flatten shape: torch.Size([196])\n",
      "final_feature_vec shape: torch.Size([980])\n"
     ]
    },
    {
     "name": "stderr",
     "output_type": "stream",
     "text": [
      "100%|██████████| 100/100 [00:00<00:00, 469.92it/s]\n"
     ]
    },
    {
     "name": "stdout",
     "output_type": "stream",
     "text": [
      "X_t_0 shape : torch.Size([13, 7])\n",
      "C_0 shape : torch.Size([26, 13])\n",
      "thetaC shape : torch.Size([13, 13])\n",
      "torch.Size([13, 13])\n",
      "(13, 7)\n",
      "target_theta_original shape : torch.Size([28, 28])\n",
      "target_X_original shape : torch.Size([28, 7])\n",
      "target_theta_flatten shape: torch.Size([784])\n",
      "target_X_flatten shape: torch.Size([196])\n",
      "final_feature_vec shape: torch.Size([980])\n"
     ]
    },
    {
     "name": "stderr",
     "output_type": "stream",
     "text": [
      "100%|██████████| 100/100 [00:00<00:00, 564.90it/s]\n"
     ]
    },
    {
     "name": "stdout",
     "output_type": "stream",
     "text": [
      "X_t_0 shape : torch.Size([12, 7])\n",
      "C_0 shape : torch.Size([24, 12])\n",
      "thetaC shape : torch.Size([12, 12])\n",
      "torch.Size([12, 12])\n",
      "(12, 7)\n",
      "target_theta_original shape : torch.Size([28, 28])\n",
      "target_X_original shape : torch.Size([28, 7])\n",
      "target_theta_flatten shape: torch.Size([784])\n",
      "target_X_flatten shape: torch.Size([196])\n",
      "final_feature_vec shape: torch.Size([980])\n"
     ]
    },
    {
     "name": "stderr",
     "output_type": "stream",
     "text": [
      "100%|██████████| 100/100 [00:00<00:00, 524.25it/s]\n"
     ]
    },
    {
     "name": "stdout",
     "output_type": "stream",
     "text": [
      "X_t_0 shape : torch.Size([11, 7])\n",
      "C_0 shape : torch.Size([22, 11])\n",
      "thetaC shape : torch.Size([11, 11])\n",
      "torch.Size([11, 11])\n",
      "(11, 7)\n",
      "target_theta_original shape : torch.Size([28, 28])\n",
      "target_X_original shape : torch.Size([28, 7])\n",
      "target_theta_flatten shape: torch.Size([784])\n",
      "target_X_flatten shape: torch.Size([196])\n",
      "final_feature_vec shape: torch.Size([980])\n"
     ]
    },
    {
     "name": "stderr",
     "output_type": "stream",
     "text": [
      "100%|██████████| 100/100 [00:00<00:00, 402.98it/s]\n"
     ]
    },
    {
     "name": "stdout",
     "output_type": "stream",
     "text": [
      "X_t_0 shape : torch.Size([11, 7])\n",
      "C_0 shape : torch.Size([22, 11])\n",
      "thetaC shape : torch.Size([11, 11])\n",
      "torch.Size([11, 11])\n",
      "(11, 7)\n",
      "target_theta_original shape : torch.Size([28, 28])\n",
      "target_X_original shape : torch.Size([28, 7])\n",
      "target_theta_flatten shape: torch.Size([784])\n",
      "target_X_flatten shape: torch.Size([196])\n",
      "final_feature_vec shape: torch.Size([980])\n"
     ]
    },
    {
     "name": "stderr",
     "output_type": "stream",
     "text": [
      "100%|██████████| 100/100 [00:00<00:00, 549.31it/s]\n"
     ]
    },
    {
     "name": "stdout",
     "output_type": "stream",
     "text": [
      "X_t_0 shape : torch.Size([9, 7])\n",
      "C_0 shape : torch.Size([19, 9])\n",
      "thetaC shape : torch.Size([9, 9])\n",
      "torch.Size([9, 9])\n",
      "(9, 7)\n",
      "target_theta_original shape : torch.Size([28, 28])\n",
      "target_X_original shape : torch.Size([28, 7])\n",
      "target_theta_flatten shape: torch.Size([784])\n",
      "target_X_flatten shape: torch.Size([196])\n",
      "final_feature_vec shape: torch.Size([980])\n"
     ]
    },
    {
     "name": "stderr",
     "output_type": "stream",
     "text": [
      "100%|██████████| 100/100 [00:00<00:00, 422.36it/s]\n"
     ]
    },
    {
     "name": "stdout",
     "output_type": "stream",
     "text": [
      "X_t_0 shape : torch.Size([11, 7])\n",
      "C_0 shape : torch.Size([23, 11])\n",
      "thetaC shape : torch.Size([11, 11])\n",
      "torch.Size([11, 11])\n",
      "(11, 7)\n",
      "target_theta_original shape : torch.Size([28, 28])\n",
      "target_X_original shape : torch.Size([28, 7])\n",
      "target_theta_flatten shape: torch.Size([784])\n",
      "target_X_flatten shape: torch.Size([196])\n",
      "final_feature_vec shape: torch.Size([980])\n"
     ]
    },
    {
     "name": "stderr",
     "output_type": "stream",
     "text": [
      "100%|██████████| 100/100 [00:00<00:00, 273.94it/s]\n"
     ]
    },
    {
     "name": "stdout",
     "output_type": "stream",
     "text": [
      "X_t_0 shape : torch.Size([11, 7])\n",
      "C_0 shape : torch.Size([22, 11])\n",
      "thetaC shape : torch.Size([11, 11])\n",
      "torch.Size([11, 11])\n",
      "(11, 7)\n",
      "target_theta_original shape : torch.Size([28, 28])\n",
      "target_X_original shape : torch.Size([28, 7])\n",
      "target_theta_flatten shape: torch.Size([784])\n",
      "target_X_flatten shape: torch.Size([196])\n",
      "final_feature_vec shape: torch.Size([980])\n"
     ]
    },
    {
     "name": "stderr",
     "output_type": "stream",
     "text": [
      "100%|██████████| 100/100 [00:00<00:00, 291.32it/s]\n"
     ]
    },
    {
     "name": "stdout",
     "output_type": "stream",
     "text": [
      "X_t_0 shape : torch.Size([5, 7])\n",
      "C_0 shape : torch.Size([11, 5])\n",
      "thetaC shape : torch.Size([5, 5])\n",
      "torch.Size([5, 5])\n",
      "(5, 7)\n",
      "target_theta_original shape : torch.Size([28, 28])\n",
      "target_X_original shape : torch.Size([28, 7])\n",
      "target_theta_flatten shape: torch.Size([784])\n",
      "target_X_flatten shape: torch.Size([196])\n",
      "final_feature_vec shape: torch.Size([980])\n"
     ]
    },
    {
     "name": "stderr",
     "output_type": "stream",
     "text": [
      "100%|██████████| 100/100 [00:00<00:00, 592.56it/s]\n"
     ]
    },
    {
     "name": "stdout",
     "output_type": "stream",
     "text": [
      "X_t_0 shape : torch.Size([6, 7])\n",
      "C_0 shape : torch.Size([13, 6])\n",
      "thetaC shape : torch.Size([6, 6])\n",
      "torch.Size([6, 6])\n",
      "(6, 7)\n",
      "target_theta_original shape : torch.Size([28, 28])\n",
      "target_X_original shape : torch.Size([28, 7])\n",
      "target_theta_flatten shape: torch.Size([784])\n",
      "target_X_flatten shape: torch.Size([196])\n",
      "final_feature_vec shape: torch.Size([980])\n"
     ]
    },
    {
     "name": "stderr",
     "output_type": "stream",
     "text": [
      "100%|██████████| 100/100 [00:00<00:00, 458.89it/s]\n"
     ]
    },
    {
     "name": "stdout",
     "output_type": "stream",
     "text": [
      "X_t_0 shape : torch.Size([8, 7])\n",
      "C_0 shape : torch.Size([17, 8])\n",
      "thetaC shape : torch.Size([8, 8])\n",
      "torch.Size([8, 8])\n",
      "(8, 7)\n",
      "target_theta_original shape : torch.Size([28, 28])\n",
      "target_X_original shape : torch.Size([28, 7])\n",
      "target_theta_flatten shape: torch.Size([784])\n",
      "target_X_flatten shape: torch.Size([196])\n",
      "final_feature_vec shape: torch.Size([980])\n"
     ]
    },
    {
     "name": "stderr",
     "output_type": "stream",
     "text": [
      "100%|██████████| 100/100 [00:00<00:00, 418.03it/s]\n"
     ]
    },
    {
     "name": "stdout",
     "output_type": "stream",
     "text": [
      "X_t_0 shape : torch.Size([12, 7])\n",
      "C_0 shape : torch.Size([24, 12])\n",
      "thetaC shape : torch.Size([12, 12])\n",
      "torch.Size([12, 12])\n",
      "(12, 7)\n",
      "target_theta_original shape : torch.Size([28, 28])\n",
      "target_X_original shape : torch.Size([28, 7])\n",
      "target_theta_flatten shape: torch.Size([784])\n",
      "target_X_flatten shape: torch.Size([196])\n",
      "final_feature_vec shape: torch.Size([980])\n"
     ]
    },
    {
     "name": "stderr",
     "output_type": "stream",
     "text": [
      "100%|██████████| 100/100 [00:00<00:00, 290.01it/s]\n"
     ]
    },
    {
     "name": "stdout",
     "output_type": "stream",
     "text": [
      "X_t_0 shape : torch.Size([6, 7])\n",
      "C_0 shape : torch.Size([12, 6])\n",
      "thetaC shape : torch.Size([6, 6])\n",
      "torch.Size([6, 6])\n",
      "(6, 7)\n",
      "target_theta_original shape : torch.Size([28, 28])\n",
      "target_X_original shape : torch.Size([28, 7])\n",
      "target_theta_flatten shape: torch.Size([784])\n",
      "target_X_flatten shape: torch.Size([196])\n",
      "final_feature_vec shape: torch.Size([980])\n"
     ]
    },
    {
     "name": "stderr",
     "output_type": "stream",
     "text": [
      "100%|██████████| 100/100 [00:00<00:00, 365.21it/s]\n"
     ]
    },
    {
     "name": "stdout",
     "output_type": "stream",
     "text": [
      "X_t_0 shape : torch.Size([10, 7])\n",
      "C_0 shape : torch.Size([21, 10])\n",
      "thetaC shape : torch.Size([10, 10])\n",
      "torch.Size([10, 10])\n",
      "(10, 7)\n",
      "target_theta_original shape : torch.Size([28, 28])\n",
      "target_X_original shape : torch.Size([28, 7])\n",
      "target_theta_flatten shape: torch.Size([784])\n",
      "target_X_flatten shape: torch.Size([196])\n",
      "final_feature_vec shape: torch.Size([980])\n"
     ]
    },
    {
     "name": "stderr",
     "output_type": "stream",
     "text": [
      "100%|██████████| 100/100 [00:00<00:00, 422.40it/s]\n"
     ]
    },
    {
     "name": "stdout",
     "output_type": "stream",
     "text": [
      "X_t_0 shape : torch.Size([11, 7])\n",
      "C_0 shape : torch.Size([22, 11])\n",
      "thetaC shape : torch.Size([11, 11])\n",
      "torch.Size([11, 11])\n",
      "(11, 7)\n",
      "target_theta_original shape : torch.Size([28, 28])\n",
      "target_X_original shape : torch.Size([28, 7])\n",
      "target_theta_flatten shape: torch.Size([784])\n",
      "target_X_flatten shape: torch.Size([196])\n",
      "final_feature_vec shape: torch.Size([980])\n"
     ]
    },
    {
     "name": "stderr",
     "output_type": "stream",
     "text": [
      "100%|██████████| 100/100 [00:00<00:00, 399.59it/s]\n"
     ]
    },
    {
     "name": "stdout",
     "output_type": "stream",
     "text": [
      "X_t_0 shape : torch.Size([11, 7])\n",
      "C_0 shape : torch.Size([22, 11])\n",
      "thetaC shape : torch.Size([11, 11])\n",
      "torch.Size([11, 11])\n",
      "(11, 7)\n",
      "target_theta_original shape : torch.Size([28, 28])\n",
      "target_X_original shape : torch.Size([28, 7])\n",
      "target_theta_flatten shape: torch.Size([784])\n",
      "target_X_flatten shape: torch.Size([196])\n",
      "final_feature_vec shape: torch.Size([980])\n"
     ]
    },
    {
     "name": "stderr",
     "output_type": "stream",
     "text": [
      "100%|██████████| 100/100 [00:00<00:00, 646.08it/s]\n"
     ]
    },
    {
     "name": "stdout",
     "output_type": "stream",
     "text": [
      "X_t_0 shape : torch.Size([6, 7])\n",
      "C_0 shape : torch.Size([12, 6])\n",
      "thetaC shape : torch.Size([6, 6])\n",
      "torch.Size([6, 6])\n",
      "(6, 7)\n",
      "target_theta_original shape : torch.Size([28, 28])\n",
      "target_X_original shape : torch.Size([28, 7])\n",
      "target_theta_flatten shape: torch.Size([784])\n",
      "target_X_flatten shape: torch.Size([196])\n",
      "final_feature_vec shape: torch.Size([980])\n"
     ]
    },
    {
     "name": "stderr",
     "output_type": "stream",
     "text": [
      "100%|██████████| 100/100 [00:00<00:00, 529.83it/s]\n"
     ]
    },
    {
     "name": "stdout",
     "output_type": "stream",
     "text": [
      "X_t_0 shape : torch.Size([10, 7])\n",
      "C_0 shape : torch.Size([20, 10])\n",
      "thetaC shape : torch.Size([10, 10])\n",
      "torch.Size([10, 10])\n",
      "(10, 7)\n",
      "target_theta_original shape : torch.Size([28, 28])\n",
      "target_X_original shape : torch.Size([28, 7])\n",
      "target_theta_flatten shape: torch.Size([784])\n",
      "target_X_flatten shape: torch.Size([196])\n",
      "final_feature_vec shape: torch.Size([980])\n"
     ]
    },
    {
     "name": "stderr",
     "output_type": "stream",
     "text": [
      "100%|██████████| 100/100 [00:00<00:00, 682.33it/s]\n"
     ]
    },
    {
     "name": "stdout",
     "output_type": "stream",
     "text": [
      "X_t_0 shape : torch.Size([6, 7])\n",
      "C_0 shape : torch.Size([13, 6])\n",
      "thetaC shape : torch.Size([6, 6])\n",
      "torch.Size([6, 6])\n",
      "(6, 7)\n",
      "target_theta_original shape : torch.Size([28, 28])\n",
      "target_X_original shape : torch.Size([28, 7])\n",
      "target_theta_flatten shape: torch.Size([784])\n",
      "target_X_flatten shape: torch.Size([196])\n",
      "final_feature_vec shape: torch.Size([980])\n"
     ]
    },
    {
     "name": "stderr",
     "output_type": "stream",
     "text": [
      "100%|██████████| 100/100 [00:00<00:00, 558.45it/s]\n"
     ]
    },
    {
     "name": "stdout",
     "output_type": "stream",
     "text": [
      "X_t_0 shape : torch.Size([11, 7])\n",
      "C_0 shape : torch.Size([22, 11])\n",
      "thetaC shape : torch.Size([11, 11])\n",
      "torch.Size([11, 11])\n",
      "(11, 7)\n",
      "target_theta_original shape : torch.Size([28, 28])\n",
      "target_X_original shape : torch.Size([28, 7])\n",
      "target_theta_flatten shape: torch.Size([784])\n",
      "target_X_flatten shape: torch.Size([196])\n",
      "final_feature_vec shape: torch.Size([980])\n"
     ]
    },
    {
     "name": "stderr",
     "output_type": "stream",
     "text": [
      "100%|██████████| 100/100 [00:00<00:00, 350.10it/s]\n"
     ]
    },
    {
     "name": "stdout",
     "output_type": "stream",
     "text": [
      "X_t_0 shape : torch.Size([14, 7])\n",
      "C_0 shape : torch.Size([28, 14])\n",
      "thetaC shape : torch.Size([14, 14])\n",
      "torch.Size([14, 14])\n",
      "(14, 7)\n",
      "target_theta_original shape : torch.Size([28, 28])\n",
      "target_X_original shape : torch.Size([28, 7])\n",
      "target_theta_flatten shape: torch.Size([784])\n",
      "target_X_flatten shape: torch.Size([196])\n",
      "final_feature_vec shape: torch.Size([980])\n"
     ]
    },
    {
     "name": "stderr",
     "output_type": "stream",
     "text": [
      "100%|██████████| 100/100 [00:00<00:00, 935.88it/s]\n"
     ]
    },
    {
     "name": "stdout",
     "output_type": "stream",
     "text": [
      "X_t_0 shape : torch.Size([5, 7])\n",
      "C_0 shape : torch.Size([11, 5])\n",
      "thetaC shape : torch.Size([5, 5])\n",
      "torch.Size([5, 5])\n",
      "(5, 7)\n",
      "target_theta_original shape : torch.Size([28, 28])\n",
      "target_X_original shape : torch.Size([28, 7])\n",
      "target_theta_flatten shape: torch.Size([784])\n",
      "target_X_flatten shape: torch.Size([196])\n",
      "final_feature_vec shape: torch.Size([980])\n"
     ]
    },
    {
     "name": "stderr",
     "output_type": "stream",
     "text": [
      "100%|██████████| 100/100 [00:00<00:00, 578.44it/s]\n"
     ]
    },
    {
     "name": "stdout",
     "output_type": "stream",
     "text": [
      "X_t_0 shape : torch.Size([7, 7])\n",
      "C_0 shape : torch.Size([14, 7])\n",
      "thetaC shape : torch.Size([7, 7])\n",
      "torch.Size([7, 7])\n",
      "(7, 7)\n",
      "target_theta_original shape : torch.Size([28, 28])\n",
      "target_X_original shape : torch.Size([28, 7])\n",
      "target_theta_flatten shape: torch.Size([784])\n",
      "target_X_flatten shape: torch.Size([196])\n",
      "final_feature_vec shape: torch.Size([980])\n"
     ]
    },
    {
     "name": "stderr",
     "output_type": "stream",
     "text": [
      "100%|██████████| 100/100 [00:00<00:00, 390.35it/s]\n"
     ]
    },
    {
     "name": "stdout",
     "output_type": "stream",
     "text": [
      "X_t_0 shape : torch.Size([11, 7])\n",
      "C_0 shape : torch.Size([22, 11])\n",
      "thetaC shape : torch.Size([11, 11])\n",
      "torch.Size([11, 11])\n",
      "(11, 7)\n",
      "target_theta_original shape : torch.Size([28, 28])\n",
      "target_X_original shape : torch.Size([28, 7])\n",
      "target_theta_flatten shape: torch.Size([784])\n",
      "target_X_flatten shape: torch.Size([196])\n",
      "final_feature_vec shape: torch.Size([980])\n"
     ]
    },
    {
     "name": "stderr",
     "output_type": "stream",
     "text": [
      "100%|██████████| 100/100 [00:00<00:00, 330.05it/s]\n"
     ]
    },
    {
     "name": "stdout",
     "output_type": "stream",
     "text": [
      "X_t_0 shape : torch.Size([11, 7])\n",
      "C_0 shape : torch.Size([22, 11])\n",
      "thetaC shape : torch.Size([11, 11])\n",
      "torch.Size([11, 11])\n",
      "(11, 7)\n",
      "target_theta_original shape : torch.Size([28, 28])\n",
      "target_X_original shape : torch.Size([28, 7])\n",
      "target_theta_flatten shape: torch.Size([784])\n",
      "target_X_flatten shape: torch.Size([196])\n",
      "final_feature_vec shape: torch.Size([980])\n"
     ]
    },
    {
     "name": "stderr",
     "output_type": "stream",
     "text": [
      "100%|██████████| 100/100 [00:00<00:00, 497.86it/s]\n"
     ]
    },
    {
     "name": "stdout",
     "output_type": "stream",
     "text": [
      "X_t_0 shape : torch.Size([6, 7])\n",
      "C_0 shape : torch.Size([13, 6])\n",
      "thetaC shape : torch.Size([6, 6])\n",
      "torch.Size([6, 6])\n",
      "(6, 7)\n",
      "target_theta_original shape : torch.Size([28, 28])\n",
      "target_X_original shape : torch.Size([28, 7])\n",
      "target_theta_flatten shape: torch.Size([784])\n",
      "target_X_flatten shape: torch.Size([196])\n",
      "final_feature_vec shape: torch.Size([980])\n"
     ]
    },
    {
     "name": "stderr",
     "output_type": "stream",
     "text": [
      "100%|██████████| 100/100 [00:00<00:00, 612.02it/s]\n"
     ]
    },
    {
     "name": "stdout",
     "output_type": "stream",
     "text": [
      "X_t_0 shape : torch.Size([6, 7])\n",
      "C_0 shape : torch.Size([12, 6])\n",
      "thetaC shape : torch.Size([6, 6])\n",
      "torch.Size([6, 6])\n",
      "(6, 7)\n",
      "target_theta_original shape : torch.Size([28, 28])\n",
      "target_X_original shape : torch.Size([28, 7])\n",
      "target_theta_flatten shape: torch.Size([784])\n",
      "target_X_flatten shape: torch.Size([196])\n",
      "final_feature_vec shape: torch.Size([980])\n"
     ]
    },
    {
     "name": "stderr",
     "output_type": "stream",
     "text": [
      "100%|██████████| 100/100 [00:00<00:00, 405.81it/s]\n"
     ]
    },
    {
     "name": "stdout",
     "output_type": "stream",
     "text": [
      "X_t_0 shape : torch.Size([10, 7])\n",
      "C_0 shape : torch.Size([21, 10])\n",
      "thetaC shape : torch.Size([10, 10])\n",
      "torch.Size([10, 10])\n",
      "(10, 7)\n",
      "target_theta_original shape : torch.Size([28, 28])\n",
      "target_X_original shape : torch.Size([28, 7])\n",
      "target_theta_flatten shape: torch.Size([784])\n",
      "target_X_flatten shape: torch.Size([196])\n",
      "final_feature_vec shape: torch.Size([980])\n"
     ]
    },
    {
     "name": "stderr",
     "output_type": "stream",
     "text": [
      "100%|██████████| 100/100 [00:00<00:00, 466.43it/s]"
     ]
    },
    {
     "name": "stdout",
     "output_type": "stream",
     "text": [
      "X_t_0 shape : torch.Size([8, 7])\n",
      "C_0 shape : torch.Size([16, 8])\n",
      "thetaC shape : torch.Size([8, 8])\n",
      "torch.Size([8, 8])\n",
      "(8, 7)\n",
      "target_theta_original shape : torch.Size([28, 28])\n",
      "target_X_original shape : torch.Size([28, 7])\n",
      "target_theta_flatten shape: torch.Size([784])\n",
      "target_X_flatten shape: torch.Size([196])\n",
      "final_feature_vec shape: torch.Size([980])\n",
      "torch.Size([188, 980])\n",
      "32.458195\n"
     ]
    },
    {
     "name": "stderr",
     "output_type": "stream",
     "text": [
      "\n"
     ]
    }
   ],
   "source": [
    "time1=datetime.now()\n",
    "for i in range(graph_size):\n",
    "    tdc = get_coarsened_features(data[i].x,data[i].adj)\n",
    "    train_data_coarsened.append(tdc)\n",
    "train_X = torch.stack(train_data_coarsened)\n",
    "print(train_X.shape)\n",
    "time2=datetime.now()\n",
    "print((time2-time1).total_seconds())"
   ]
  },
  {
   "cell_type": "code",
   "execution_count": null,
   "metadata": {
    "colab": {
     "base_uri": "https://localhost:8080/"
    },
    "id": "wTeSI0iZHhDI",
    "outputId": "872376c4-9f55-4b26-dbd0-a501b2cff00c"
   },
   "outputs": [
    {
     "data": {
      "text/plain": [
       "tensor([[ 0.9949,  0.0020,  0.0031,  ...,  0.0000,  0.0000,  0.0000],\n",
       "        [ 0.9864,  0.0102,  0.0034,  ...,  0.0000,  0.0000,  0.0000],\n",
       "        [ 0.5133,  0.4798,  0.0069,  ...,  0.0000,  0.0000,  0.0000],\n",
       "        ...,\n",
       "        [ 0.9654, -0.0321,  0.0025,  ...,  0.0000,  0.0000,  0.0000],\n",
       "        [ 0.7877,  0.1826,  0.0298,  ...,  0.0000,  0.0000,  0.0000],\n",
       "        [ 0.9220, -0.0738, -0.0042,  ...,  0.0000,  0.0000,  0.0000]])"
      ]
     },
     "execution_count": 49,
     "metadata": {},
     "output_type": "execute_result"
    }
   ],
   "source": [
    "train_X"
   ]
  },
  {
   "cell_type": "code",
   "execution_count": null,
   "metadata": {
    "colab": {
     "base_uri": "https://localhost:8080/"
    },
    "id": "fkEjWz0_Hluu",
    "outputId": "885d4387-fcc2-405a-bf8f-862c52d2cdd2"
   },
   "outputs": [
    {
     "data": {
      "text/plain": [
       "torch.Size([188, 980])"
      ]
     },
     "execution_count": 50,
     "metadata": {},
     "output_type": "execute_result"
    }
   ],
   "source": [
    "train_X.shape"
   ]
  },
  {
   "cell_type": "code",
   "execution_count": null,
   "metadata": {
    "colab": {
     "base_uri": "https://localhost:8080/"
    },
    "id": "rgbCJH7jIkoN",
    "outputId": "af658ef0-7256-4ac9-e37e-7da04a55aa0b"
   },
   "outputs": [
    {
     "data": {
      "text/plain": [
       "torch.Size([980])"
      ]
     },
     "execution_count": 51,
     "metadata": {},
     "output_type": "execute_result"
    }
   ],
   "source": [
    "train_X[0].shape"
   ]
  },
  {
   "cell_type": "markdown",
   "metadata": {
    "id": "e_ZFxeZZP-1j"
   },
   "source": [
    "This is the part of code of graph classification\n"
   ]
  },
  {
   "cell_type": "code",
   "execution_count": null,
   "metadata": {
    "id": "eqh9qgEgofD7"
   },
   "outputs": [],
   "source": [
    "inputs = []\n",
    "outputs = []\n",
    "\n",
    "\n",
    "for i in range(graph_size):\n",
    "    x_vec = dataset[i].x.flatten()\n",
    "    adj_vec = dataset[i].adj.flatten()\n",
    "    feature_vec = torch.concat((x_vec,adj_vec),0)\n",
    "    inputs.append(feature_vec)\n",
    "    outputs.append(dataset[i].y)\n",
    "    # print(x_vec.shape,adj_vec.shape,feature_vec.shape)\n"
   ]
  },
  {
   "cell_type": "code",
   "execution_count": null,
   "metadata": {
    "id": "36qlbyZorYkO"
   },
   "outputs": [],
   "source": [
    "# print(inputs[0].shape)"
   ]
  },
  {
   "cell_type": "code",
   "execution_count": null,
   "metadata": {
    "colab": {
     "base_uri": "https://localhost:8080/"
    },
    "id": "77e6VJ2crQJe",
    "outputId": "ea09c423-3746-43fb-c680-a21583c3f2f0"
   },
   "outputs": [
    {
     "name": "stdout",
     "output_type": "stream",
     "text": [
      "torch.Size([188, 980])\n",
      "torch.Size([188, 1])\n"
     ]
    }
   ],
   "source": [
    "X = torch.stack(inputs)\n",
    "Y = torch.stack(outputs)\n",
    "print(X.shape)\n",
    "print(Y.shape)\n",
    "X = train_X\n",
    "X = X.detach().numpy()\n",
    "y = Y.reshape(-1).detach().numpy().round()"
   ]
  },
  {
   "cell_type": "code",
   "execution_count": null,
   "metadata": {
    "colab": {
     "base_uri": "https://localhost:8080/"
    },
    "id": "TXRNAfwZt2Ot",
    "outputId": "5827b631-edb6-4c40-9454-a5ca760d9386"
   },
   "outputs": [
    {
     "name": "stdout",
     "output_type": "stream",
     "text": [
      "cpu\n",
      "BinaryClassification(\n",
      "  (layer_1): Linear(in_features=980, out_features=64, bias=True)\n",
      "  (layer_2): Linear(in_features=64, out_features=64, bias=True)\n",
      "  (layer_out): Linear(in_features=64, out_features=1, bias=True)\n",
      "  (relu): ReLU()\n",
      "  (dropout): Dropout(p=0.1, inplace=False)\n",
      "  (batchnorm1): BatchNorm1d(64, eps=1e-05, momentum=0.1, affine=True, track_running_stats=True)\n",
      "  (batchnorm2): BatchNorm1d(64, eps=1e-05, momentum=0.1, affine=True, track_running_stats=True)\n",
      ")\n",
      "Epoch 001: | Loss: 0.65051 | Acc: 60.667\n",
      "Epoch 002: | Loss: 0.44189 | Acc: 83.000\n",
      "Epoch 003: | Loss: 0.36191 | Acc: 90.000\n",
      "Epoch 004: | Loss: 0.33764 | Acc: 90.667\n",
      "Epoch 005: | Loss: 0.30439 | Acc: 92.000\n",
      "Epoch 006: | Loss: 0.28522 | Acc: 93.333\n",
      "Epoch 007: | Loss: 0.25377 | Acc: 94.000\n",
      "Epoch 008: | Loss: 0.22395 | Acc: 93.667\n",
      "Epoch 009: | Loss: 0.20511 | Acc: 95.333\n",
      "Epoch 010: | Loss: 0.18758 | Acc: 94.667\n",
      "Epoch 011: | Loss: 0.17957 | Acc: 97.000\n",
      "Epoch 012: | Loss: 0.14109 | Acc: 97.667\n",
      "Epoch 013: | Loss: 0.13844 | Acc: 98.333\n",
      "Epoch 014: | Loss: 0.12009 | Acc: 99.000\n",
      "Epoch 015: | Loss: 0.10717 | Acc: 98.333\n",
      "Epoch 016: | Loss: 0.09075 | Acc: 99.333\n",
      "Epoch 017: | Loss: 0.08909 | Acc: 98.333\n",
      "Epoch 018: | Loss: 0.07494 | Acc: 99.333\n",
      "Epoch 019: | Loss: 0.07396 | Acc: 99.333\n",
      "Epoch 020: | Loss: 0.06477 | Acc: 100.000\n",
      "Epoch 021: | Loss: 0.04964 | Acc: 100.000\n",
      "Epoch 022: | Loss: 0.05087 | Acc: 99.333\n",
      "Epoch 023: | Loss: 0.04546 | Acc: 100.000\n",
      "Epoch 024: | Loss: 0.03789 | Acc: 100.000\n",
      "Epoch 025: | Loss: 0.03300 | Acc: 100.000\n",
      "time 0.370673\n",
      "0.7894736842105263\n",
      "              precision    recall  f1-score   support\n",
      "\n",
      "           0       0.80      0.57      0.67         7\n",
      "           1       0.79      0.92      0.85        12\n",
      "\n",
      "    accuracy                           0.79        19\n",
      "   macro avg       0.79      0.74      0.76        19\n",
      "weighted avg       0.79      0.79      0.78        19\n",
      "\n",
      "cpu\n",
      "BinaryClassification(\n",
      "  (layer_1): Linear(in_features=980, out_features=64, bias=True)\n",
      "  (layer_2): Linear(in_features=64, out_features=64, bias=True)\n",
      "  (layer_out): Linear(in_features=64, out_features=1, bias=True)\n",
      "  (relu): ReLU()\n",
      "  (dropout): Dropout(p=0.1, inplace=False)\n",
      "  (batchnorm1): BatchNorm1d(64, eps=1e-05, momentum=0.1, affine=True, track_running_stats=True)\n",
      "  (batchnorm2): BatchNorm1d(64, eps=1e-05, momentum=0.1, affine=True, track_running_stats=True)\n",
      ")\n",
      "Epoch 001: | Loss: 0.62789 | Acc: 65.333\n",
      "Epoch 002: | Loss: 0.44795 | Acc: 86.333\n",
      "Epoch 003: | Loss: 0.39724 | Acc: 89.333\n",
      "Epoch 004: | Loss: 0.34132 | Acc: 92.000\n",
      "Epoch 005: | Loss: 0.32396 | Acc: 91.333\n",
      "Epoch 006: | Loss: 0.28543 | Acc: 91.333\n",
      "Epoch 007: | Loss: 0.27146 | Acc: 90.667\n",
      "Epoch 008: | Loss: 0.23349 | Acc: 93.667\n",
      "Epoch 009: | Loss: 0.22482 | Acc: 95.667\n",
      "Epoch 010: | Loss: 0.21236 | Acc: 94.000\n",
      "Epoch 011: | Loss: 0.18538 | Acc: 93.333\n",
      "Epoch 012: | Loss: 0.20383 | Acc: 95.000\n",
      "Epoch 013: | Loss: 0.14232 | Acc: 97.000\n",
      "Epoch 014: | Loss: 0.13639 | Acc: 98.333\n",
      "Epoch 015: | Loss: 0.14888 | Acc: 97.000\n",
      "Epoch 016: | Loss: 0.13360 | Acc: 98.667\n",
      "Epoch 017: | Loss: 0.11859 | Acc: 98.333\n",
      "Epoch 018: | Loss: 0.09862 | Acc: 98.333\n",
      "Epoch 019: | Loss: 0.08448 | Acc: 99.333\n",
      "Epoch 020: | Loss: 0.08582 | Acc: 99.333\n",
      "Epoch 021: | Loss: 0.07695 | Acc: 99.333\n",
      "Epoch 022: | Loss: 0.08162 | Acc: 98.667\n",
      "Epoch 023: | Loss: 0.07744 | Acc: 98.667\n",
      "Epoch 024: | Loss: 0.06561 | Acc: 99.333\n",
      "Epoch 025: | Loss: 0.06051 | Acc: 99.333\n",
      "time 0.322514\n",
      "0.7894736842105263\n",
      "              precision    recall  f1-score   support\n",
      "\n",
      "           0       0.80      0.57      0.67         7\n",
      "           1       0.79      0.92      0.85        12\n",
      "\n",
      "    accuracy                           0.79        19\n",
      "   macro avg       0.79      0.74      0.76        19\n",
      "weighted avg       0.79      0.79      0.78        19\n",
      "\n",
      "cpu\n",
      "BinaryClassification(\n",
      "  (layer_1): Linear(in_features=980, out_features=64, bias=True)\n",
      "  (layer_2): Linear(in_features=64, out_features=64, bias=True)\n",
      "  (layer_out): Linear(in_features=64, out_features=1, bias=True)\n",
      "  (relu): ReLU()\n",
      "  (dropout): Dropout(p=0.1, inplace=False)\n",
      "  (batchnorm1): BatchNorm1d(64, eps=1e-05, momentum=0.1, affine=True, track_running_stats=True)\n",
      "  (batchnorm2): BatchNorm1d(64, eps=1e-05, momentum=0.1, affine=True, track_running_stats=True)\n",
      ")\n",
      "Epoch 001: | Loss: 0.67872 | Acc: 60.000\n",
      "Epoch 002: | Loss: 0.42942 | Acc: 84.000\n",
      "Epoch 003: | Loss: 0.37690 | Acc: 86.000\n",
      "Epoch 004: | Loss: 0.36736 | Acc: 86.667\n",
      "Epoch 005: | Loss: 0.32110 | Acc: 87.667\n",
      "Epoch 006: | Loss: 0.30215 | Acc: 90.000\n",
      "Epoch 007: | Loss: 0.27600 | Acc: 91.000\n",
      "Epoch 008: | Loss: 0.27863 | Acc: 91.000\n",
      "Epoch 009: | Loss: 0.25469 | Acc: 90.667\n",
      "Epoch 010: | Loss: 0.21180 | Acc: 94.000\n",
      "Epoch 011: | Loss: 0.20992 | Acc: 95.667\n",
      "Epoch 012: | Loss: 0.18050 | Acc: 95.667\n",
      "Epoch 013: | Loss: 0.15507 | Acc: 96.667\n",
      "Epoch 014: | Loss: 0.15149 | Acc: 96.667\n",
      "Epoch 015: | Loss: 0.12341 | Acc: 98.000\n",
      "Epoch 016: | Loss: 0.12056 | Acc: 97.667\n",
      "Epoch 017: | Loss: 0.10241 | Acc: 97.667\n",
      "Epoch 018: | Loss: 0.09234 | Acc: 98.333\n",
      "Epoch 019: | Loss: 0.08921 | Acc: 99.333\n",
      "Epoch 020: | Loss: 0.07055 | Acc: 99.333\n",
      "Epoch 021: | Loss: 0.08349 | Acc: 98.667\n",
      "Epoch 022: | Loss: 0.06055 | Acc: 99.333\n",
      "Epoch 023: | Loss: 0.05992 | Acc: 100.000\n",
      "Epoch 024: | Loss: 0.04770 | Acc: 99.333\n",
      "Epoch 025: | Loss: 0.04178 | Acc: 99.333\n",
      "time 0.235126\n",
      "0.7894736842105263\n",
      "              precision    recall  f1-score   support\n",
      "\n",
      "           0       0.80      0.57      0.67         7\n",
      "           1       0.79      0.92      0.85        12\n",
      "\n",
      "    accuracy                           0.79        19\n",
      "   macro avg       0.79      0.74      0.76        19\n",
      "weighted avg       0.79      0.79      0.78        19\n",
      "\n",
      "cpu\n",
      "BinaryClassification(\n",
      "  (layer_1): Linear(in_features=980, out_features=64, bias=True)\n",
      "  (layer_2): Linear(in_features=64, out_features=64, bias=True)\n",
      "  (layer_out): Linear(in_features=64, out_features=1, bias=True)\n",
      "  (relu): ReLU()\n",
      "  (dropout): Dropout(p=0.1, inplace=False)\n",
      "  (batchnorm1): BatchNorm1d(64, eps=1e-05, momentum=0.1, affine=True, track_running_stats=True)\n",
      "  (batchnorm2): BatchNorm1d(64, eps=1e-05, momentum=0.1, affine=True, track_running_stats=True)\n",
      ")\n",
      "Epoch 001: | Loss: 0.67202 | Acc: 62.667\n",
      "Epoch 002: | Loss: 0.47591 | Acc: 82.000\n",
      "Epoch 003: | Loss: 0.42464 | Acc: 85.333\n",
      "Epoch 004: | Loss: 0.36348 | Acc: 90.333\n",
      "Epoch 005: | Loss: 0.31419 | Acc: 90.000\n",
      "Epoch 006: | Loss: 0.28764 | Acc: 91.000\n",
      "Epoch 007: | Loss: 0.27101 | Acc: 92.000\n",
      "Epoch 008: | Loss: 0.22610 | Acc: 94.667\n",
      "Epoch 009: | Loss: 0.22401 | Acc: 94.000\n",
      "Epoch 010: | Loss: 0.20867 | Acc: 95.000\n",
      "Epoch 011: | Loss: 0.17299 | Acc: 96.667\n",
      "Epoch 012: | Loss: 0.16082 | Acc: 98.000\n",
      "Epoch 013: | Loss: 0.18618 | Acc: 95.333\n",
      "Epoch 014: | Loss: 0.16055 | Acc: 97.000\n",
      "Epoch 015: | Loss: 0.12820 | Acc: 98.333\n",
      "Epoch 016: | Loss: 0.13769 | Acc: 96.000\n",
      "Epoch 017: | Loss: 0.11270 | Acc: 99.333\n",
      "Epoch 018: | Loss: 0.11404 | Acc: 97.667\n",
      "Epoch 019: | Loss: 0.09150 | Acc: 98.667\n",
      "Epoch 020: | Loss: 0.08779 | Acc: 98.333\n",
      "Epoch 021: | Loss: 0.08771 | Acc: 99.333\n",
      "Epoch 022: | Loss: 0.07342 | Acc: 98.333\n",
      "Epoch 023: | Loss: 0.06047 | Acc: 99.333\n",
      "Epoch 024: | Loss: 0.06889 | Acc: 99.333\n",
      "Epoch 025: | Loss: 0.04769 | Acc: 99.333\n",
      "time 0.259893\n",
      "0.7894736842105263\n",
      "              precision    recall  f1-score   support\n",
      "\n",
      "           0       0.80      0.57      0.67         7\n",
      "           1       0.79      0.92      0.85        12\n",
      "\n",
      "    accuracy                           0.79        19\n",
      "   macro avg       0.79      0.74      0.76        19\n",
      "weighted avg       0.79      0.79      0.78        19\n",
      "\n",
      "cpu\n",
      "BinaryClassification(\n",
      "  (layer_1): Linear(in_features=980, out_features=64, bias=True)\n",
      "  (layer_2): Linear(in_features=64, out_features=64, bias=True)\n",
      "  (layer_out): Linear(in_features=64, out_features=1, bias=True)\n",
      "  (relu): ReLU()\n",
      "  (dropout): Dropout(p=0.1, inplace=False)\n",
      "  (batchnorm1): BatchNorm1d(64, eps=1e-05, momentum=0.1, affine=True, track_running_stats=True)\n",
      "  (batchnorm2): BatchNorm1d(64, eps=1e-05, momentum=0.1, affine=True, track_running_stats=True)\n",
      ")\n",
      "Epoch 001: | Loss: 0.54830 | Acc: 73.000\n",
      "Epoch 002: | Loss: 0.41114 | Acc: 88.000\n",
      "Epoch 003: | Loss: 0.35479 | Acc: 91.000\n",
      "Epoch 004: | Loss: 0.31488 | Acc: 91.667\n",
      "Epoch 005: | Loss: 0.29110 | Acc: 90.333\n",
      "Epoch 006: | Loss: 0.26593 | Acc: 94.000\n",
      "Epoch 007: | Loss: 0.23696 | Acc: 96.000\n",
      "Epoch 008: | Loss: 0.21455 | Acc: 95.000\n",
      "Epoch 009: | Loss: 0.20053 | Acc: 94.667\n",
      "Epoch 010: | Loss: 0.18643 | Acc: 96.333\n",
      "Epoch 011: | Loss: 0.15754 | Acc: 98.000\n",
      "Epoch 012: | Loss: 0.13751 | Acc: 98.333\n",
      "Epoch 013: | Loss: 0.14072 | Acc: 96.667\n",
      "Epoch 014: | Loss: 0.13476 | Acc: 97.000\n",
      "Epoch 015: | Loss: 0.11260 | Acc: 97.667\n",
      "Epoch 016: | Loss: 0.10302 | Acc: 99.333\n",
      "Epoch 017: | Loss: 0.11251 | Acc: 97.667\n",
      "Epoch 018: | Loss: 0.08903 | Acc: 98.000\n",
      "Epoch 019: | Loss: 0.09381 | Acc: 99.333\n",
      "Epoch 020: | Loss: 0.07534 | Acc: 99.333\n",
      "Epoch 021: | Loss: 0.06492 | Acc: 99.333\n",
      "Epoch 022: | Loss: 0.07253 | Acc: 99.000\n",
      "Epoch 023: | Loss: 0.05523 | Acc: 99.333\n",
      "Epoch 024: | Loss: 0.05235 | Acc: 98.667\n",
      "Epoch 025: | Loss: 0.04662 | Acc: 99.333\n",
      "time 0.259919\n",
      "0.8421052631578947\n",
      "              precision    recall  f1-score   support\n",
      "\n",
      "           0       0.83      0.71      0.77         7\n",
      "           1       0.85      0.92      0.88        12\n",
      "\n",
      "    accuracy                           0.84        19\n",
      "   macro avg       0.84      0.82      0.82        19\n",
      "weighted avg       0.84      0.84      0.84        19\n",
      "\n",
      "cpu\n",
      "BinaryClassification(\n",
      "  (layer_1): Linear(in_features=980, out_features=64, bias=True)\n",
      "  (layer_2): Linear(in_features=64, out_features=64, bias=True)\n",
      "  (layer_out): Linear(in_features=64, out_features=1, bias=True)\n",
      "  (relu): ReLU()\n",
      "  (dropout): Dropout(p=0.1, inplace=False)\n",
      "  (batchnorm1): BatchNorm1d(64, eps=1e-05, momentum=0.1, affine=True, track_running_stats=True)\n",
      "  (batchnorm2): BatchNorm1d(64, eps=1e-05, momentum=0.1, affine=True, track_running_stats=True)\n",
      ")\n",
      "Epoch 001: | Loss: 0.58756 | Acc: 70.000\n",
      "Epoch 002: | Loss: 0.39832 | Acc: 89.667\n",
      "Epoch 003: | Loss: 0.34209 | Acc: 88.333\n",
      "Epoch 004: | Loss: 0.32034 | Acc: 89.667\n",
      "Epoch 005: | Loss: 0.26896 | Acc: 91.333\n",
      "Epoch 006: | Loss: 0.24749 | Acc: 95.333\n",
      "Epoch 007: | Loss: 0.22774 | Acc: 95.333\n",
      "Epoch 008: | Loss: 0.20888 | Acc: 94.000\n",
      "Epoch 009: | Loss: 0.18967 | Acc: 96.333\n",
      "Epoch 010: | Loss: 0.20764 | Acc: 93.333\n",
      "Epoch 011: | Loss: 0.15299 | Acc: 96.667\n",
      "Epoch 012: | Loss: 0.16662 | Acc: 95.000\n",
      "Epoch 013: | Loss: 0.14743 | Acc: 96.667\n",
      "Epoch 014: | Loss: 0.11801 | Acc: 98.667\n",
      "Epoch 015: | Loss: 0.11710 | Acc: 97.000\n",
      "Epoch 016: | Loss: 0.11531 | Acc: 97.667\n",
      "Epoch 017: | Loss: 0.09551 | Acc: 98.333\n",
      "Epoch 018: | Loss: 0.08826 | Acc: 98.667\n",
      "Epoch 019: | Loss: 0.10196 | Acc: 98.667\n",
      "Epoch 020: | Loss: 0.09041 | Acc: 97.667\n",
      "Epoch 021: | Loss: 0.06849 | Acc: 99.333\n",
      "Epoch 022: | Loss: 0.05649 | Acc: 99.333\n",
      "Epoch 023: | Loss: 0.05845 | Acc: 100.000\n",
      "Epoch 024: | Loss: 0.05857 | Acc: 99.333\n",
      "Epoch 025: | Loss: 0.04362 | Acc: 100.000\n",
      "time 0.251015\n",
      "0.7894736842105263\n",
      "              precision    recall  f1-score   support\n",
      "\n",
      "           0       0.80      0.57      0.67         7\n",
      "           1       0.79      0.92      0.85        12\n",
      "\n",
      "    accuracy                           0.79        19\n",
      "   macro avg       0.79      0.74      0.76        19\n",
      "weighted avg       0.79      0.79      0.78        19\n",
      "\n",
      "cpu\n",
      "BinaryClassification(\n",
      "  (layer_1): Linear(in_features=980, out_features=64, bias=True)\n",
      "  (layer_2): Linear(in_features=64, out_features=64, bias=True)\n",
      "  (layer_out): Linear(in_features=64, out_features=1, bias=True)\n",
      "  (relu): ReLU()\n",
      "  (dropout): Dropout(p=0.1, inplace=False)\n",
      "  (batchnorm1): BatchNorm1d(64, eps=1e-05, momentum=0.1, affine=True, track_running_stats=True)\n",
      "  (batchnorm2): BatchNorm1d(64, eps=1e-05, momentum=0.1, affine=True, track_running_stats=True)\n",
      ")\n",
      "Epoch 001: | Loss: 0.67586 | Acc: 59.667\n",
      "Epoch 002: | Loss: 0.47424 | Acc: 82.000\n",
      "Epoch 003: | Loss: 0.42757 | Acc: 87.000\n",
      "Epoch 004: | Loss: 0.40030 | Acc: 90.333\n",
      "Epoch 005: | Loss: 0.34887 | Acc: 92.667\n",
      "Epoch 006: | Loss: 0.35958 | Acc: 88.000\n",
      "Epoch 007: | Loss: 0.30054 | Acc: 93.000\n",
      "Epoch 008: | Loss: 0.29334 | Acc: 92.667\n",
      "Epoch 009: | Loss: 0.24924 | Acc: 92.667\n",
      "Epoch 010: | Loss: 0.23936 | Acc: 94.000\n",
      "Epoch 011: | Loss: 0.21341 | Acc: 94.333\n",
      "Epoch 012: | Loss: 0.18217 | Acc: 95.667\n",
      "Epoch 013: | Loss: 0.17187 | Acc: 96.667\n",
      "Epoch 014: | Loss: 0.19777 | Acc: 93.000\n",
      "Epoch 015: | Loss: 0.14860 | Acc: 96.667\n",
      "Epoch 016: | Loss: 0.14373 | Acc: 98.333\n",
      "Epoch 017: | Loss: 0.13310 | Acc: 98.333\n",
      "Epoch 018: | Loss: 0.11920 | Acc: 97.000\n",
      "Epoch 019: | Loss: 0.10276 | Acc: 99.000\n",
      "Epoch 020: | Loss: 0.10275 | Acc: 97.667\n",
      "Epoch 021: | Loss: 0.08625 | Acc: 99.333\n",
      "Epoch 022: | Loss: 0.07555 | Acc: 98.667\n",
      "Epoch 023: | Loss: 0.08239 | Acc: 98.667\n",
      "Epoch 024: | Loss: 0.07141 | Acc: 98.667\n",
      "Epoch 025: | Loss: 0.06364 | Acc: 99.333\n",
      "time 0.259444\n",
      "0.8421052631578947\n",
      "              precision    recall  f1-score   support\n",
      "\n",
      "           0       0.83      0.71      0.77         7\n",
      "           1       0.85      0.92      0.88        12\n",
      "\n",
      "    accuracy                           0.84        19\n",
      "   macro avg       0.84      0.82      0.82        19\n",
      "weighted avg       0.84      0.84      0.84        19\n",
      "\n",
      "cpu\n",
      "BinaryClassification(\n",
      "  (layer_1): Linear(in_features=980, out_features=64, bias=True)\n",
      "  (layer_2): Linear(in_features=64, out_features=64, bias=True)\n",
      "  (layer_out): Linear(in_features=64, out_features=1, bias=True)\n",
      "  (relu): ReLU()\n",
      "  (dropout): Dropout(p=0.1, inplace=False)\n",
      "  (batchnorm1): BatchNorm1d(64, eps=1e-05, momentum=0.1, affine=True, track_running_stats=True)\n",
      "  (batchnorm2): BatchNorm1d(64, eps=1e-05, momentum=0.1, affine=True, track_running_stats=True)\n",
      ")\n",
      "Epoch 001: | Loss: 0.60459 | Acc: 70.333\n",
      "Epoch 002: | Loss: 0.44153 | Acc: 86.667\n",
      "Epoch 003: | Loss: 0.38341 | Acc: 88.333\n",
      "Epoch 004: | Loss: 0.33936 | Acc: 90.333\n",
      "Epoch 005: | Loss: 0.32463 | Acc: 91.667\n",
      "Epoch 006: | Loss: 0.31449 | Acc: 91.667\n",
      "Epoch 007: | Loss: 0.26514 | Acc: 92.333\n",
      "Epoch 008: | Loss: 0.26475 | Acc: 93.667\n",
      "Epoch 009: | Loss: 0.23540 | Acc: 94.333\n",
      "Epoch 010: | Loss: 0.23709 | Acc: 92.667\n",
      "Epoch 011: | Loss: 0.20037 | Acc: 97.000\n",
      "Epoch 012: | Loss: 0.20056 | Acc: 95.000\n",
      "Epoch 013: | Loss: 0.14986 | Acc: 97.667\n",
      "Epoch 014: | Loss: 0.13870 | Acc: 98.667\n",
      "Epoch 015: | Loss: 0.12502 | Acc: 99.333\n",
      "Epoch 016: | Loss: 0.11433 | Acc: 99.333\n",
      "Epoch 017: | Loss: 0.09947 | Acc: 97.667\n",
      "Epoch 018: | Loss: 0.10234 | Acc: 97.667\n",
      "Epoch 019: | Loss: 0.09717 | Acc: 98.667\n",
      "Epoch 020: | Loss: 0.07880 | Acc: 100.000\n",
      "Epoch 021: | Loss: 0.06489 | Acc: 99.333\n",
      "Epoch 022: | Loss: 0.07758 | Acc: 99.000\n",
      "Epoch 023: | Loss: 0.05920 | Acc: 99.333\n",
      "Epoch 024: | Loss: 0.07044 | Acc: 99.333\n",
      "Epoch 025: | Loss: 0.05801 | Acc: 100.000\n",
      "time 0.256265\n",
      "0.8421052631578947\n",
      "              precision    recall  f1-score   support\n",
      "\n",
      "           0       0.83      0.71      0.77         7\n",
      "           1       0.85      0.92      0.88        12\n",
      "\n",
      "    accuracy                           0.84        19\n",
      "   macro avg       0.84      0.82      0.82        19\n",
      "weighted avg       0.84      0.84      0.84        19\n",
      "\n",
      "cpu\n",
      "BinaryClassification(\n",
      "  (layer_1): Linear(in_features=980, out_features=64, bias=True)\n",
      "  (layer_2): Linear(in_features=64, out_features=64, bias=True)\n",
      "  (layer_out): Linear(in_features=64, out_features=1, bias=True)\n",
      "  (relu): ReLU()\n",
      "  (dropout): Dropout(p=0.1, inplace=False)\n",
      "  (batchnorm1): BatchNorm1d(64, eps=1e-05, momentum=0.1, affine=True, track_running_stats=True)\n",
      "  (batchnorm2): BatchNorm1d(64, eps=1e-05, momentum=0.1, affine=True, track_running_stats=True)\n",
      ")\n",
      "Epoch 001: | Loss: 0.59246 | Acc: 67.333\n",
      "Epoch 002: | Loss: 0.46983 | Acc: 81.667\n",
      "Epoch 003: | Loss: 0.40651 | Acc: 84.667\n",
      "Epoch 004: | Loss: 0.35551 | Acc: 90.333\n",
      "Epoch 005: | Loss: 0.31402 | Acc: 91.667\n",
      "Epoch 006: | Loss: 0.29891 | Acc: 92.333\n",
      "Epoch 007: | Loss: 0.30376 | Acc: 90.667\n",
      "Epoch 008: | Loss: 0.24748 | Acc: 94.000\n",
      "Epoch 009: | Loss: 0.22787 | Acc: 94.667\n",
      "Epoch 010: | Loss: 0.21479 | Acc: 93.667\n",
      "Epoch 011: | Loss: 0.17945 | Acc: 98.333\n",
      "Epoch 012: | Loss: 0.16750 | Acc: 96.667\n",
      "Epoch 013: | Loss: 0.15475 | Acc: 97.333\n",
      "Epoch 014: | Loss: 0.14188 | Acc: 98.333\n",
      "Epoch 015: | Loss: 0.12359 | Acc: 97.333\n",
      "Epoch 016: | Loss: 0.10670 | Acc: 98.333\n",
      "Epoch 017: | Loss: 0.10413 | Acc: 98.667\n",
      "Epoch 018: | Loss: 0.10482 | Acc: 97.667\n",
      "Epoch 019: | Loss: 0.08483 | Acc: 98.333\n",
      "Epoch 020: | Loss: 0.07750 | Acc: 99.333\n",
      "Epoch 021: | Loss: 0.06706 | Acc: 100.000\n",
      "Epoch 022: | Loss: 0.06188 | Acc: 99.333\n",
      "Epoch 023: | Loss: 0.06019 | Acc: 99.333\n",
      "Epoch 024: | Loss: 0.06060 | Acc: 99.333\n",
      "Epoch 025: | Loss: 0.06044 | Acc: 99.333\n",
      "time 0.254883\n",
      "0.8421052631578947\n",
      "              precision    recall  f1-score   support\n",
      "\n",
      "           0       0.83      0.71      0.77         7\n",
      "           1       0.85      0.92      0.88        12\n",
      "\n",
      "    accuracy                           0.84        19\n",
      "   macro avg       0.84      0.82      0.82        19\n",
      "weighted avg       0.84      0.84      0.84        19\n",
      "\n",
      "cpu\n",
      "BinaryClassification(\n",
      "  (layer_1): Linear(in_features=980, out_features=64, bias=True)\n",
      "  (layer_2): Linear(in_features=64, out_features=64, bias=True)\n",
      "  (layer_out): Linear(in_features=64, out_features=1, bias=True)\n",
      "  (relu): ReLU()\n",
      "  (dropout): Dropout(p=0.1, inplace=False)\n",
      "  (batchnorm1): BatchNorm1d(64, eps=1e-05, momentum=0.1, affine=True, track_running_stats=True)\n",
      "  (batchnorm2): BatchNorm1d(64, eps=1e-05, momentum=0.1, affine=True, track_running_stats=True)\n",
      ")\n",
      "Epoch 001: | Loss: 0.63329 | Acc: 67.000\n",
      "Epoch 002: | Loss: 0.43025 | Acc: 87.667\n",
      "Epoch 003: | Loss: 0.39058 | Acc: 86.667\n",
      "Epoch 004: | Loss: 0.35930 | Acc: 89.333\n",
      "Epoch 005: | Loss: 0.31921 | Acc: 89.000\n",
      "Epoch 006: | Loss: 0.27602 | Acc: 91.333\n",
      "Epoch 007: | Loss: 0.25209 | Acc: 93.000\n",
      "Epoch 008: | Loss: 0.23113 | Acc: 92.333\n",
      "Epoch 009: | Loss: 0.21252 | Acc: 95.333\n",
      "Epoch 010: | Loss: 0.19536 | Acc: 96.000\n",
      "Epoch 011: | Loss: 0.19607 | Acc: 96.000\n",
      "Epoch 012: | Loss: 0.16298 | Acc: 96.667\n",
      "Epoch 013: | Loss: 0.14562 | Acc: 96.667\n",
      "Epoch 014: | Loss: 0.13607 | Acc: 96.667\n",
      "Epoch 015: | Loss: 0.12201 | Acc: 99.333\n",
      "Epoch 016: | Loss: 0.10825 | Acc: 99.333\n",
      "Epoch 017: | Loss: 0.09429 | Acc: 98.667\n",
      "Epoch 018: | Loss: 0.09831 | Acc: 97.333\n",
      "Epoch 019: | Loss: 0.08533 | Acc: 98.667\n",
      "Epoch 020: | Loss: 0.07460 | Acc: 99.333\n",
      "Epoch 021: | Loss: 0.07251 | Acc: 99.333\n",
      "Epoch 022: | Loss: 0.06402 | Acc: 100.000\n",
      "Epoch 023: | Loss: 0.08185 | Acc: 99.333\n",
      "Epoch 024: | Loss: 0.06193 | Acc: 98.667\n",
      "Epoch 025: | Loss: 0.04598 | Acc: 100.000\n",
      "time 0.245663\n",
      "0.7894736842105263\n",
      "              precision    recall  f1-score   support\n",
      "\n",
      "           0       0.80      0.57      0.67         7\n",
      "           1       0.79      0.92      0.85        12\n",
      "\n",
      "    accuracy                           0.79        19\n",
      "   macro avg       0.79      0.74      0.76        19\n",
      "weighted avg       0.79      0.79      0.78        19\n",
      "\n"
     ]
    }
   ],
   "source": [
    "\n",
    "\n",
    "Ac=[]\n",
    "for ii in range(10):\n",
    "  from torch import optim\n",
    "  from sklearn.metrics import classification_report,accuracy_score\n",
    "\n",
    "\n",
    "  X_train, X_test, y_train, y_test = train_test_split(X, y, test_size=0.1, random_state=69)\n",
    "\n",
    "  EPOCHS = 25\n",
    "  BATCH_SIZE = 64\n",
    "  LEARNING_RATE = 0.001\n",
    "\n",
    "\n",
    "  ## train data\n",
    "  class TrainData():\n",
    "\n",
    "      def __init__(self, X_data, y_data):\n",
    "          self.X_data = X_data\n",
    "          self.y_data = y_data\n",
    "\n",
    "      def __getitem__(self, index):\n",
    "          return self.X_data[index], self.y_data[index]\n",
    "\n",
    "      def __len__ (self):\n",
    "          return len(self.X_data)\n",
    "\n",
    "\n",
    "  train_data = TrainData(torch.FloatTensor(X_train),\n",
    "                        torch.FloatTensor(y_train))\n",
    "  ## test data\n",
    "  class TestData():\n",
    "\n",
    "      def __init__(self, X_data):\n",
    "          self.X_data = X_data\n",
    "\n",
    "      def __getitem__(self, index):\n",
    "          return self.X_data[index]\n",
    "\n",
    "      def __len__ (self):\n",
    "          return len(self.X_data)\n",
    "\n",
    "  from torch import nn\n",
    "  test_data = TestData(torch.FloatTensor(X_test))\n",
    "\n",
    "  train_loader = DataLoader(dataset=train_data, batch_size=BATCH_SIZE, shuffle=True)\n",
    "  test_loader = DataLoader(dataset=test_data, batch_size=1)\n",
    "\n",
    "  class BinaryClassification(nn.Module):\n",
    "      def __init__(self):\n",
    "          super(BinaryClassification, self).__init__()\n",
    "          # Number of input features is 12.\n",
    "          self.layer_1 = nn.Linear(X.shape[1], 64)\n",
    "          self.layer_2 = nn.Linear(64, 64)\n",
    "          self.layer_out = nn.Linear(64, 1)\n",
    "\n",
    "          self.relu = nn.ReLU()\n",
    "          self.dropout = nn.Dropout(p=0.1)\n",
    "          self.batchnorm1 = nn.BatchNorm1d(64)\n",
    "          self.batchnorm2 = nn.BatchNorm1d(64)\n",
    "\n",
    "      def forward(self, inputs):\n",
    "          x = self.relu(self.layer_1(inputs))\n",
    "          x = self.batchnorm1(x)\n",
    "          x = self.relu(self.layer_2(x))\n",
    "          x = self.batchnorm2(x)\n",
    "          x = self.dropout(x)\n",
    "          x = self.layer_out(x)\n",
    "\n",
    "          return x\n",
    "\n",
    "  device = torch.device(\"cuda:0\" if torch.cuda.is_available() else \"cpu\")\n",
    "  print(device)\n",
    "\n",
    "  model = BinaryClassification()\n",
    "  model.to(device)\n",
    "  print(model)\n",
    "  criterion = nn.BCEWithLogitsLoss()\n",
    "  optimizer = optim.Adam(model.parameters(), lr=LEARNING_RATE)\n",
    "\n",
    "  def binary_acc(y_pred, y_test):\n",
    "      y_pred_tag = torch.round(torch.sigmoid(y_pred))\n",
    "\n",
    "      correct_results_sum = (y_pred_tag == y_test).sum().float()\n",
    "      acc = correct_results_sum/y_test.shape[0]\n",
    "      acc = torch.round(acc * 100)\n",
    "\n",
    "      return acc\n",
    "\n",
    "  model.train()\n",
    "  time1=datetime.now()\n",
    "  for e in range(1, EPOCHS+1):\n",
    "      epoch_loss = 0\n",
    "      epoch_acc = 0\n",
    "      for X_batch, y_batch in train_loader:\n",
    "          X_batch, y_batch = X_batch.to(device), y_batch.to(device)\n",
    "          optimizer.zero_grad()\n",
    "\n",
    "          y_pred = model(X_batch)\n",
    "\n",
    "          loss = criterion(y_pred, y_batch.unsqueeze(1))\n",
    "          acc = binary_acc(y_pred, y_batch.unsqueeze(1))\n",
    "\n",
    "          loss.backward()\n",
    "          optimizer.step()\n",
    "\n",
    "          epoch_loss += loss.item()\n",
    "          epoch_acc += acc.item()\n",
    "\n",
    "\n",
    "      print(f'Epoch {e+0:03}: | Loss: {epoch_loss/len(train_loader):.5f} | Acc: {epoch_acc/len(train_loader):.3f}')\n",
    "  time2=datetime.now()\n",
    "  print('time', (time2-time1).total_seconds())\n",
    "  y_pred_list = []\n",
    "  model.eval()\n",
    "  with torch.no_grad():\n",
    "      for X_batch in test_loader:\n",
    "          X_batch = X_batch.to(device)\n",
    "          y_test_pred = model(X_batch)\n",
    "          y_test_pred = torch.sigmoid(y_test_pred)\n",
    "          y_pred_tag = torch.round(y_test_pred)\n",
    "          y_pred_list.append(y_pred_tag.cpu().numpy())\n",
    "\n",
    "\n",
    "  y_pred_list = [a.squeeze().tolist() for a in y_pred_list]\n",
    "  ac=accuracy_score(y_test,y_pred_list)\n",
    "  print(ac)\n",
    "  Ac+=[ac]\n",
    "  print(classification_report(y_test, y_pred_list))"
   ]
  },
  {
   "cell_type": "code",
   "execution_count": null,
   "metadata": {
    "colab": {
     "base_uri": "https://localhost:8080/"
    },
    "id": "QQiYnPXZy0fM",
    "outputId": "beb01f95-7404-430e-f110-e31dbb1d0e80"
   },
   "outputs": [
    {
     "data": {
      "text/plain": [
       "[0.7894736842105263,\n",
       " 0.7894736842105263,\n",
       " 0.7894736842105263,\n",
       " 0.7894736842105263,\n",
       " 0.8421052631578947,\n",
       " 0.7894736842105263,\n",
       " 0.8421052631578947,\n",
       " 0.8421052631578947,\n",
       " 0.8421052631578947,\n",
       " 0.7894736842105263]"
      ]
     },
     "execution_count": 65,
     "metadata": {},
     "output_type": "execute_result"
    }
   ],
   "source": [
    "Ac"
   ]
  },
  {
   "cell_type": "code",
   "execution_count": null,
   "metadata": {
    "colab": {
     "base_uri": "https://localhost:8080/"
    },
    "id": "P4USFRp6gPPn",
    "outputId": "c387ce2a-fb3f-4fbe-fed9-e55db63a97f6"
   },
   "outputs": [
    {
     "data": {
      "text/plain": [
       "0.8105263157894737"
      ]
     },
     "execution_count": 66,
     "metadata": {},
     "output_type": "execute_result"
    }
   ],
   "source": [
    "np.mean(Ac)"
   ]
  },
  {
   "cell_type": "markdown",
   "metadata": {
    "id": "DDiByFxmDdVl"
   },
   "source": [
    "[0.72, 0.745, 0.725, 0.755, 0.725, 0.73, 0.74, 0.755, 0.745, 0.755]"
   ]
  },
  {
   "cell_type": "code",
   "execution_count": null,
   "metadata": {
    "id": "qkn6bzCVCHxl"
   },
   "outputs": [],
   "source": []
  }
 ],
 "metadata": {
  "colab": {
   "provenance": []
  },
  "kernelspec": {
   "display_name": "Python 3 (ipykernel)",
   "language": "python",
   "name": "python3"
  },
  "language_info": {
   "codemirror_mode": {
    "name": "ipython",
    "version": 3
   },
   "file_extension": ".py",
   "mimetype": "text/x-python",
   "name": "python",
   "nbconvert_exporter": "python",
   "pygments_lexer": "ipython3",
   "version": "3.11.3"
  }
 },
 "nbformat": 4,
 "nbformat_minor": 1
}
